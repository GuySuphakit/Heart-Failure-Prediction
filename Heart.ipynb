{
 "cells": [
  {
   "cell_type": "markdown",
   "id": "bbb47936-2d76-41d0-91ea-a8d8559d85d8",
   "metadata": {},
   "source": [
    "# Intro\n",
    "In this notebook I'll apply different EDA (Exploratory Data Analysis) techniques on the Heart Failure Prediction data.\n",
    "\n",
    "The goal is to predict if a patient will have a Heart Failure or not the using LightGBM Classifier to predict based on given medical features."
   ]
  },
  {
   "cell_type": "markdown",
   "id": "52e3b8dc-6ab8-467f-8b53-b27d9b7594ba",
   "metadata": {
    "tags": []
   },
   "source": [
    "## Attribute Information\n",
    "| Variable          | Definition                                                             | Key                                             |\n",
    "|-------------------|------------------------------------------------------------------------|-------------------------------------------------|\n",
    "| Age               | age of the patient                                                     | years                                           |\n",
    "| Sex               | sex of the patient                                                     | M = Male, F = Female                            |\n",
    "| ChestPainType     | chest pain type                                                        | TA = Typical Angina, ATA = Atypical Angina, NAP = Non-Anginal Pain, ASY = Asymptomatic                                                                                                               |  \n",
    "| RestingBP         | resting blood pressure                                                 | mm Hg                                           |\n",
    "| Cholesterol       | serum cholesterol                                                      | mm/dl                                           | \n",
    "| FastingBS         | fasting blood sugar                                                    | 1 = if FastingBS > 120 mg/dl, 0 = otherwise     |\n",
    "| RestingECG        | resting electrocardiogram results                                       | Normal = Normal, ST = having ST-T wave abnormality (T wave inversions and/or ST elevation or depression of > 0.05 mV), LVH = showing probable or definite left ventricular hypertrophy by Estes' criteria |\n",
    "| MaxHR             | maximum heart rate achieved                                            | Numeric value between 60 and 202                |\n",
    "| ExerciseAngina    | exercise-induced angina                                                | Y = Yes, N = No                                 |\n",
    "| Oldpeak           | oldpeak = ST                                                           | Numeric value measured in depression            |\n",
    "| ST_Slope          | the slope of the peak exercise ST segment                              | Up = upsloping, Flat = flat, Down = downsloping |\n",
    "| HeartDisease      | output class                                                           | 1 = heart disease, 0 = Normal                   |"
   ]
  },
  {
   "cell_type": "markdown",
   "id": "63585ce9-0ab0-401e-9bf2-4cf7d445b99e",
   "metadata": {},
   "source": [
    "# Import Libaries"
   ]
  },
  {
   "cell_type": "code",
   "execution_count": 1,
   "id": "822da16e",
   "metadata": {},
   "outputs": [
    {
     "data": {
      "text/html": [
       "        <script type=\"text/javascript\">\n",
       "        window.PlotlyConfig = {MathJaxConfig: 'local'};\n",
       "        if (window.MathJax) {MathJax.Hub.Config({SVG: {font: \"STIX-Web\"}});}\n",
       "        if (typeof require !== 'undefined') {\n",
       "        require.undef(\"plotly\");\n",
       "        requirejs.config({\n",
       "            paths: {\n",
       "                'plotly': ['https://cdn.plot.ly/plotly-2.2.0.min']\n",
       "            }\n",
       "        });\n",
       "        require(['plotly'], function(Plotly) {\n",
       "            window._Plotly = Plotly;\n",
       "        });\n",
       "        }\n",
       "        </script>\n",
       "        "
      ]
     },
     "metadata": {},
     "output_type": "display_data"
    }
   ],
   "source": [
    "import sys\n",
    "import math\n",
    "import pandas as pd\n",
    "import seaborn as sns\n",
    "import numpy as np\n",
    "import matplotlib.pyplot as plt\n",
    "from scipy import stats\n",
    "\n",
    "# import plotly\n",
    "import plotly.express as px\n",
    "import plotly.offline\n",
    "import cufflinks as cf\n",
    "cf.go_offline()\n",
    "cf.set_config_file(offline=False, world_readable=True)\n",
    "import ipywidgets as widgets\n",
    "from ipywidgets import interact\n",
    "\n",
    "sns.set_style('whitegrid')\n",
    "%matplotlib inline\n",
    "%config InlineBackend.figure_format = 'retina'"
   ]
  },
  {
   "cell_type": "code",
   "execution_count": 2,
   "id": "209c4715-2f74-4d65-b725-0e6c1bc125c1",
   "metadata": {},
   "outputs": [],
   "source": [
    "import warnings\n",
    "warnings.filterwarnings('ignore')"
   ]
  },
  {
   "cell_type": "code",
   "execution_count": 3,
   "id": "fe675bab",
   "metadata": {},
   "outputs": [
    {
     "name": "stdout",
     "output_type": "stream",
     "text": [
      "Python  version: 3.8.2 (default, Mar 26 2020, 10:43:30) \n",
      "[Clang 4.0.1 (tags/RELEASE_401/final)]\n",
      "pandas  version: 1.3.3\n",
      "numpy   version: 1.21.2\n",
      "seaborn version: 0.11.2\n"
     ]
    },
    {
     "data": {
      "text/plain": [
       "Timestamp('2021-11-05 12:31:41.936165')"
      ]
     },
     "execution_count": 3,
     "metadata": {},
     "output_type": "execute_result"
    }
   ],
   "source": [
    "print(f'Python  version: {sys.version}')\n",
    "print(f'pandas  version: {pd.__version__}')\n",
    "print(f'numpy   version: {np.__version__}')\n",
    "print(f'seaborn version: {sns.__version__}')\n",
    "\n",
    "pd.Timestamp.now()\n",
    "# pd.Timestamp.now().strftime('%Y-%m-%d')"
   ]
  },
  {
   "cell_type": "markdown",
   "id": "a68aebbf-a210-49f9-961b-6e8c061b5d8a",
   "metadata": {},
   "source": [
    "# Load data"
   ]
  },
  {
   "cell_type": "code",
   "execution_count": 4,
   "id": "177511e7",
   "metadata": {},
   "outputs": [
    {
     "data": {
      "text/html": [
       "<div>\n",
       "<style scoped>\n",
       "    .dataframe tbody tr th:only-of-type {\n",
       "        vertical-align: middle;\n",
       "    }\n",
       "\n",
       "    .dataframe tbody tr th {\n",
       "        vertical-align: top;\n",
       "    }\n",
       "\n",
       "    .dataframe thead th {\n",
       "        text-align: right;\n",
       "    }\n",
       "</style>\n",
       "<table border=\"1\" class=\"dataframe\">\n",
       "  <thead>\n",
       "    <tr style=\"text-align: right;\">\n",
       "      <th></th>\n",
       "      <th>Age</th>\n",
       "      <th>Sex</th>\n",
       "      <th>ChestPainType</th>\n",
       "      <th>RestingBP</th>\n",
       "      <th>Cholesterol</th>\n",
       "      <th>FastingBS</th>\n",
       "      <th>RestingECG</th>\n",
       "      <th>MaxHR</th>\n",
       "      <th>ExerciseAngina</th>\n",
       "      <th>Oldpeak</th>\n",
       "      <th>ST_Slope</th>\n",
       "      <th>HeartDisease</th>\n",
       "    </tr>\n",
       "  </thead>\n",
       "  <tbody>\n",
       "    <tr>\n",
       "      <th>0</th>\n",
       "      <td>40</td>\n",
       "      <td>M</td>\n",
       "      <td>ATA</td>\n",
       "      <td>140</td>\n",
       "      <td>289</td>\n",
       "      <td>0</td>\n",
       "      <td>Normal</td>\n",
       "      <td>172</td>\n",
       "      <td>N</td>\n",
       "      <td>0.0</td>\n",
       "      <td>Up</td>\n",
       "      <td>0</td>\n",
       "    </tr>\n",
       "    <tr>\n",
       "      <th>1</th>\n",
       "      <td>49</td>\n",
       "      <td>F</td>\n",
       "      <td>NAP</td>\n",
       "      <td>160</td>\n",
       "      <td>180</td>\n",
       "      <td>0</td>\n",
       "      <td>Normal</td>\n",
       "      <td>156</td>\n",
       "      <td>N</td>\n",
       "      <td>1.0</td>\n",
       "      <td>Flat</td>\n",
       "      <td>1</td>\n",
       "    </tr>\n",
       "    <tr>\n",
       "      <th>2</th>\n",
       "      <td>37</td>\n",
       "      <td>M</td>\n",
       "      <td>ATA</td>\n",
       "      <td>130</td>\n",
       "      <td>283</td>\n",
       "      <td>0</td>\n",
       "      <td>ST</td>\n",
       "      <td>98</td>\n",
       "      <td>N</td>\n",
       "      <td>0.0</td>\n",
       "      <td>Up</td>\n",
       "      <td>0</td>\n",
       "    </tr>\n",
       "    <tr>\n",
       "      <th>3</th>\n",
       "      <td>48</td>\n",
       "      <td>F</td>\n",
       "      <td>ASY</td>\n",
       "      <td>138</td>\n",
       "      <td>214</td>\n",
       "      <td>0</td>\n",
       "      <td>Normal</td>\n",
       "      <td>108</td>\n",
       "      <td>Y</td>\n",
       "      <td>1.5</td>\n",
       "      <td>Flat</td>\n",
       "      <td>1</td>\n",
       "    </tr>\n",
       "    <tr>\n",
       "      <th>4</th>\n",
       "      <td>54</td>\n",
       "      <td>M</td>\n",
       "      <td>NAP</td>\n",
       "      <td>150</td>\n",
       "      <td>195</td>\n",
       "      <td>0</td>\n",
       "      <td>Normal</td>\n",
       "      <td>122</td>\n",
       "      <td>N</td>\n",
       "      <td>0.0</td>\n",
       "      <td>Up</td>\n",
       "      <td>0</td>\n",
       "    </tr>\n",
       "  </tbody>\n",
       "</table>\n",
       "</div>"
      ],
      "text/plain": [
       "   Age Sex ChestPainType  RestingBP  Cholesterol  FastingBS RestingECG  MaxHR  \\\n",
       "0   40   M           ATA        140          289          0     Normal    172   \n",
       "1   49   F           NAP        160          180          0     Normal    156   \n",
       "2   37   M           ATA        130          283          0         ST     98   \n",
       "3   48   F           ASY        138          214          0     Normal    108   \n",
       "4   54   M           NAP        150          195          0     Normal    122   \n",
       "\n",
       "  ExerciseAngina  Oldpeak ST_Slope  HeartDisease  \n",
       "0              N      0.0       Up             0  \n",
       "1              N      1.0     Flat             1  \n",
       "2              N      0.0       Up             0  \n",
       "3              Y      1.5     Flat             1  \n",
       "4              N      0.0       Up             0  "
      ]
     },
     "execution_count": 4,
     "metadata": {},
     "output_type": "execute_result"
    }
   ],
   "source": [
    "url = 'https://raw.githubusercontent.com/GuySuphakit/Heart-Failure-Prediction/main/heart.csv'\n",
    "temp_df = pd.read_csv(url)\n",
    "temp_df.head()"
   ]
  },
  {
   "cell_type": "markdown",
   "id": "975f0a76-0504-419a-bdb5-babb76791b3d",
   "metadata": {
    "tags": []
   },
   "source": [
    "# Getting to know the data\n",
    "\n",
    "In this section, we'll take a quick look at the data, to see how many row are there, and whther there are any missing values or not, to decie what kind of preprocessing will be needed."
   ]
  },
  {
   "cell_type": "code",
   "execution_count": 5,
   "id": "e6b7fef7-419d-4fdd-aa96-927e74cc4a46",
   "metadata": {},
   "outputs": [
    {
     "name": "stdout",
     "output_type": "stream",
     "text": [
      "<class 'pandas.core.frame.DataFrame'>\n",
      "RangeIndex: 918 entries, 0 to 917\n",
      "Data columns (total 12 columns):\n",
      " #   Column          Non-Null Count  Dtype  \n",
      "---  ------          --------------  -----  \n",
      " 0   Age             918 non-null    int64  \n",
      " 1   Sex             918 non-null    object \n",
      " 2   ChestPainType   918 non-null    object \n",
      " 3   RestingBP       918 non-null    int64  \n",
      " 4   Cholesterol     918 non-null    int64  \n",
      " 5   FastingBS       918 non-null    int64  \n",
      " 6   RestingECG      918 non-null    object \n",
      " 7   MaxHR           918 non-null    int64  \n",
      " 8   ExerciseAngina  918 non-null    object \n",
      " 9   Oldpeak         918 non-null    float64\n",
      " 10  ST_Slope        918 non-null    object \n",
      " 11  HeartDisease    918 non-null    int64  \n",
      "dtypes: float64(1), int64(6), object(5)\n",
      "memory usage: 86.2+ KB\n"
     ]
    }
   ],
   "source": [
    "temp_df.info()"
   ]
  },
  {
   "cell_type": "markdown",
   "id": "36c9c33a-da28-46ef-85fa-428c4b352776",
   "metadata": {},
   "source": [
    "The dataset consists of 918 samples and 12 columns : 8 predictors and one target variable and there are no missing values (which is a very good thing!) but looking at the dtypes. It seems that all discrete columns are in object and continuous in int64."
   ]
  },
  {
   "cell_type": "markdown",
   "id": "2ce03005-46c9-4bf7-866a-78cd3b159539",
   "metadata": {},
   "source": [
    "# Data cleaning"
   ]
  },
  {
   "cell_type": "markdown",
   "id": "45d46604-736f-4a6f-b083-d25bc536b789",
   "metadata": {},
   "source": [
    "As stated in the previous section, only few cleaning will be perform, mainly:\n",
    "- Convert discrete columns to category\n",
    "- If there is any duplicate data, drop it."
   ]
  },
  {
   "cell_type": "code",
   "execution_count": 6,
   "id": "d98d5645-50b5-4d45-a931-21bf690896ed",
   "metadata": {},
   "outputs": [],
   "source": [
    "def read_data():\n",
    "    url = 'https://raw.githubusercontent.com/GuySuphakit/Heart-Failure-Prediction/main/heart.csv'\n",
    "    df = pd.read_csv(url)\n",
    "    return df\n",
    "\n",
    "def change_lebel_of_HeartDisease(df):\n",
    "    # change the lebel of HeartDisease because it has caused some ambiguity.\n",
    "    df.HeartDisease = df.HeartDisease.replace({0: 'Normal', 1: 'Heart Disease'})\n",
    "    return df\n",
    "\n",
    "def convert_obj_columns_to_category(df):\n",
    "    for c in df.columns:\n",
    "        col_type = df[c].dtype\n",
    "        if col_type == 'object' or col_type.name == 'category':\n",
    "            df[c] = df[c].astype('category')\n",
    "    return df\n",
    "\n",
    "def drop_duplicate(df):\n",
    "    df = df.drop_duplicates()\n",
    "    return df"
   ]
  },
  {
   "cell_type": "code",
   "execution_count": 7,
   "id": "79ba3cb3-dcb5-48aa-8d4f-2bd88e4f6b57",
   "metadata": {},
   "outputs": [
    {
     "data": {
      "text/html": [
       "<div>\n",
       "<style scoped>\n",
       "    .dataframe tbody tr th:only-of-type {\n",
       "        vertical-align: middle;\n",
       "    }\n",
       "\n",
       "    .dataframe tbody tr th {\n",
       "        vertical-align: top;\n",
       "    }\n",
       "\n",
       "    .dataframe thead th {\n",
       "        text-align: right;\n",
       "    }\n",
       "</style>\n",
       "<table border=\"1\" class=\"dataframe\">\n",
       "  <thead>\n",
       "    <tr style=\"text-align: right;\">\n",
       "      <th></th>\n",
       "      <th>Age</th>\n",
       "      <th>Sex</th>\n",
       "      <th>ChestPainType</th>\n",
       "      <th>RestingBP</th>\n",
       "      <th>Cholesterol</th>\n",
       "      <th>FastingBS</th>\n",
       "      <th>RestingECG</th>\n",
       "      <th>MaxHR</th>\n",
       "      <th>ExerciseAngina</th>\n",
       "      <th>Oldpeak</th>\n",
       "      <th>ST_Slope</th>\n",
       "      <th>HeartDisease</th>\n",
       "    </tr>\n",
       "  </thead>\n",
       "  <tbody>\n",
       "    <tr>\n",
       "      <th>0</th>\n",
       "      <td>40</td>\n",
       "      <td>M</td>\n",
       "      <td>ATA</td>\n",
       "      <td>140</td>\n",
       "      <td>289</td>\n",
       "      <td>0</td>\n",
       "      <td>Normal</td>\n",
       "      <td>172</td>\n",
       "      <td>N</td>\n",
       "      <td>0.0</td>\n",
       "      <td>Up</td>\n",
       "      <td>Normal</td>\n",
       "    </tr>\n",
       "    <tr>\n",
       "      <th>1</th>\n",
       "      <td>49</td>\n",
       "      <td>F</td>\n",
       "      <td>NAP</td>\n",
       "      <td>160</td>\n",
       "      <td>180</td>\n",
       "      <td>0</td>\n",
       "      <td>Normal</td>\n",
       "      <td>156</td>\n",
       "      <td>N</td>\n",
       "      <td>1.0</td>\n",
       "      <td>Flat</td>\n",
       "      <td>Heart Disease</td>\n",
       "    </tr>\n",
       "    <tr>\n",
       "      <th>2</th>\n",
       "      <td>37</td>\n",
       "      <td>M</td>\n",
       "      <td>ATA</td>\n",
       "      <td>130</td>\n",
       "      <td>283</td>\n",
       "      <td>0</td>\n",
       "      <td>ST</td>\n",
       "      <td>98</td>\n",
       "      <td>N</td>\n",
       "      <td>0.0</td>\n",
       "      <td>Up</td>\n",
       "      <td>Normal</td>\n",
       "    </tr>\n",
       "    <tr>\n",
       "      <th>3</th>\n",
       "      <td>48</td>\n",
       "      <td>F</td>\n",
       "      <td>ASY</td>\n",
       "      <td>138</td>\n",
       "      <td>214</td>\n",
       "      <td>0</td>\n",
       "      <td>Normal</td>\n",
       "      <td>108</td>\n",
       "      <td>Y</td>\n",
       "      <td>1.5</td>\n",
       "      <td>Flat</td>\n",
       "      <td>Heart Disease</td>\n",
       "    </tr>\n",
       "    <tr>\n",
       "      <th>4</th>\n",
       "      <td>54</td>\n",
       "      <td>M</td>\n",
       "      <td>NAP</td>\n",
       "      <td>150</td>\n",
       "      <td>195</td>\n",
       "      <td>0</td>\n",
       "      <td>Normal</td>\n",
       "      <td>122</td>\n",
       "      <td>N</td>\n",
       "      <td>0.0</td>\n",
       "      <td>Up</td>\n",
       "      <td>Normal</td>\n",
       "    </tr>\n",
       "  </tbody>\n",
       "</table>\n",
       "</div>"
      ],
      "text/plain": [
       "   Age Sex ChestPainType  RestingBP  Cholesterol  FastingBS RestingECG  MaxHR  \\\n",
       "0   40   M           ATA        140          289          0     Normal    172   \n",
       "1   49   F           NAP        160          180          0     Normal    156   \n",
       "2   37   M           ATA        130          283          0         ST     98   \n",
       "3   48   F           ASY        138          214          0     Normal    108   \n",
       "4   54   M           NAP        150          195          0     Normal    122   \n",
       "\n",
       "  ExerciseAngina  Oldpeak ST_Slope   HeartDisease  \n",
       "0              N      0.0       Up         Normal  \n",
       "1              N      1.0     Flat  Heart Disease  \n",
       "2              N      0.0       Up         Normal  \n",
       "3              Y      1.5     Flat  Heart Disease  \n",
       "4              N      0.0       Up         Normal  "
      ]
     },
     "execution_count": 7,
     "metadata": {},
     "output_type": "execute_result"
    }
   ],
   "source": [
    "df = (read_data()\n",
    "      .pipe(change_lebel_of_HeartDisease)\n",
    "      .pipe(convert_obj_columns_to_category)\n",
    "      .pipe(drop_duplicate))\n",
    "      \n",
    "df.head()"
   ]
  },
  {
   "cell_type": "code",
   "execution_count": 8,
   "id": "d7fe978f-a3b6-4e72-8d13-1b1518761598",
   "metadata": {},
   "outputs": [
    {
     "name": "stdout",
     "output_type": "stream",
     "text": [
      "<class 'pandas.core.frame.DataFrame'>\n",
      "Int64Index: 918 entries, 0 to 917\n",
      "Data columns (total 12 columns):\n",
      " #   Column          Non-Null Count  Dtype   \n",
      "---  ------          --------------  -----   \n",
      " 0   Age             918 non-null    int64   \n",
      " 1   Sex             918 non-null    category\n",
      " 2   ChestPainType   918 non-null    category\n",
      " 3   RestingBP       918 non-null    int64   \n",
      " 4   Cholesterol     918 non-null    int64   \n",
      " 5   FastingBS       918 non-null    int64   \n",
      " 6   RestingECG      918 non-null    category\n",
      " 7   MaxHR           918 non-null    int64   \n",
      " 8   ExerciseAngina  918 non-null    category\n",
      " 9   Oldpeak         918 non-null    float64 \n",
      " 10  ST_Slope        918 non-null    category\n",
      " 11  HeartDisease    918 non-null    category\n",
      "dtypes: category(6), float64(1), int64(5)\n",
      "memory usage: 56.4 KB\n"
     ]
    }
   ],
   "source": [
    "df.info()"
   ]
  },
  {
   "cell_type": "code",
   "execution_count": 9,
   "id": "8baf986e",
   "metadata": {},
   "outputs": [
    {
     "name": "stdout",
     "output_type": "stream",
     "text": [
      "Sex            : [(0, 'F'), (1, 'M')]\n",
      "------------------------------------------------------------\n",
      "ChestPainType  : [(0, 'ASY'), (1, 'ATA'), (2, 'NAP'), (3, 'TA')]\n",
      "------------------------------------------------------------\n",
      "RestingECG     : [(0, 'LVH'), (1, 'Normal'), (2, 'ST')]\n",
      "------------------------------------------------------------\n",
      "ExerciseAngina : [(0, 'N'), (1, 'Y')]\n",
      "------------------------------------------------------------\n",
      "ST_Slope       : [(0, 'Down'), (1, 'Flat'), (2, 'Up')]\n",
      "------------------------------------------------------------\n",
      "HeartDisease   : [(0, 'Heart Disease'), (1, 'Normal')]\n",
      "------------------------------------------------------------\n"
     ]
    }
   ],
   "source": [
    "def print_category_columns(df):\n",
    "    for c in df.columns:\n",
    "        col_type = df[c].dtype\n",
    "        if col_type.name == 'category':\n",
    "            print(f'{c:15}: {list(enumerate(df[c].cat.categories))}')\n",
    "            print('-' * 60)\n",
    "\n",
    "print_category_columns(df)"
   ]
  },
  {
   "cell_type": "code",
   "execution_count": 10,
   "metadata": {},
   "outputs": [
    {
     "name": "stdout",
     "output_type": "stream",
     "text": [
      "<class 'pandas.core.frame.DataFrame'>\n",
      "Int64Index: 918 entries, 0 to 917\n",
      "Data columns (total 12 columns):\n",
      " #   Column          Non-Null Count  Dtype   \n",
      "---  ------          --------------  -----   \n",
      " 0   Age             918 non-null    int64   \n",
      " 1   Sex             918 non-null    category\n",
      " 2   ChestPainType   918 non-null    category\n",
      " 3   RestingBP       918 non-null    int64   \n",
      " 4   Cholesterol     918 non-null    int64   \n",
      " 5   FastingBS       918 non-null    int64   \n",
      " 6   RestingECG      918 non-null    category\n",
      " 7   MaxHR           918 non-null    int64   \n",
      " 8   ExerciseAngina  918 non-null    category\n",
      " 9   Oldpeak         918 non-null    float64 \n",
      " 10  ST_Slope        918 non-null    category\n",
      " 11  HeartDisease    918 non-null    category\n",
      "dtypes: category(6), float64(1), int64(5)\n",
      "memory usage: 56.4 KB\n"
     ]
    }
   ],
   "source": [
    "df.info()"
   ]
  },
  {
   "cell_type": "markdown",
   "id": "6b6c1308-28b3-4c56-9d1b-410a9781e69b",
   "metadata": {},
   "source": [
    "We cleaned the data with a clean code!"
   ]
  },
  {
   "cell_type": "markdown",
   "id": "786ef9c4-55b9-4a45-b00f-a2bef0e76830",
   "metadata": {
    "tags": []
   },
   "source": [
    "# Exploratory Data Analysis (EDA)\n",
    "In this section, we'll explore the data visually and summarize it using descriptive statistic methods.\n",
    "\n",
    "To keep things simpler, we'll divide this section into three subsections:\n",
    "\n",
    "1. Univariate analysis: in this section we'll focus only at one variable at a time, and study the variable descriptive statistics with some charts like: Bar chart, Line chart, Histogram, Boxplot, etc ..., and how the variable is distributed, and if there is any skewness in the distribution.\n",
    "2. Bivariate analysis: in this section we'll study the relation between two variables, and present different statistics such as Correlation, Covariance, and will use some other charts like: scatterplot, and will make use of the hue parameter of the previous charts.\n",
    "3. Multivariate analysis: in this section we'll study the relation between three or more variables, and will use additional type of charts, such as parplot."
   ]
  },
  {
   "cell_type": "markdown",
   "id": "988520e6-2377-44f6-a5b4-0da7bd27ba90",
   "metadata": {},
   "source": [
    "## Overall\n",
    "Let's briefly see overall image of our dataset :"
   ]
  },
  {
   "cell_type": "code",
   "execution_count": 11,
   "id": "ada75f25",
   "metadata": {},
   "outputs": [
    {
     "data": {
      "image/png": "[encoded data removed]",
      "text/plain": [
       "<Figure size 864x756 with 12 Axes>"
      ]
     },
     "metadata": {
      "image/png": {
       "height": 759,
       "width": 863
      },
      "needs_background": "light"
     },
     "output_type": "display_data"
    }
   ],
   "source": [
    "def plot_mn(df, cols, n_rows:int=1, kind:str='boxplot', color='salmon'):\n",
    "    \"\"\"\n",
    "    plot boxplot, violin, hist in m (rows) by n (columns)\n",
    "    >>> plot_mn(df, ['Calories', 'Fat'], 2, 'hist')\n",
    "    \"\"\"\n",
    "    n=len(cols)\n",
    "    n_cols=math.ceil(n / n_rows)\n",
    "    fig, ax = plt.subplots(n_rows, n_cols, figsize=(n_cols*3, n_rows*3.5))\n",
    "    ax=ax.ravel()\n",
    "\n",
    "    fig.tight_layout()\n",
    "    for i, c in enumerate(cols):\n",
    "        col_type = df[c].dtype\n",
    "        if col_type.name == 'category':\n",
    "            sns.countplot(data=df, x=c, ax=ax[i])\n",
    "        else:\n",
    "            if kind.lower()=='boxplot':\n",
    "                sns.boxplot(data=df[[c]], ax=ax[i], color=color)   \n",
    "            if kind.lower()=='boxen':\n",
    "                sns.boxenplot(data=df[[c]], ax=ax[i], color=color)   \n",
    "            elif kind.lower()=='violin':\n",
    "                sns.violinplot(data=df[[c]], ax=ax[i], color=color)   \n",
    "            elif kind.lower()=='hist':\n",
    "                sns.distplot(df[c], hist=True, kde=False, ax=ax[i], color=color)  \n",
    "\n",
    "plot_mn(df, df.columns, 3, 'hist')"
   ]
  },
  {
   "cell_type": "code",
   "execution_count": 12,
   "id": "a76e3431",
   "metadata": {},
   "outputs": [
    {
     "data": {
      "text/plain": [
       "Index(['Age', 'Sex', 'ChestPainType', 'RestingBP', 'Cholesterol', 'FastingBS',\n",
       "       'RestingECG', 'MaxHR', 'ExerciseAngina', 'Oldpeak', 'ST_Slope',\n",
       "       'HeartDisease'],\n",
       "      dtype='object')"
      ]
     },
     "execution_count": 12,
     "metadata": {},
     "output_type": "execute_result"
    }
   ],
   "source": [
    "df.columns"
   ]
  },
  {
   "cell_type": "code",
   "execution_count": null,
   "id": "b90112c5",
   "metadata": {},
   "outputs": [],
   "source": [
    "df.describe().T.round(1)"
   ]
  },
  {
   "cell_type": "code",
   "execution_count": null,
   "metadata": {},
   "outputs": [],
   "source": [
    "df.describe(include='category').T"
   ]
  },
  {
   "cell_type": "code",
   "execution_count": null,
   "metadata": {},
   "outputs": [],
   "source": [
    "numerical= df.select_dtypes('int64').columns\n",
    "\n",
    "categorical = df.select_dtypes('category').columns\n",
    "\n",
    "print(f'Numerical Columns:  {df[numerical].columns}')\n",
    "print('-'* 100)\n",
    "print(f'Categorical Columns: {df[categorical].columns}')"
   ]
  },
  {
   "cell_type": "code",
   "execution_count": null,
   "metadata": {},
   "outputs": [],
   "source": [
    "df.nunique()"
   ]
  },
  {
   "cell_type": "markdown",
   "id": "ceee4c82-207d-4c36-b281-e85f5ec3e4b8",
   "metadata": {},
   "source": [
    "## Univariate Analysis\n"
   ]
  },
  {
   "cell_type": "markdown",
   "id": "7bba72d8-0dfd-4b96-917e-123379b8f50a",
   "metadata": {},
   "source": [
    "Here in this section, will perform analysis on each variable individually, but according to the variable type different methods and visualization will be used, main types of variables:\n",
    "- Numerical\n",
    "    - Continuous: continuous variables are continous measurements.\n",
    "    - Discrete: discrete variables represent counts.\n",
    "- Categorical\n",
    "    - Nominal: nominal variable has a finite set of possible values, which don't have any ordereing relation among them.\n",
    "    - Ordinal: in contrast to Nominal variable, ordinal varible defines an ordering relation between the values.\n",
    "    - Binary: binary variables are a special case of nominal variables, but they only have two possible values."
   ]
  },
  {
   "cell_type": "markdown",
   "id": "a953d4dd-dde1-40a9-b66b-b8cc18539bc1",
   "metadata": {},
   "source": [
    "Types of varibles\n",
    "- Continuous: Age, RestingBP, Cholesterol, Oldpeak and MaxHR  are continuous variables.\n",
    "- Norminal: ChestPainType and RestingECG is nominal variables.\n",
    "- Binary: Sex , ExerciseAngina, FastingBS and ST_Slope are a binary variable."
   ]
  },
  {
   "cell_type": "markdown",
   "id": "16d497d0-004b-4918-97c6-c5be1345e6af",
   "metadata": {},
   "source": [
    "### Age\n",
    "The Age is a Continuous variable."
   ]
  },
  {
   "cell_type": "code",
   "execution_count": null,
   "id": "b42d7654-d014-4434-8755-fb175d596ebb",
   "metadata": {},
   "outputs": [],
   "source": [
    "df[\"Age\"].describe().round(1)"
   ]
  },
  {
   "cell_type": "code",
   "execution_count": null,
   "id": "e0698765-e76d-47ba-a944-85b86cc06b99",
   "metadata": {},
   "outputs": [],
   "source": [
    "df.Age.mode()[0]"
   ]
  },
  {
   "cell_type": "code",
   "execution_count": null,
   "id": "2d7593ee-481f-4a12-ad32-c6e9c180a93a",
   "metadata": {},
   "outputs": [],
   "source": [
    "print(stats.skew(df.Age))"
   ]
  },
  {
   "cell_type": "code",
   "execution_count": null,
   "id": "b7e8e227",
   "metadata": {},
   "outputs": [],
   "source": [
    "fig = px.histogram(df, x='Age', marginal='box')\n",
    "fig.update_traces(marker_line_width=1, marker_line_color=\"black\")\n",
    "fig.show()"
   ]
  },
  {
   "cell_type": "markdown",
   "id": "bbfd32ec-000f-485f-b70c-270f80ab14fa",
   "metadata": {},
   "source": [
    "We can conclude from this chats following:\n",
    "- The Age is very close to a normal distribution, with a smll negative skewness (left skewed)\n",
    "- The most common scores are between 47 and 60\n",
    "- The average age is 53.5 with a standard deviation of 9.4\n",
    "- There are no outliers"
   ]
  },
  {
   "cell_type": "markdown",
   "id": "a29113a9-1b10-47bc-9dcc-da05f8a5db2e",
   "metadata": {},
   "source": [
    "### Sex\n",
    "The Sex variable indicates whether the patient' sex is male or female, so it's a binary variable."
   ]
  },
  {
   "cell_type": "code",
   "execution_count": null,
   "id": "9cf27d42-ee83-4c3a-8f37-2fc4694bf33f",
   "metadata": {},
   "outputs": [],
   "source": [
    "df.Sex.value_counts()"
   ]
  },
  {
   "cell_type": "code",
   "execution_count": null,
   "id": "ed52604d-5acf-44a9-bb2a-633736ff66a5",
   "metadata": {},
   "outputs": [],
   "source": [
    "temp_df = df.groupby(by=\"Sex\", as_index=False).agg(\n",
    "    counts=pd.NamedAgg(column=\"Sex\", aggfunc=\"count\")).sort_values(by=\"counts\", ascending=False)\n",
    "\n",
    "fig = px.bar(temp_df, \n",
    "            x='Sex', \n",
    "            y='counts',\n",
    "            color='Sex',\n",
    "            color_continuous_scale=px.colors.qualitative.D3)\n",
    "\n",
    "fig.update_traces(marker_line_width=1, marker_line_color=\"black\")\n",
    "fig.show()"
   ]
  },
  {
   "cell_type": "markdown",
   "id": "9a090a8a-0598-4c71-8088-2368a015f353",
   "metadata": {},
   "source": [
    "### ChestPainType\n",
    "The ChestPainType is nominal variables."
   ]
  },
  {
   "cell_type": "code",
   "execution_count": null,
   "id": "88c692bb-4724-4b76-9a8f-37be5fe8ac09",
   "metadata": {},
   "outputs": [],
   "source": [
    "df.ChestPainType.value_counts()"
   ]
  },
  {
   "cell_type": "code",
   "execution_count": null,
   "id": "60d3603b-f5b4-4de0-a992-0e292f007bf4",
   "metadata": {},
   "outputs": [],
   "source": [
    "temp_df = df.groupby(by=\"ChestPainType\", as_index=False).agg(\n",
    "    counts=pd.NamedAgg(column=\"ChestPainType\", aggfunc=\"count\")).sort_values(by=\"counts\", ascending=False)\n",
    "\n",
    "fig = px.bar(temp_df,\n",
    "            x='ChestPainType',\n",
    "            y='counts',\n",
    "            color='counts',\n",
    "            color_discrete_sequence = px.colors.qualitative.D3)\n",
    "fig.update_traces(marker_line_width=1, marker_line_color=\"black\")\n",
    "fig.show()"
   ]
  },
  {
   "cell_type": "markdown",
   "id": "eab38d11-39d0-4fd9-9b1f-85f6e8e5bc66",
   "metadata": {},
   "source": [
    "Most of ChestPainType is ASY.\n",
    "- TA = Typical Angina \n",
    "- ATA = Atypical Angina\n",
    "- NAP = Non-Anginal Pain\n",
    "- ASY = Asymptomatic"
   ]
  },
  {
   "cell_type": "markdown",
   "id": "6e2b6fa4-b2e5-4af2-91a9-0bd81adccb63",
   "metadata": {},
   "source": [
    "### RestingBP\n",
    "The RestingBP(resting blood pressure) is continous variable."
   ]
  },
  {
   "cell_type": "code",
   "execution_count": null,
   "id": "52bd6ae0-aa74-4b28-b3b4-4ff02deb2b0f",
   "metadata": {},
   "outputs": [],
   "source": [
    "df.RestingBP.describe().round()"
   ]
  },
  {
   "cell_type": "code",
   "execution_count": null,
   "id": "d445bab4-c1d0-4cb9-9251-82aa9b206b1a",
   "metadata": {},
   "outputs": [],
   "source": [
    "df.RestingBP.mode()[0]"
   ]
  },
  {
   "cell_type": "code",
   "execution_count": null,
   "id": "4e3a94a4-28e2-4ff6-8b3b-de08b1cfc83b",
   "metadata": {},
   "outputs": [],
   "source": [
    "print(stats.skew(df.RestingBP))"
   ]
  },
  {
   "cell_type": "code",
   "execution_count": null,
   "id": "3494fb57-30ae-4eaf-b3ff-876eb893148b",
   "metadata": {},
   "outputs": [],
   "source": [
    "fig = px.histogram(df, x='RestingBP', marginal='box')\n",
    "fig.update_traces(marker_line_width=1, marker_line_color=\"black\")\n",
    "fig.show()"
   ]
  },
  {
   "cell_type": "code",
   "execution_count": null,
   "id": "6641c8d8-efe3-4900-bb52-0f89a5f1c695",
   "metadata": {},
   "outputs": [],
   "source": [
    "df[df['RestingBP'] == 0]"
   ]
  },
  {
   "cell_type": "markdown",
   "id": "1dc7831a-5f97-4f11-959f-4cc3d85368d3",
   "metadata": {},
   "source": [
    "The plot shows that:\n",
    "- most patient have resting blood pressure between 120 and 140\n",
    "- The distribution is moderately skewd to the right with a positive skew value 0.18\n",
    "- There is 1 record with RestingBP = 0, which is not normal."
   ]
  },
  {
   "cell_type": "markdown",
   "id": "a16f9ab6-56f8-4697-95a9-ee31c09d058f",
   "metadata": {},
   "source": [
    "### Cholesterol\n",
    "The Cholesterol is continuous varible."
   ]
  },
  {
   "cell_type": "code",
   "execution_count": null,
   "id": "4be01da9-a6b2-497f-870b-0acfdc75c11c",
   "metadata": {},
   "outputs": [],
   "source": [
    "df.Cholesterol.describe().round()"
   ]
  },
  {
   "cell_type": "code",
   "execution_count": null,
   "id": "3738156c-6562-4d18-960f-867c9d854268",
   "metadata": {},
   "outputs": [],
   "source": [
    "df.Cholesterol.mode()[0]"
   ]
  },
  {
   "cell_type": "code",
   "execution_count": null,
   "id": "93bc1cc7-6c76-4b29-bb67-9cb4edf44a89",
   "metadata": {},
   "outputs": [],
   "source": [
    "print(stats.skew(df.Cholesterol))"
   ]
  },
  {
   "cell_type": "code",
   "execution_count": null,
   "id": "cd426181-e419-41bf-a5c2-d12cd9bcc8ef",
   "metadata": {},
   "outputs": [],
   "source": [
    "fig = px.histogram(df, x='Cholesterol', marginal='box')\n",
    "fig.update_traces(marker_line_width=1, marker_line_color=\"black\")\n",
    "fig.show()"
   ]
  },
  {
   "cell_type": "code",
   "execution_count": null,
   "id": "0066edf9-cb17-43a2-8f5e-14ba839fc6df",
   "metadata": {},
   "outputs": [],
   "source": [
    "df[df['Cholesterol'] == 0].head()"
   ]
  },
  {
   "cell_type": "code",
   "execution_count": null,
   "id": "01532ec4-ae3c-482b-ab29-8a062f96cbd5",
   "metadata": {},
   "outputs": [],
   "source": [
    "df[df['Cholesterol'] >= 500]['Cholesterol']"
   ]
  },
  {
   "cell_type": "markdown",
   "id": "56162db0-d185-47e4-ba69-8068e3e43a42",
   "metadata": {},
   "source": [
    "There are many patients who are not supposed to have Choresterol = 0, which is impossible and the outliers are above value 458 since such high Cholesterol is only seen in a small number of people. We require more processing to analyse data statistics."
   ]
  },
  {
   "cell_type": "markdown",
   "id": "10bf6864-8e9e-46e0-a35b-323a9504db0e",
   "metadata": {},
   "source": [
    "### FastingBS\n",
    "The FastingBS(fasting blood sugar) is binary variable since \t1 = if FastingBS > 120 mg/dl, 0 = otherwise."
   ]
  },
  {
   "cell_type": "code",
   "execution_count": null,
   "id": "bb740d7e-889d-42bd-9be3-7b5cacc1d36e",
   "metadata": {},
   "outputs": [],
   "source": [
    "df.FastingBS.value_counts()"
   ]
  },
  {
   "cell_type": "code",
   "execution_count": null,
   "id": "f446bd92-4a24-4c5f-9305-c8ece36a9f45",
   "metadata": {},
   "outputs": [],
   "source": [
    "fig = px.histogram(df, x='FastingBS', color='FastingBS')\n",
    "fig.update_traces(marker_line_width=1, marker_line_color=\"black\")\n",
    "fig.show()"
   ]
  },
  {
   "cell_type": "markdown",
   "id": "1c9810c3-efc1-45d2-85f4-f48f134d578b",
   "metadata": {},
   "source": [
    "### RestingECG\n",
    "RestingECG stands for resting electrocardiogram results and it have Normal, ST and LVH. so, this is an norminal variable.\n",
    "\n"
   ]
  },
  {
   "cell_type": "code",
   "execution_count": null,
   "metadata": {},
   "outputs": [],
   "source": [
    "df[\"RestingECG\"].value_counts()"
   ]
  },
  {
   "cell_type": "code",
   "execution_count": null,
   "metadata": {},
   "outputs": [],
   "source": [
    "temp_df = df.groupby(by=\"RestingECG\", as_index=False).agg(\n",
    "    counts=pd.NamedAgg(column=\"RestingECG\", aggfunc=\"count\")).sort_values(by=\"counts\", ascending=False)"
   ]
  },
  {
   "cell_type": "code",
   "execution_count": null,
   "metadata": {},
   "outputs": [],
   "source": [
    "fig = px.bar(temp_df,\n",
    "            x='RestingECG',\n",
    "            y='counts',\n",
    "            color='counts',\n",
    "            color_discrete_sequence = px.colors.qualitative.D3)\n",
    "fig.update_traces(marker_line_width=1, marker_line_color=\"black\")\n",
    "fig.show()"
   ]
  },
  {
   "cell_type": "markdown",
   "id": "08dd1c6d-c7db-4b34-ad36-a5c12ca200ae",
   "metadata": {},
   "source": [
    "### MaxHR\n",
    "It's Continuos variable."
   ]
  },
  {
   "cell_type": "code",
   "execution_count": null,
   "metadata": {},
   "outputs": [],
   "source": [
    "df.MaxHR.describe().round()"
   ]
  },
  {
   "cell_type": "code",
   "execution_count": null,
   "metadata": {},
   "outputs": [],
   "source": [
    "df.MaxHR.mode()[0]"
   ]
  },
  {
   "cell_type": "code",
   "execution_count": null,
   "metadata": {},
   "outputs": [],
   "source": [
    "df.MaxHR.skew()"
   ]
  },
  {
   "cell_type": "code",
   "execution_count": null,
   "metadata": {},
   "outputs": [],
   "source": [
    "fig = px.histogram(df, x='MaxHR', marginal='box')\n",
    "fig.update_traces(marker_line_width=1, marker_line_color=\"black\")\n",
    "fig.show()"
   ]
  },
  {
   "cell_type": "markdown",
   "metadata": {},
   "source": [
    "This variable looking like a normal distribution, with a small negative skewness."
   ]
  },
  {
   "cell_type": "markdown",
   "id": "3b549aae-83a5-45df-87d5-05496d94d9e8",
   "metadata": {},
   "source": [
    "### ExerciseAngina\n",
    "It's binary variable."
   ]
  },
  {
   "cell_type": "code",
   "execution_count": null,
   "metadata": {},
   "outputs": [],
   "source": [
    "df.ExerciseAngina.value_counts()"
   ]
  },
  {
   "cell_type": "code",
   "execution_count": null,
   "metadata": {},
   "outputs": [],
   "source": [
    "temp_df = df.groupby(by=\"ExerciseAngina\", as_index=False).agg(\n",
    "    counts=pd.NamedAgg(column=\"ExerciseAngina\", aggfunc=\"count\")).sort_values(by=\"counts\", ascending=False)\n",
    "\n",
    "fig = px.bar(temp_df, \n",
    "            x='ExerciseAngina', \n",
    "            y='counts',\n",
    "            color='ExerciseAngina',\n",
    "            color_continuous_scale=px.colors.qualitative.D3)\n",
    "\n",
    "fig.update_traces(marker_line_width=1, marker_line_color=\"black\")\n",
    "fig.show()"
   ]
  },
  {
   "cell_type": "markdown",
   "id": "e30671c0-f4ad-444d-9008-8d93585a94a8",
   "metadata": {},
   "source": [
    "### Oldpeak\n",
    "It's Continuos variable."
   ]
  },
  {
   "cell_type": "code",
   "execution_count": null,
   "metadata": {},
   "outputs": [],
   "source": [
    "df.Oldpeak.describe().round()"
   ]
  },
  {
   "cell_type": "code",
   "execution_count": null,
   "metadata": {},
   "outputs": [],
   "source": [
    "df.Oldpeak.mode()[0]"
   ]
  },
  {
   "cell_type": "code",
   "execution_count": null,
   "metadata": {},
   "outputs": [],
   "source": [
    "df.Oldpeak.skew()"
   ]
  },
  {
   "cell_type": "code",
   "execution_count": null,
   "metadata": {},
   "outputs": [],
   "source": [
    "fig = px.histogram(df, x='Oldpeak', marginal='box')\n",
    "fig.update_traces(marker_line_width=1, marker_line_color=\"black\")\n",
    "fig.show()"
   ]
  },
  {
   "cell_type": "markdown",
   "id": "c5049f04-61c9-4b9b-a837-b481347cd49e",
   "metadata": {},
   "source": [
    "### ST_Slope\n",
    "It's binary variable."
   ]
  },
  {
   "cell_type": "code",
   "execution_count": null,
   "metadata": {},
   "outputs": [],
   "source": [
    "df.ST_Slope.value_counts()"
   ]
  },
  {
   "cell_type": "code",
   "execution_count": null,
   "metadata": {},
   "outputs": [],
   "source": [
    "temp_df = df.groupby(by=\"ST_Slope\", as_index=False).agg(\n",
    "    counts=pd.NamedAgg(column=\"ST_Slope\", aggfunc=\"count\")).sort_values(by=\"counts\", ascending=False)\n",
    "\n",
    "fig = px.bar(temp_df, \n",
    "            x='ST_Slope', \n",
    "            y='counts',\n",
    "            color='ST_Slope',\n",
    "            color_continuous_scale=px.colors.qualitative.D3)\n",
    "\n",
    "fig.update_traces(marker_line_width=1, marker_line_color=\"black\")\n",
    "fig.show()"
   ]
  },
  {
   "cell_type": "markdown",
   "id": "3525c41b-cbbf-4999-8eb8-d42ef56bf347",
   "metadata": {
    "tags": []
   },
   "source": [
    "### HeartDisease\n",
    "It's binary variable."
   ]
  },
  {
   "cell_type": "code",
   "execution_count": null,
   "metadata": {},
   "outputs": [],
   "source": [
    "df.HeartDisease.value_counts()"
   ]
  },
  {
   "cell_type": "code",
   "execution_count": null,
   "metadata": {},
   "outputs": [],
   "source": [
    "fig = px.histogram(df, x='HeartDisease', color='HeartDisease')\n",
    "fig.update_traces(marker_line_width=1, marker_line_color=\"black\")\n",
    "fig.show()"
   ]
  },
  {
   "cell_type": "markdown",
   "id": "e2b43a98-a853-45bd-a97c-83b707ce7bd6",
   "metadata": {},
   "source": [
    "## Bivariate analysis\n",
    "\n",
    "In this section, we'll focus on studying the relationship between two different variables, to answer different question, like\n",
    "\n",
    "- What is the relation between variable x and variable y? is it linear or non-linear?\n",
    "- In case of a linear relation, is positive linear relation or negative linear relation? and how strong is the relation?\n",
    "- How the distribution for two variables changes?"
   ]
  },
  {
   "cell_type": "markdown",
   "id": "29251632-4b52-4120-87a2-bb0ded6b6e94",
   "metadata": {},
   "source": [
    "### Correlation Matrix"
   ]
  },
  {
   "cell_type": "code",
   "execution_count": null,
   "id": "35a7afaf-83e6-415b-ab54-5089a7ce243a",
   "metadata": {},
   "outputs": [],
   "source": [
    "dcorr=df[df.columns].corr()\n",
    "# dcorr\n",
    "\n",
    "mask = np.zeros_like(dcorr)\n",
    "# mask.shape\n",
    "mask[np.triu_indices_from(mask)] = True\n",
    "\n",
    "fig, ax = plt.subplots(figsize=(10,8)) \n",
    "sns.heatmap(dcorr, cmap=sns.diverging_palette(10, 145, n=100), \n",
    "            vmin=-1, vmax=1, center=0, linewidths=1, annot=True, mask=mask, ax=ax).set_title(\"Correlation\\nHeatmap\", fontsize=22,fontweight=\"bold\");"
   ]
  },
  {
   "cell_type": "markdown",
   "id": "f712d716-5b99-4eba-b315-243a2c1f1728",
   "metadata": {},
   "source": [
    "### Scatter plot\n",
    "Let's show the scatter for each two variables at a time:"
   ]
  },
  {
   "cell_type": "code",
   "execution_count": null,
   "id": "36ab534e-21e7-484d-a065-e9a3ead24019",
   "metadata": {},
   "outputs": [],
   "source": [
    "corr_value = df[\"Age\"].corr(df[\"RestingBP\"])\n",
    "\n",
    "fig = px.scatter(\n",
    "    data_frame=df,\n",
    "    x=\"Age\",\n",
    "    y=\"RestingBP\",\n",
    "    marginal_x=\"histogram\",\n",
    "    marginal_y=\"histogram\",\n",
    "    trendline=\"ols\",\n",
    "    trendline_color_override=\"red\",\n",
    "    title=f\"Correlation between Age and RestingBP is: {corr_value:.2f}\",\n",
    ")\n",
    "\n",
    "fig.show()"
   ]
  },
  {
   "cell_type": "code",
   "execution_count": null,
   "id": "757a29ea-f20e-4e38-a5d4-e95f2435fe92",
   "metadata": {},
   "outputs": [],
   "source": [
    "corr_value = df[\"Age\"].corr(df[\"Cholesterol\"])\n",
    "\n",
    "fig = px.scatter(\n",
    "    data_frame=df,\n",
    "    x=\"Age\",\n",
    "    y=\"Cholesterol\",\n",
    "    marginal_x=\"histogram\",\n",
    "    marginal_y=\"histogram\",\n",
    "    trendline=\"ols\",\n",
    "    trendline_color_override=\"red\",\n",
    "    title=f\"Correlation between Age and Cholester0l is: {corr_value:.2f}\",\n",
    ")\n",
    "\n",
    "fig.show()"
   ]
  },
  {
   "cell_type": "code",
   "execution_count": null,
   "id": "2a65e584-377f-44a8-b45e-4a7c72e5a17f",
   "metadata": {},
   "outputs": [],
   "source": [
    "corr_value = df[\"Age\"].corr(df[\"Oldpeak\"])\n",
    "\n",
    "fig = px.scatter(\n",
    "    data_frame=df,\n",
    "    x=\"Age\",\n",
    "    y=\"Oldpeak\",\n",
    "    marginal_x=\"histogram\",\n",
    "    marginal_y=\"histogram\",\n",
    "    trendline=\"ols\",\n",
    "    trendline_color_override=\"red\",\n",
    "    title=f\"Correlation between Age and Oldpeak is: {corr_value:.2f}\",\n",
    ")\n",
    "\n",
    "fig.show()"
   ]
  },
  {
   "cell_type": "code",
   "execution_count": null,
   "id": "fd862d60-5714-4b27-856f-a0b36eeda638",
   "metadata": {},
   "outputs": [],
   "source": [
    "corr_value = df[\"Age\"].corr(df[\"MaxHR\"])\n",
    "\n",
    "fig = px.scatter(\n",
    "    data_frame=df,\n",
    "    x=\"Age\",\n",
    "    y=\"MaxHR\",\n",
    "    marginal_x=\"histogram\",\n",
    "    marginal_y=\"histogram\",\n",
    "    trendline=\"ols\",\n",
    "    trendline_color_override=\"red\",\n",
    "    title=f\"Correlation between Age and MaxHR is: {corr_value:.2f}\",\n",
    ")\n",
    "\n",
    "fig.show()"
   ]
  },
  {
   "cell_type": "markdown",
   "id": "9adf2dba-f02c-4521-997d-fae16d545f32",
   "metadata": {},
   "source": [
    "### Bivariate distributions\n",
    "Another way to study the relation between two variables is with 2D Histograms (distribution).\n",
    "\n",
    "Just like the distributions we used in the Univariate Analysis section, we can show the distribution for two variables x and y, which would give us better insights on how much the values from the two variables overlap, and show cluster regions in the 2D space.\n",
    "\n",
    "Compared to scatter plots, 2D histograms are better at handling large amounts of data, as they use rectangular bins, and count the number of points withing each bin."
   ]
  },
  {
   "cell_type": "code",
   "execution_count": null,
   "id": "f1d1d201-8174-4fc0-990b-2f73f7bc375c",
   "metadata": {},
   "outputs": [],
   "source": [
    "fig = px.density_heatmap(\n",
    "    data_frame=df, x=\"Age\", y=\"RestingBP\", color_continuous_scale=\"PuBu\"\n",
    ")\n",
    "\n",
    "fig.show()"
   ]
  },
  {
   "cell_type": "markdown",
   "metadata": {},
   "source": [
    "We can see from this chart some clusters."
   ]
  },
  {
   "cell_type": "markdown",
   "metadata": {},
   "source": [
    "For example, there are two clusters of Patient who age between 50 and 54 years old and the other clusters of Patient who age between 55 and 59 years old. These two clusters account for about 100 patients. (which is about 10% of the total dataset)"
   ]
  },
  {
   "cell_type": "code",
   "execution_count": null,
   "id": "9bc8b01c-cbff-4e81-9751-43e7e79bb0a0",
   "metadata": {},
   "outputs": [],
   "source": [
    "fig = px.density_heatmap(\n",
    "    data_frame=df, x=\"Age\", y=\"Cholesterol\", color_continuous_scale=\"PuBu\"\n",
    ")\n",
    "\n",
    "fig.show()"
   ]
  },
  {
   "cell_type": "markdown",
   "metadata": {},
   "source": [
    "This chart shows that patients who age above 50 has a higher Cholesterol level than patients who age below 50."
   ]
  },
  {
   "cell_type": "code",
   "execution_count": null,
   "id": "3deb8734-4493-4124-8420-c8b5ac36b4d6",
   "metadata": {},
   "outputs": [],
   "source": [
    "fig = px.density_heatmap(\n",
    "    data_frame=df, x=\"Age\", y=\"MaxHR\", color_continuous_scale=\"PuBu\"\n",
    ")\n",
    "\n",
    "fig.show()"
   ]
  },
  {
   "cell_type": "markdown",
   "metadata": {},
   "source": [
    "This chart shows that MaxHR ia lower when the patient is older. This is a positive linear relation."
   ]
  },
  {
   "cell_type": "code",
   "execution_count": null,
   "id": "be4f2b8d-d4f9-4927-ada6-73704303c717",
   "metadata": {},
   "outputs": [],
   "source": [
    "fig = px.density_heatmap(\n",
    "    data_frame=df, x=\"Age\", y=\"Oldpeak\", color_continuous_scale=\"PuBu\"\n",
    ")\n",
    "\n",
    "fig.show()"
   ]
  },
  {
   "cell_type": "markdown",
   "metadata": {},
   "source": [
    "This chart shows that almost of the patients has 0.1 - 0.2 oldpeak."
   ]
  },
  {
   "cell_type": "markdown",
   "id": "1a555e5c-eb27-49f6-989f-6e4433e8775d",
   "metadata": {},
   "source": [
    "## Multivariate analysis\n",
    "So far, all the plots we used before were used either to explore one variable, or to show the relation between a pair of variables.\n",
    "\n",
    "However, we are often interested in answering the question: How does the relation between two variables changes as a function of a third variable?\n",
    "\n",
    "In this section, we'll focus on answering these kinds of questions, where we'll use similar plots to the ones we used before, with conditioning on other variable."
   ]
  },
  {
   "cell_type": "markdown",
   "metadata": {},
   "source": [
    "### Pairplot"
   ]
  },
  {
   "cell_type": "code",
   "execution_count": null,
   "metadata": {},
   "outputs": [],
   "source": [
    "sns.pairplot(df, hue=\"HeartDisease\", palette=\"husl\", corner=True);"
   ]
  },
  {
   "cell_type": "markdown",
   "metadata": {},
   "source": [
    "### Bivariate distribution with HeartDisease"
   ]
  },
  {
   "cell_type": "markdown",
   "metadata": {},
   "source": [
    "#### Age vs RestingBP"
   ]
  },
  {
   "cell_type": "code",
   "execution_count": null,
   "metadata": {},
   "outputs": [],
   "source": [
    "px.density_heatmap(\n",
    "    data_frame=df,\n",
    "    x=\"Age\",\n",
    "    y=\"RestingBP\",\n",
    "    color_continuous_scale=\"PuBu\",\n",
    "    facet_col=\"HeartDisease\",\n",
    "    title=\"Age vs. Chelesterol for different Heart Disease values\",\n",
    ")"
   ]
  },
  {
   "cell_type": "markdown",
   "metadata": {},
   "source": [
    "#### Age vs Cholesterol"
   ]
  },
  {
   "cell_type": "code",
   "execution_count": null,
   "metadata": {},
   "outputs": [],
   "source": [
    "px.density_heatmap(\n",
    "    data_frame=df,\n",
    "    x=\"Age\",\n",
    "    y=\"Cholesterol\",\n",
    "    color_continuous_scale=\"PuBu\",\n",
    "    facet_col=\"HeartDisease\",\n",
    "    title=\"Age vs. Chelesterol for different Heart Disease values\",\n",
    ")"
   ]
  },
  {
   "cell_type": "markdown",
   "metadata": {},
   "source": [
    "#### Age vs MaxHR"
   ]
  },
  {
   "cell_type": "code",
   "execution_count": null,
   "metadata": {},
   "outputs": [],
   "source": [
    "px.density_heatmap(\n",
    "    data_frame=df,\n",
    "    x=\"Age\",\n",
    "    y=\"MaxHR\",\n",
    "    color_continuous_scale=\"PuBu\",\n",
    "    facet_col=\"HeartDisease\",\n",
    "    title=\"Age vs. Chelesterol for different Heart Disease values\",\n",
    ")"
   ]
  },
  {
   "cell_type": "code",
   "execution_count": null,
   "id": "1dcddd40-8abf-4099-9cbf-fb6be3f42448",
   "metadata": {},
   "outputs": [],
   "source": [
    "def num_plot(df, col):\n",
    "    fig = px.histogram(df, x=col, color=\"HeartDisease\",\n",
    "                       marginal=\"box\")\n",
    "    fig.update_layout(height=400, width=700, showlegend=True)\n",
    "    fig.update_traces(marker_line_width=1,marker_line_color=\"black\")\n",
    "    fig.show()\n",
    "    \n",
    "cols= df.columns\n",
    "for col in cols:\n",
    "    num_plot(df, col)"
   ]
  },
  {
   "cell_type": "markdown",
   "metadata": {},
   "source": [
    "We can see some different between Normal and HeartDisease."
   ]
  },
  {
   "cell_type": "markdown",
   "metadata": {},
   "source": [
    "# Data Preprocessing\n",
    "\n",
    "After we see all the chart and analysis, we'll start some preprocessing the data before move to the model section."
   ]
  },
  {
   "cell_type": "code",
   "execution_count": 13,
   "metadata": {},
   "outputs": [],
   "source": [
    "from sklearn.model_selection import train_test_split, KFold, StratifiedKFold, ShuffleSplit, cross_val_score, cross_val_predict, cross_validate\n",
    "from sklearn.metrics import confusion_matrix, plot_confusion_matrix, classification_report, accuracy_score, precision_score, recall_score, precision_recall_fscore_support, f1_score"
   ]
  },
  {
   "cell_type": "code",
   "execution_count": 14,
   "metadata": {},
   "outputs": [
    {
     "data": {
      "text/plain": [
       "Index(['Age', 'Sex', 'ChestPainType', 'RestingBP', 'Cholesterol', 'FastingBS',\n",
       "       'RestingECG', 'MaxHR', 'ExerciseAngina', 'Oldpeak', 'ST_Slope',\n",
       "       'HeartDisease'],\n",
       "      dtype='object')"
      ]
     },
     "execution_count": 14,
     "metadata": {},
     "output_type": "execute_result"
    }
   ],
   "source": [
    "df.columns"
   ]
  },
  {
   "cell_type": "code",
   "execution_count": 15,
   "metadata": {},
   "outputs": [],
   "source": [
    "feature_cols = ['Age', 'Sex', 'ChestPainType', 'RestingBP', 'Cholesterol', 'FastingBS',\n",
    "       'RestingECG', 'MaxHR', 'ExerciseAngina', 'Oldpeak', 'ST_Slope']\n",
    "target_cols = 'HeartDisease'\n",
    "\n",
    "X = df[feature_cols]\n",
    "y = df[target_cols]\n",
    "X_train, X_test, y_train, y_test = train_test_split(X, y, test_size=0.15, random_state=42, stratify=y)"
   ]
  },
  {
   "cell_type": "code",
   "execution_count": 16,
   "metadata": {},
   "outputs": [
    {
     "data": {
      "text/plain": [
       "Heart Disease    432\n",
       "Normal           348\n",
       "Name: HeartDisease, dtype: int64"
      ]
     },
     "execution_count": 16,
     "metadata": {},
     "output_type": "execute_result"
    }
   ],
   "source": [
    "y_train.value_counts()"
   ]
  },
  {
   "cell_type": "code",
   "execution_count": 17,
   "metadata": {},
   "outputs": [],
   "source": [
    "def data_preprocessing(X_train):\n",
    "    ''' replace outliers with mean to make the distribution more normal. '''    \n",
    "    mean_chol = X_train[X_train.Cholesterol > 0]['Cholesterol'].mean()\n",
    "    mean_rest = X_train[X_train.RestingBP > 0]['Cholesterol'].mean()\n",
    "    \n",
    "    X_train['Cholesterol'].replace(to_replace = [0,X_train[X_train['Cholesterol'] >= 500]['Cholesterol']], value = mean_chol, inplace = True)\n",
    "    X_train['RestingBP'].replace(to_replace = [0,244.635389], value = mean_rest, inplace = True)\n",
    "\n",
    "    return X_train\n",
    "\n",
    "X_train = data_preprocessing(X_train)"
   ]
  },
  {
   "cell_type": "markdown",
   "metadata": {},
   "source": [
    "# Model"
   ]
  },
  {
   "cell_type": "code",
   "execution_count": 18,
   "metadata": {},
   "outputs": [
    {
     "name": "stdout",
     "output_type": "stream",
     "text": [
      "lightgbm version 3.2.1\n"
     ]
    }
   ],
   "source": [
    "import lightgbm as lgb\n",
    "print(f'lightgbm version {lgb.__version__}')"
   ]
  },
  {
   "cell_type": "code",
   "execution_count": 19,
   "metadata": {},
   "outputs": [],
   "source": [
    "clf = lgb.LGBMClassifier()"
   ]
  },
  {
   "cell_type": "code",
   "execution_count": 20,
   "metadata": {},
   "outputs": [
    {
     "data": {
      "text/plain": [
       "{'boosting_type': 'gbdt',\n",
       " 'class_weight': None,\n",
       " 'colsample_bytree': 1.0,\n",
       " 'importance_type': 'split',\n",
       " 'learning_rate': 0.1,\n",
       " 'max_depth': -1,\n",
       " 'min_child_samples': 20,\n",
       " 'min_child_weight': 0.001,\n",
       " 'min_split_gain': 0.0,\n",
       " 'n_estimators': 100,\n",
       " 'n_jobs': -1,\n",
       " 'num_leaves': 31,\n",
       " 'objective': None,\n",
       " 'random_state': None,\n",
       " 'reg_alpha': 0.0,\n",
       " 'reg_lambda': 0.0,\n",
       " 'silent': True,\n",
       " 'subsample': 1.0,\n",
       " 'subsample_for_bin': 200000,\n",
       " 'subsample_freq': 0}"
      ]
     },
     "execution_count": 20,
     "metadata": {},
     "output_type": "execute_result"
    }
   ],
   "source": [
    "clf.get_params()"
   ]
  },
  {
   "cell_type": "code",
   "execution_count": 21,
   "metadata": {},
   "outputs": [
    {
     "name": "stdout",
     "output_type": "stream",
     "text": [
      "Training until validation scores don't improve for 20 rounds\n",
      "[10]\tvalid_0's auc: 0.940683\tvalid_0's binary_logloss: 0.40307\n",
      "[20]\tvalid_0's auc: 0.945671\tvalid_0's binary_logloss: 0.327165\n",
      "[30]\tvalid_0's auc: 0.943973\tvalid_0's binary_logloss: 0.314048\n",
      "[40]\tvalid_0's auc: 0.950552\tvalid_0's binary_logloss: 0.289311\n",
      "[50]\tvalid_0's auc: 0.947156\tvalid_0's binary_logloss: 0.293082\n",
      "[60]\tvalid_0's auc: 0.942275\tvalid_0's binary_logloss: 0.306539\n",
      "Early stopping, best iteration is:\n",
      "[40]\tvalid_0's auc: 0.950552\tvalid_0's binary_logloss: 0.289311\n"
     ]
    },
    {
     "data": {
      "text/plain": [
       "LGBMClassifier()"
      ]
     },
     "execution_count": 21,
     "metadata": {},
     "output_type": "execute_result"
    }
   ],
   "source": [
    "fit_params={'early_stopping_rounds':20, \n",
    "            'eval_metric': 'auc',\n",
    "            'eval_set': [(X_test, y_test)],\n",
    "            'verbose': 10\n",
    "           }\n",
    "\n",
    "clf.fit(X_train, y_train, **fit_params)"
   ]
  },
  {
   "cell_type": "code",
   "execution_count": 22,
   "metadata": {},
   "outputs": [
    {
     "data": {
      "text/plain": [
       "<AxesSubplot:title={'center':'Metric during training'}, xlabel='Iterations', ylabel='binary_logloss'>"
      ]
     },
     "execution_count": 22,
     "metadata": {},
     "output_type": "execute_result"
    },
    {
     "data": {
      "image/png": "[encoded data removed]",
      "text/plain": [
       "<Figure size 432x288 with 1 Axes>"
      ]
     },
     "metadata": {
      "image/png": {
       "height": 276,
       "width": 389
      },
      "needs_background": "light"
     },
     "output_type": "display_data"
    }
   ],
   "source": [
    "lgb.plot_metric(clf, metric='binary_logloss')"
   ]
  },
  {
   "cell_type": "code",
   "execution_count": 23,
   "metadata": {},
   "outputs": [
    {
     "data": {
      "text/plain": [
       "<AxesSubplot:title={'center':'Metric during training'}, xlabel='Iterations', ylabel='auc'>"
      ]
     },
     "execution_count": 23,
     "metadata": {},
     "output_type": "execute_result"
    },
    {
     "data": {
      "image/png": "[encoded data removed]",
      "text/plain": [
       "<Figure size 432x288 with 1 Axes>"
      ]
     },
     "metadata": {
      "image/png": {
       "height": 276,
       "width": 394
      },
      "needs_background": "light"
     },
     "output_type": "display_data"
    }
   ],
   "source": [
    "lgb.plot_metric(clf, metric='auc')"
   ]
  },
  {
   "cell_type": "code",
   "execution_count": 24,
   "metadata": {},
   "outputs": [
    {
     "data": {
      "text/plain": [
       "0.9602564102564103"
      ]
     },
     "execution_count": 24,
     "metadata": {},
     "output_type": "execute_result"
    }
   ],
   "source": [
    "clf.score(X_train, y_train) # classification accuracy score"
   ]
  },
  {
   "cell_type": "code",
   "execution_count": 25,
   "metadata": {},
   "outputs": [
    {
     "data": {
      "text/plain": [
       "0.8840579710144928"
      ]
     },
     "execution_count": 25,
     "metadata": {},
     "output_type": "execute_result"
    }
   ],
   "source": [
    "clf.score(X_test, y_test) # classification accuracy score"
   ]
  },
  {
   "cell_type": "markdown",
   "metadata": {},
   "source": [
    "### confusion matrix\n",
    "$$\n",
    "\\begin{bmatrix}\n",
    "C_{0,0} & C_{0,1} \\\\\n",
    "C_{1,0} & C_{1,1}\n",
    "\\end{bmatrix}\n",
    "=\n",
    "\\begin{bmatrix}\n",
    "tn&fp \\\\\n",
    "fn&tp\n",
    "\\end{bmatrix}\n",
    "$$\n",
    "\n",
    "<table>\n",
    "<tr>\n",
    "    <td></td>\n",
    "    <td>predicted false</td>\n",
    "    <td>predicted true</td>\n",
    "</tr>\n",
    "<tr>\n",
    "    <td>actual false</td>\n",
    "    <td>tn</td>\n",
    "    <td>fp</td>\n",
    "</tr>\n",
    "<tr>\n",
    "    <td>actual true</td>\n",
    "    <td>fn</td>\n",
    "    <td>tp</td>\n",
    "</tr>\n",
    "<table>"
   ]
  },
  {
   "cell_type": "code",
   "execution_count": 26,
   "metadata": {},
   "outputs": [
    {
     "data": {
      "text/plain": [
       "array([[69,  7],\n",
       "       [ 9, 53]])"
      ]
     },
     "execution_count": 26,
     "metadata": {},
     "output_type": "execute_result"
    }
   ],
   "source": [
    "cm = confusion_matrix(y_test, clf.predict(X_test))\n",
    "cm"
   ]
  },
  {
   "cell_type": "code",
   "execution_count": 27,
   "metadata": {},
   "outputs": [
    {
     "data": {
      "text/plain": [
       "<sklearn.metrics._plot.confusion_matrix.ConfusionMatrixDisplay at 0x7fe53ffac670>"
      ]
     },
     "execution_count": 27,
     "metadata": {},
     "output_type": "execute_result"
    },
    {
     "data": {
      "image/png": "[encoded data removed]",
      "text/plain": [
       "<Figure size 432x288 with 2 Axes>"
      ]
     },
     "metadata": {
      "image/png": {
       "height": 263,
       "width": 364
      },
      "needs_background": "light"
     },
     "output_type": "display_data"
    }
   ],
   "source": [
    "plot_confusion_matrix(clf, X_test, y_test, cmap='Oranges', normalize='true')"
   ]
  },
  {
   "cell_type": "code",
   "execution_count": 28,
   "metadata": {},
   "outputs": [],
   "source": [
    "from flaml import AutoML\n",
    "automl = AutoML()"
   ]
  },
  {
   "cell_type": "code",
   "execution_count": 29,
   "metadata": {},
   "outputs": [],
   "source": [
    "settings = {\n",
    "    \"time_budget\": 120,  # total running time in seconds\n",
    "    \"metric\": 'accuracy',  # can be: 'r2', 'rmse', 'mae', 'mse', 'accuracy', 'roc_auc', 'roc_auc_ovr',\n",
    "                           # 'roc_auc_ovo', 'log_loss', 'mape', 'f1', 'ap', 'ndcg', 'micro_f1', 'macro_f1'\n",
    "    \"task\": 'classification',  # task type\n",
    "    \"log_file_name\": 'airlines_experiment.log',  # flaml log file\n",
    "}"
   ]
  },
  {
   "cell_type": "code",
   "execution_count": 30,
   "metadata": {},
   "outputs": [
    {
     "name": "stderr",
     "output_type": "stream",
     "text": [
      "[flaml.automl: 11-05 12:34:14] {890} INFO - Evaluation method: cv\n",
      "[flaml.automl: 11-05 12:34:14] {596} INFO - Using StratifiedKFold\n",
      "[flaml.automl: 11-05 12:34:14] {911} INFO - Minimizing error metric: 1-accuracy\n",
      "[flaml.automl: 11-05 12:34:14] {929} INFO - List of ML learners in AutoML Run: ['lgbm', 'rf', 'catboost', 'xgboost', 'extra_tree', 'lrl1']\n",
      "[flaml.automl: 11-05 12:34:14] {993} INFO - iteration 0, current learner lgbm\n",
      "[flaml.automl: 11-05 12:34:14] {1141} INFO -  at 0.2s,\tbest lgbm's error=0.1872,\tbest lgbm's error=0.1872\n",
      "[flaml.automl: 11-05 12:34:14] {993} INFO - iteration 1, current learner lgbm\n",
      "[flaml.automl: 11-05 12:34:14] {1141} INFO -  at 0.3s,\tbest lgbm's error=0.1872,\tbest lgbm's error=0.1872\n",
      "[flaml.automl: 11-05 12:34:14] {993} INFO - iteration 2, current learner lgbm\n",
      "[flaml.automl: 11-05 12:34:15] {1141} INFO -  at 0.4s,\tbest lgbm's error=0.1564,\tbest lgbm's error=0.1564\n",
      "[flaml.automl: 11-05 12:34:15] {993} INFO - iteration 3, current learner lgbm\n",
      "[flaml.automl: 11-05 12:34:15] {1141} INFO -  at 0.5s,\tbest lgbm's error=0.1564,\tbest lgbm's error=0.1564\n",
      "[flaml.automl: 11-05 12:34:15] {993} INFO - iteration 4, current learner lgbm\n",
      "[flaml.automl: 11-05 12:34:15] {1141} INFO -  at 0.7s,\tbest lgbm's error=0.1526,\tbest lgbm's error=0.1526\n",
      "[flaml.automl: 11-05 12:34:15] {993} INFO - iteration 5, current learner lgbm\n",
      "[flaml.automl: 11-05 12:34:15] {1141} INFO -  at 0.8s,\tbest lgbm's error=0.1423,\tbest lgbm's error=0.1423\n",
      "[flaml.automl: 11-05 12:34:15] {993} INFO - iteration 6, current learner lgbm\n",
      "[flaml.automl: 11-05 12:34:15] {1141} INFO -  at 0.9s,\tbest lgbm's error=0.1423,\tbest lgbm's error=0.1423\n",
      "[flaml.automl: 11-05 12:34:15] {993} INFO - iteration 7, current learner lgbm\n",
      "[flaml.automl: 11-05 12:34:15] {1141} INFO -  at 1.1s,\tbest lgbm's error=0.1423,\tbest lgbm's error=0.1423\n",
      "[flaml.automl: 11-05 12:34:15] {993} INFO - iteration 8, current learner xgboost\n",
      "[flaml.automl: 11-05 12:34:15] {1141} INFO -  at 1.3s,\tbest xgboost's error=0.1731,\tbest lgbm's error=0.1423\n",
      "[flaml.automl: 11-05 12:34:15] {993} INFO - iteration 9, current learner xgboost\n",
      "[flaml.automl: 11-05 12:34:15] {1141} INFO -  at 1.4s,\tbest xgboost's error=0.1577,\tbest lgbm's error=0.1423\n",
      "[flaml.automl: 11-05 12:34:15] {993} INFO - iteration 10, current learner lgbm\n",
      "[flaml.automl: 11-05 12:34:16] {1141} INFO -  at 1.5s,\tbest lgbm's error=0.1423,\tbest lgbm's error=0.1423\n",
      "[flaml.automl: 11-05 12:34:16] {993} INFO - iteration 11, current learner xgboost\n",
      "[flaml.automl: 11-05 12:34:16] {1141} INFO -  at 1.6s,\tbest xgboost's error=0.1577,\tbest lgbm's error=0.1423\n",
      "[flaml.automl: 11-05 12:34:16] {993} INFO - iteration 12, current learner extra_tree\n",
      "[flaml.automl: 11-05 12:34:16] {1141} INFO -  at 1.8s,\tbest extra_tree's error=0.1692,\tbest lgbm's error=0.1423\n",
      "[flaml.automl: 11-05 12:34:16] {993} INFO - iteration 13, current learner xgboost\n",
      "[flaml.automl: 11-05 12:34:16] {1141} INFO -  at 1.9s,\tbest xgboost's error=0.1577,\tbest lgbm's error=0.1423\n",
      "[flaml.automl: 11-05 12:34:16] {993} INFO - iteration 14, current learner extra_tree\n",
      "[flaml.automl: 11-05 12:34:16] {1141} INFO -  at 2.0s,\tbest extra_tree's error=0.1692,\tbest lgbm's error=0.1423\n",
      "[flaml.automl: 11-05 12:34:16] {993} INFO - iteration 15, current learner lgbm\n",
      "[flaml.automl: 11-05 12:34:16] {1141} INFO -  at 2.1s,\tbest lgbm's error=0.1423,\tbest lgbm's error=0.1423\n",
      "[flaml.automl: 11-05 12:34:16] {993} INFO - iteration 16, current learner extra_tree\n",
      "[flaml.automl: 11-05 12:34:16] {1141} INFO -  at 2.3s,\tbest extra_tree's error=0.1603,\tbest lgbm's error=0.1423\n",
      "[flaml.automl: 11-05 12:34:16] {993} INFO - iteration 17, current learner rf\n",
      "[flaml.automl: 11-05 12:34:16] {1141} INFO -  at 2.4s,\tbest rf's error=0.1846,\tbest lgbm's error=0.1423\n",
      "[flaml.automl: 11-05 12:34:16] {993} INFO - iteration 18, current learner lgbm\n",
      "[flaml.automl: 11-05 12:34:17] {1141} INFO -  at 2.5s,\tbest lgbm's error=0.1423,\tbest lgbm's error=0.1423\n",
      "[flaml.automl: 11-05 12:34:17] {993} INFO - iteration 19, current learner rf\n",
      "[flaml.automl: 11-05 12:34:17] {1141} INFO -  at 2.6s,\tbest rf's error=0.1846,\tbest lgbm's error=0.1423\n",
      "[flaml.automl: 11-05 12:34:17] {993} INFO - iteration 20, current learner rf\n",
      "[flaml.automl: 11-05 12:34:17] {1141} INFO -  at 2.8s,\tbest rf's error=0.1769,\tbest lgbm's error=0.1423\n",
      "[flaml.automl: 11-05 12:34:17] {993} INFO - iteration 21, current learner xgboost\n",
      "[flaml.automl: 11-05 12:34:17] {1141} INFO -  at 2.9s,\tbest xgboost's error=0.1577,\tbest lgbm's error=0.1423\n",
      "[flaml.automl: 11-05 12:34:17] {993} INFO - iteration 22, current learner lgbm\n",
      "[flaml.automl: 11-05 12:34:17] {1141} INFO -  at 3.0s,\tbest lgbm's error=0.1423,\tbest lgbm's error=0.1423\n",
      "[flaml.automl: 11-05 12:34:17] {993} INFO - iteration 23, current learner lgbm\n",
      "[flaml.automl: 11-05 12:34:17] {1141} INFO -  at 3.1s,\tbest lgbm's error=0.1423,\tbest lgbm's error=0.1423\n",
      "[flaml.automl: 11-05 12:34:17] {993} INFO - iteration 24, current learner extra_tree\n",
      "[flaml.automl: 11-05 12:34:17] {1141} INFO -  at 3.3s,\tbest extra_tree's error=0.1513,\tbest lgbm's error=0.1423\n",
      "[flaml.automl: 11-05 12:34:17] {993} INFO - iteration 25, current learner extra_tree\n",
      "[flaml.automl: 11-05 12:34:18] {1141} INFO -  at 3.5s,\tbest extra_tree's error=0.1513,\tbest lgbm's error=0.1423\n",
      "[flaml.automl: 11-05 12:34:18] {993} INFO - iteration 26, current learner rf\n",
      "[flaml.automl: 11-05 12:34:18] {1141} INFO -  at 3.6s,\tbest rf's error=0.1718,\tbest lgbm's error=0.1423\n",
      "[flaml.automl: 11-05 12:34:18] {993} INFO - iteration 27, current learner extra_tree\n",
      "[flaml.automl: 11-05 12:34:18] {1141} INFO -  at 3.7s,\tbest extra_tree's error=0.1513,\tbest lgbm's error=0.1423\n",
      "[flaml.automl: 11-05 12:34:18] {993} INFO - iteration 28, current learner extra_tree\n",
      "[flaml.automl: 11-05 12:34:18] {1141} INFO -  at 3.8s,\tbest extra_tree's error=0.1513,\tbest lgbm's error=0.1423\n",
      "[flaml.automl: 11-05 12:34:18] {993} INFO - iteration 29, current learner extra_tree\n",
      "[flaml.automl: 11-05 12:34:18] {1141} INFO -  at 4.0s,\tbest extra_tree's error=0.1513,\tbest lgbm's error=0.1423\n",
      "[flaml.automl: 11-05 12:34:18] {993} INFO - iteration 30, current learner lgbm\n",
      "[flaml.automl: 11-05 12:34:18] {1141} INFO -  at 4.1s,\tbest lgbm's error=0.1423,\tbest lgbm's error=0.1423\n",
      "[flaml.automl: 11-05 12:34:18] {993} INFO - iteration 31, current learner lgbm\n",
      "[flaml.automl: 11-05 12:34:18] {1141} INFO -  at 4.2s,\tbest lgbm's error=0.1423,\tbest lgbm's error=0.1423\n",
      "[flaml.automl: 11-05 12:34:18] {993} INFO - iteration 32, current learner lgbm\n",
      "[flaml.automl: 11-05 12:34:18] {1141} INFO -  at 4.3s,\tbest lgbm's error=0.1423,\tbest lgbm's error=0.1423\n",
      "[flaml.automl: 11-05 12:34:18] {993} INFO - iteration 33, current learner extra_tree\n",
      "[flaml.automl: 11-05 12:34:18] {1141} INFO -  at 4.4s,\tbest extra_tree's error=0.1513,\tbest lgbm's error=0.1423\n",
      "[flaml.automl: 11-05 12:34:18] {993} INFO - iteration 34, current learner lgbm\n",
      "[flaml.automl: 11-05 12:34:19] {1141} INFO -  at 4.5s,\tbest lgbm's error=0.1423,\tbest lgbm's error=0.1423\n",
      "[flaml.automl: 11-05 12:34:19] {993} INFO - iteration 35, current learner rf\n",
      "[flaml.automl: 11-05 12:34:19] {1141} INFO -  at 4.8s,\tbest rf's error=0.1628,\tbest lgbm's error=0.1423\n",
      "[flaml.automl: 11-05 12:34:19] {993} INFO - iteration 36, current learner extra_tree\n",
      "[flaml.automl: 11-05 12:34:19] {1141} INFO -  at 5.1s,\tbest extra_tree's error=0.1513,\tbest lgbm's error=0.1423\n",
      "[flaml.automl: 11-05 12:34:19] {993} INFO - iteration 37, current learner xgboost\n",
      "[flaml.automl: 11-05 12:34:19] {1141} INFO -  at 5.2s,\tbest xgboost's error=0.1577,\tbest lgbm's error=0.1423\n",
      "[flaml.automl: 11-05 12:34:19] {993} INFO - iteration 38, current learner xgboost\n",
      "[flaml.automl: 11-05 12:34:19] {1141} INFO -  at 5.3s,\tbest xgboost's error=0.1577,\tbest lgbm's error=0.1423\n",
      "[flaml.automl: 11-05 12:34:19] {993} INFO - iteration 39, current learner rf\n",
      "[flaml.automl: 11-05 12:34:20] {1141} INFO -  at 5.5s,\tbest rf's error=0.1628,\tbest lgbm's error=0.1423\n",
      "[flaml.automl: 11-05 12:34:20] {993} INFO - iteration 40, current learner xgboost\n",
      "[flaml.automl: 11-05 12:34:20] {1141} INFO -  at 5.6s,\tbest xgboost's error=0.1577,\tbest lgbm's error=0.1423\n",
      "[flaml.automl: 11-05 12:34:20] {993} INFO - iteration 41, current learner extra_tree\n",
      "[flaml.automl: 11-05 12:34:20] {1141} INFO -  at 5.7s,\tbest extra_tree's error=0.1513,\tbest lgbm's error=0.1423\n",
      "[flaml.automl: 11-05 12:34:20] {993} INFO - iteration 42, current learner lgbm\n",
      "[flaml.automl: 11-05 12:34:20] {1141} INFO -  at 5.9s,\tbest lgbm's error=0.1385,\tbest lgbm's error=0.1385\n",
      "[flaml.automl: 11-05 12:34:20] {993} INFO - iteration 43, current learner xgboost\n",
      "[flaml.automl: 11-05 12:34:20] {1141} INFO -  at 6.0s,\tbest xgboost's error=0.1577,\tbest lgbm's error=0.1385\n",
      "[flaml.automl: 11-05 12:34:20] {993} INFO - iteration 44, current learner extra_tree\n",
      "[flaml.automl: 11-05 12:34:20] {1141} INFO -  at 6.1s,\tbest extra_tree's error=0.1513,\tbest lgbm's error=0.1385\n",
      "[flaml.automl: 11-05 12:34:20] {993} INFO - iteration 45, current learner xgboost\n",
      "[flaml.automl: 11-05 12:34:20] {1141} INFO -  at 6.2s,\tbest xgboost's error=0.1487,\tbest lgbm's error=0.1385\n",
      "[flaml.automl: 11-05 12:34:20] {993} INFO - iteration 46, current learner lgbm\n",
      "[flaml.automl: 11-05 12:34:20] {1141} INFO -  at 6.3s,\tbest lgbm's error=0.1385,\tbest lgbm's error=0.1385\n",
      "[flaml.automl: 11-05 12:34:20] {993} INFO - iteration 47, current learner xgboost\n",
      "[flaml.automl: 11-05 12:34:20] {1141} INFO -  at 6.4s,\tbest xgboost's error=0.1487,\tbest lgbm's error=0.1385\n",
      "[flaml.automl: 11-05 12:34:20] {993} INFO - iteration 48, current learner lgbm\n",
      "[flaml.automl: 11-05 12:34:21] {1141} INFO -  at 6.5s,\tbest lgbm's error=0.1385,\tbest lgbm's error=0.1385\n",
      "[flaml.automl: 11-05 12:34:21] {993} INFO - iteration 49, current learner rf\n",
      "[flaml.automl: 11-05 12:34:21] {1141} INFO -  at 6.7s,\tbest rf's error=0.1628,\tbest lgbm's error=0.1385\n",
      "[flaml.automl: 11-05 12:34:21] {993} INFO - iteration 50, current learner extra_tree\n",
      "[flaml.automl: 11-05 12:34:21] {1141} INFO -  at 6.9s,\tbest extra_tree's error=0.1513,\tbest lgbm's error=0.1385\n",
      "[flaml.automl: 11-05 12:34:21] {993} INFO - iteration 51, current learner lgbm\n",
      "[flaml.automl: 11-05 12:34:21] {1141} INFO -  at 7.0s,\tbest lgbm's error=0.1346,\tbest lgbm's error=0.1346\n",
      "[flaml.automl: 11-05 12:34:21] {993} INFO - iteration 52, current learner lgbm\n",
      "[flaml.automl: 11-05 12:34:21] {1141} INFO -  at 7.1s,\tbest lgbm's error=0.1346,\tbest lgbm's error=0.1346\n",
      "[flaml.automl: 11-05 12:34:21] {993} INFO - iteration 53, current learner lgbm\n",
      "[flaml.automl: 11-05 12:34:21] {1141} INFO -  at 7.3s,\tbest lgbm's error=0.1346,\tbest lgbm's error=0.1346\n",
      "[flaml.automl: 11-05 12:34:21] {993} INFO - iteration 54, current learner lgbm\n",
      "[flaml.automl: 11-05 12:34:21] {1141} INFO -  at 7.4s,\tbest lgbm's error=0.1269,\tbest lgbm's error=0.1269\n",
      "[flaml.automl: 11-05 12:34:21] {993} INFO - iteration 55, current learner lgbm\n",
      "[flaml.automl: 11-05 12:34:22] {1141} INFO -  at 7.5s,\tbest lgbm's error=0.1269,\tbest lgbm's error=0.1269\n",
      "[flaml.automl: 11-05 12:34:22] {993} INFO - iteration 56, current learner lgbm\n",
      "[flaml.automl: 11-05 12:34:22] {1141} INFO -  at 7.7s,\tbest lgbm's error=0.1269,\tbest lgbm's error=0.1269\n",
      "[flaml.automl: 11-05 12:34:22] {993} INFO - iteration 57, current learner lgbm\n",
      "[flaml.automl: 11-05 12:34:22] {1141} INFO -  at 7.8s,\tbest lgbm's error=0.1269,\tbest lgbm's error=0.1269\n",
      "[flaml.automl: 11-05 12:34:22] {993} INFO - iteration 58, current learner lgbm\n",
      "[flaml.automl: 11-05 12:34:22] {1141} INFO -  at 7.9s,\tbest lgbm's error=0.1269,\tbest lgbm's error=0.1269\n",
      "[flaml.automl: 11-05 12:34:22] {993} INFO - iteration 59, current learner lgbm\n",
      "[flaml.automl: 11-05 12:34:22] {1141} INFO -  at 8.0s,\tbest lgbm's error=0.1269,\tbest lgbm's error=0.1269\n",
      "[flaml.automl: 11-05 12:34:22] {993} INFO - iteration 60, current learner lgbm\n",
      "[flaml.automl: 11-05 12:34:22] {1141} INFO -  at 8.1s,\tbest lgbm's error=0.1269,\tbest lgbm's error=0.1269\n",
      "[flaml.automl: 11-05 12:34:22] {993} INFO - iteration 61, current learner lgbm\n",
      "[flaml.automl: 11-05 12:34:22] {1141} INFO -  at 8.2s,\tbest lgbm's error=0.1269,\tbest lgbm's error=0.1269\n",
      "[flaml.automl: 11-05 12:34:22] {993} INFO - iteration 62, current learner lgbm\n",
      "[flaml.automl: 11-05 12:34:22] {1141} INFO -  at 8.4s,\tbest lgbm's error=0.1269,\tbest lgbm's error=0.1269\n",
      "[flaml.automl: 11-05 12:34:22] {993} INFO - iteration 63, current learner rf\n",
      "[flaml.automl: 11-05 12:34:23] {1141} INFO -  at 8.6s,\tbest rf's error=0.1615,\tbest lgbm's error=0.1269\n",
      "[flaml.automl: 11-05 12:34:23] {993} INFO - iteration 64, current learner lgbm\n",
      "[flaml.automl: 11-05 12:34:23] {1141} INFO -  at 8.8s,\tbest lgbm's error=0.1269,\tbest lgbm's error=0.1269\n",
      "[flaml.automl: 11-05 12:34:23] {993} INFO - iteration 65, current learner lgbm\n",
      "[flaml.automl: 11-05 12:34:23] {1141} INFO -  at 8.9s,\tbest lgbm's error=0.1269,\tbest lgbm's error=0.1269\n",
      "[flaml.automl: 11-05 12:34:23] {993} INFO - iteration 66, current learner lgbm\n",
      "[flaml.automl: 11-05 12:34:23] {1141} INFO -  at 9.0s,\tbest lgbm's error=0.1269,\tbest lgbm's error=0.1269\n",
      "[flaml.automl: 11-05 12:34:23] {993} INFO - iteration 67, current learner lgbm\n",
      "[flaml.automl: 11-05 12:34:23] {1141} INFO -  at 9.1s,\tbest lgbm's error=0.1269,\tbest lgbm's error=0.1269\n",
      "[flaml.automl: 11-05 12:34:23] {993} INFO - iteration 68, current learner lgbm\n",
      "[flaml.automl: 11-05 12:34:23] {1141} INFO -  at 9.3s,\tbest lgbm's error=0.1269,\tbest lgbm's error=0.1269\n",
      "[flaml.automl: 11-05 12:34:23] {993} INFO - iteration 69, current learner lgbm\n",
      "[flaml.automl: 11-05 12:34:23] {1141} INFO -  at 9.4s,\tbest lgbm's error=0.1269,\tbest lgbm's error=0.1269\n",
      "[flaml.automl: 11-05 12:34:23] {993} INFO - iteration 70, current learner xgboost\n",
      "[flaml.automl: 11-05 12:34:24] {1141} INFO -  at 9.5s,\tbest xgboost's error=0.1487,\tbest lgbm's error=0.1269\n",
      "[flaml.automl: 11-05 12:34:24] {993} INFO - iteration 71, current learner lgbm\n",
      "[flaml.automl: 11-05 12:34:24] {1141} INFO -  at 9.6s,\tbest lgbm's error=0.1269,\tbest lgbm's error=0.1269\n",
      "[flaml.automl: 11-05 12:34:24] {993} INFO - iteration 72, current learner extra_tree\n",
      "[flaml.automl: 11-05 12:34:24] {1141} INFO -  at 9.8s,\tbest extra_tree's error=0.1513,\tbest lgbm's error=0.1269\n",
      "[flaml.automl: 11-05 12:34:24] {993} INFO - iteration 73, current learner lgbm\n",
      "[flaml.automl: 11-05 12:34:24] {1141} INFO -  at 9.9s,\tbest lgbm's error=0.1269,\tbest lgbm's error=0.1269\n",
      "[flaml.automl: 11-05 12:34:24] {993} INFO - iteration 74, current learner extra_tree\n",
      "[flaml.automl: 11-05 12:34:24] {1141} INFO -  at 10.1s,\tbest extra_tree's error=0.1513,\tbest lgbm's error=0.1269\n",
      "[flaml.automl: 11-05 12:34:24] {993} INFO - iteration 75, current learner lgbm\n",
      "[flaml.automl: 11-05 12:34:24] {1141} INFO -  at 10.2s,\tbest lgbm's error=0.1269,\tbest lgbm's error=0.1269\n",
      "[flaml.automl: 11-05 12:34:24] {993} INFO - iteration 76, current learner lgbm\n",
      "[flaml.automl: 11-05 12:34:24] {1141} INFO -  at 10.3s,\tbest lgbm's error=0.1205,\tbest lgbm's error=0.1205\n",
      "[flaml.automl: 11-05 12:34:24] {993} INFO - iteration 77, current learner xgboost\n",
      "[flaml.automl: 11-05 12:34:25] {1141} INFO -  at 10.4s,\tbest xgboost's error=0.1487,\tbest lgbm's error=0.1205\n",
      "[flaml.automl: 11-05 12:34:25] {993} INFO - iteration 78, current learner lgbm\n",
      "[flaml.automl: 11-05 12:34:25] {1141} INFO -  at 10.6s,\tbest lgbm's error=0.1205,\tbest lgbm's error=0.1205\n",
      "[flaml.automl: 11-05 12:34:25] {993} INFO - iteration 79, current learner lgbm\n",
      "[flaml.automl: 11-05 12:34:25] {1141} INFO -  at 10.7s,\tbest lgbm's error=0.1205,\tbest lgbm's error=0.1205\n",
      "[flaml.automl: 11-05 12:34:25] {993} INFO - iteration 80, current learner extra_tree\n",
      "[flaml.automl: 11-05 12:34:25] {1141} INFO -  at 10.8s,\tbest extra_tree's error=0.1513,\tbest lgbm's error=0.1205\n",
      "[flaml.automl: 11-05 12:34:25] {993} INFO - iteration 81, current learner lgbm\n",
      "[flaml.automl: 11-05 12:34:25] {1141} INFO -  at 11.0s,\tbest lgbm's error=0.1205,\tbest lgbm's error=0.1205\n",
      "[flaml.automl: 11-05 12:34:25] {993} INFO - iteration 82, current learner xgboost\n",
      "[flaml.automl: 11-05 12:34:25] {1141} INFO -  at 11.1s,\tbest xgboost's error=0.1487,\tbest lgbm's error=0.1205\n",
      "[flaml.automl: 11-05 12:34:25] {993} INFO - iteration 83, current learner xgboost\n",
      "[flaml.automl: 11-05 12:34:25] {1141} INFO -  at 11.2s,\tbest xgboost's error=0.1487,\tbest lgbm's error=0.1205\n",
      "[flaml.automl: 11-05 12:34:25] {993} INFO - iteration 84, current learner xgboost\n",
      "[flaml.automl: 11-05 12:34:25] {1141} INFO -  at 11.3s,\tbest xgboost's error=0.1487,\tbest lgbm's error=0.1205\n",
      "[flaml.automl: 11-05 12:34:25] {993} INFO - iteration 85, current learner lgbm\n",
      "[flaml.automl: 11-05 12:34:25] {1141} INFO -  at 11.4s,\tbest lgbm's error=0.1205,\tbest lgbm's error=0.1205\n",
      "[flaml.automl: 11-05 12:34:25] {993} INFO - iteration 86, current learner xgboost\n",
      "[flaml.automl: 11-05 12:34:26] {1141} INFO -  at 11.5s,\tbest xgboost's error=0.1487,\tbest lgbm's error=0.1205\n",
      "[flaml.automl: 11-05 12:34:26] {993} INFO - iteration 87, current learner lgbm\n",
      "[flaml.automl: 11-05 12:34:26] {1141} INFO -  at 11.7s,\tbest lgbm's error=0.1205,\tbest lgbm's error=0.1205\n",
      "[flaml.automl: 11-05 12:34:26] {993} INFO - iteration 88, current learner lgbm\n",
      "[flaml.automl: 11-05 12:34:26] {1141} INFO -  at 11.8s,\tbest lgbm's error=0.1205,\tbest lgbm's error=0.1205\n",
      "[flaml.automl: 11-05 12:34:26] {993} INFO - iteration 89, current learner extra_tree\n",
      "[flaml.automl: 11-05 12:34:26] {1141} INFO -  at 12.0s,\tbest extra_tree's error=0.1513,\tbest lgbm's error=0.1205\n",
      "[flaml.automl: 11-05 12:34:26] {993} INFO - iteration 90, current learner lgbm\n",
      "[flaml.automl: 11-05 12:34:26] {1141} INFO -  at 12.1s,\tbest lgbm's error=0.1205,\tbest lgbm's error=0.1205\n",
      "[flaml.automl: 11-05 12:34:26] {993} INFO - iteration 91, current learner extra_tree\n",
      "[flaml.automl: 11-05 12:34:26] {1141} INFO -  at 12.3s,\tbest extra_tree's error=0.1513,\tbest lgbm's error=0.1205\n",
      "[flaml.automl: 11-05 12:34:26] {993} INFO - iteration 92, current learner lgbm\n",
      "[flaml.automl: 11-05 12:34:27] {1141} INFO -  at 12.4s,\tbest lgbm's error=0.1205,\tbest lgbm's error=0.1205\n",
      "[flaml.automl: 11-05 12:34:27] {993} INFO - iteration 93, current learner lgbm\n",
      "[flaml.automl: 11-05 12:34:27] {1141} INFO -  at 12.6s,\tbest lgbm's error=0.1205,\tbest lgbm's error=0.1205\n",
      "[flaml.automl: 11-05 12:34:27] {993} INFO - iteration 94, current learner lgbm\n",
      "[flaml.automl: 11-05 12:34:27] {1141} INFO -  at 12.7s,\tbest lgbm's error=0.1205,\tbest lgbm's error=0.1205\n",
      "[flaml.automl: 11-05 12:34:27] {993} INFO - iteration 95, current learner extra_tree\n",
      "[flaml.automl: 11-05 12:34:27] {1141} INFO -  at 12.8s,\tbest extra_tree's error=0.1513,\tbest lgbm's error=0.1205\n",
      "[flaml.automl: 11-05 12:34:27] {993} INFO - iteration 96, current learner lgbm\n",
      "[flaml.automl: 11-05 12:34:27] {1141} INFO -  at 12.9s,\tbest lgbm's error=0.1205,\tbest lgbm's error=0.1205\n",
      "[flaml.automl: 11-05 12:34:27] {993} INFO - iteration 97, current learner lgbm\n",
      "[flaml.automl: 11-05 12:34:27] {1141} INFO -  at 13.0s,\tbest lgbm's error=0.1205,\tbest lgbm's error=0.1205\n",
      "[flaml.automl: 11-05 12:34:27] {993} INFO - iteration 98, current learner lgbm\n",
      "[flaml.automl: 11-05 12:34:27] {1141} INFO -  at 13.2s,\tbest lgbm's error=0.1205,\tbest lgbm's error=0.1205\n",
      "[flaml.automl: 11-05 12:34:27] {993} INFO - iteration 99, current learner lgbm\n",
      "[flaml.automl: 11-05 12:34:27] {1141} INFO -  at 13.3s,\tbest lgbm's error=0.1205,\tbest lgbm's error=0.1205\n",
      "[flaml.automl: 11-05 12:34:27] {993} INFO - iteration 100, current learner xgboost\n",
      "[flaml.automl: 11-05 12:34:27] {1141} INFO -  at 13.4s,\tbest xgboost's error=0.1487,\tbest lgbm's error=0.1205\n",
      "[flaml.automl: 11-05 12:34:27] {993} INFO - iteration 101, current learner lgbm\n",
      "[flaml.automl: 11-05 12:34:28] {1141} INFO -  at 13.5s,\tbest lgbm's error=0.1205,\tbest lgbm's error=0.1205\n",
      "[flaml.automl: 11-05 12:34:28] {993} INFO - iteration 102, current learner lgbm\n",
      "[flaml.automl: 11-05 12:34:28] {1141} INFO -  at 13.7s,\tbest lgbm's error=0.1205,\tbest lgbm's error=0.1205\n",
      "[flaml.automl: 11-05 12:34:28] {993} INFO - iteration 103, current learner lgbm\n",
      "[flaml.automl: 11-05 12:34:28] {1141} INFO -  at 13.8s,\tbest lgbm's error=0.1205,\tbest lgbm's error=0.1205\n",
      "[flaml.automl: 11-05 12:34:28] {993} INFO - iteration 104, current learner lgbm\n",
      "[flaml.automl: 11-05 12:34:28] {1141} INFO -  at 13.9s,\tbest lgbm's error=0.1205,\tbest lgbm's error=0.1205\n",
      "[flaml.automl: 11-05 12:34:28] {993} INFO - iteration 105, current learner lgbm\n",
      "[flaml.automl: 11-05 12:34:28] {1141} INFO -  at 14.0s,\tbest lgbm's error=0.1205,\tbest lgbm's error=0.1205\n",
      "[flaml.automl: 11-05 12:34:28] {993} INFO - iteration 106, current learner xgboost\n",
      "[flaml.automl: 11-05 12:34:28] {1141} INFO -  at 14.1s,\tbest xgboost's error=0.1487,\tbest lgbm's error=0.1205\n",
      "[flaml.automl: 11-05 12:34:28] {993} INFO - iteration 107, current learner lgbm\n",
      "[flaml.automl: 11-05 12:34:28] {1141} INFO -  at 14.2s,\tbest lgbm's error=0.1205,\tbest lgbm's error=0.1205\n",
      "[flaml.automl: 11-05 12:34:28] {993} INFO - iteration 108, current learner catboost\n",
      "[flaml.automl: 11-05 12:34:29] {1141} INFO -  at 15.1s,\tbest catboost's error=0.1397,\tbest lgbm's error=0.1205\n",
      "[flaml.automl: 11-05 12:34:29] {993} INFO - iteration 109, current learner catboost\n",
      "[flaml.automl: 11-05 12:34:30] {1141} INFO -  at 16.1s,\tbest catboost's error=0.1385,\tbest lgbm's error=0.1205\n",
      "[flaml.automl: 11-05 12:34:30] {993} INFO - iteration 110, current learner lgbm\n",
      "[flaml.automl: 11-05 12:34:30] {1141} INFO -  at 16.3s,\tbest lgbm's error=0.1205,\tbest lgbm's error=0.1205\n",
      "[flaml.automl: 11-05 12:34:30] {993} INFO - iteration 111, current learner lgbm\n",
      "[flaml.automl: 11-05 12:34:30] {1141} INFO -  at 16.4s,\tbest lgbm's error=0.1205,\tbest lgbm's error=0.1205\n",
      "[flaml.automl: 11-05 12:34:30] {993} INFO - iteration 112, current learner extra_tree\n",
      "[flaml.automl: 11-05 12:34:31] {1141} INFO -  at 16.6s,\tbest extra_tree's error=0.1513,\tbest lgbm's error=0.1205\n",
      "[flaml.automl: 11-05 12:34:31] {993} INFO - iteration 113, current learner rf\n",
      "[flaml.automl: 11-05 12:34:31] {1141} INFO -  at 16.8s,\tbest rf's error=0.1615,\tbest lgbm's error=0.1205\n",
      "[flaml.automl: 11-05 12:34:31] {993} INFO - iteration 114, current learner extra_tree\n",
      "[flaml.automl: 11-05 12:34:31] {1141} INFO -  at 16.9s,\tbest extra_tree's error=0.1513,\tbest lgbm's error=0.1205\n",
      "[flaml.automl: 11-05 12:34:31] {993} INFO - iteration 115, current learner lgbm\n",
      "[flaml.automl: 11-05 12:34:31] {1141} INFO -  at 17.0s,\tbest lgbm's error=0.1205,\tbest lgbm's error=0.1205\n",
      "[flaml.automl: 11-05 12:34:31] {993} INFO - iteration 116, current learner lgbm\n",
      "[flaml.automl: 11-05 12:34:31] {1141} INFO -  at 17.1s,\tbest lgbm's error=0.1205,\tbest lgbm's error=0.1205\n",
      "[flaml.automl: 11-05 12:34:31] {993} INFO - iteration 117, current learner extra_tree\n",
      "[flaml.automl: 11-05 12:34:31] {1141} INFO -  at 17.3s,\tbest extra_tree's error=0.1513,\tbest lgbm's error=0.1205\n",
      "[flaml.automl: 11-05 12:34:31] {993} INFO - iteration 118, current learner catboost\n",
      "[flaml.automl: 11-05 12:34:32] {1141} INFO -  at 18.4s,\tbest catboost's error=0.1385,\tbest lgbm's error=0.1205\n",
      "[flaml.automl: 11-05 12:34:32] {993} INFO - iteration 119, current learner lgbm\n",
      "[flaml.automl: 11-05 12:34:33] {1141} INFO -  at 18.6s,\tbest lgbm's error=0.1205,\tbest lgbm's error=0.1205\n",
      "[flaml.automl: 11-05 12:34:33] {993} INFO - iteration 120, current learner xgboost\n",
      "[flaml.automl: 11-05 12:34:33] {1141} INFO -  at 18.7s,\tbest xgboost's error=0.1487,\tbest lgbm's error=0.1205\n",
      "[flaml.automl: 11-05 12:34:33] {993} INFO - iteration 121, current learner xgboost\n",
      "[flaml.automl: 11-05 12:34:33] {1141} INFO -  at 18.8s,\tbest xgboost's error=0.1487,\tbest lgbm's error=0.1205\n",
      "[flaml.automl: 11-05 12:34:33] {993} INFO - iteration 122, current learner extra_tree\n",
      "[flaml.automl: 11-05 12:34:33] {1141} INFO -  at 18.9s,\tbest extra_tree's error=0.1513,\tbest lgbm's error=0.1205\n",
      "[flaml.automl: 11-05 12:34:33] {993} INFO - iteration 123, current learner catboost\n",
      "[flaml.automl: 11-05 12:34:34] {1141} INFO -  at 19.9s,\tbest catboost's error=0.1385,\tbest lgbm's error=0.1205\n",
      "[flaml.automl: 11-05 12:34:34] {993} INFO - iteration 124, current learner lgbm\n",
      "[flaml.automl: 11-05 12:34:34] {1141} INFO -  at 20.0s,\tbest lgbm's error=0.1205,\tbest lgbm's error=0.1205\n",
      "[flaml.automl: 11-05 12:34:34] {993} INFO - iteration 125, current learner lgbm\n",
      "[flaml.automl: 11-05 12:34:34] {1141} INFO -  at 20.3s,\tbest lgbm's error=0.1205,\tbest lgbm's error=0.1205\n",
      "[flaml.automl: 11-05 12:34:34] {993} INFO - iteration 126, current learner lgbm\n",
      "[flaml.automl: 11-05 12:34:34] {1141} INFO -  at 20.4s,\tbest lgbm's error=0.1205,\tbest lgbm's error=0.1205\n",
      "[flaml.automl: 11-05 12:34:34] {993} INFO - iteration 127, current learner lgbm\n",
      "[flaml.automl: 11-05 12:34:35] {1141} INFO -  at 20.5s,\tbest lgbm's error=0.1205,\tbest lgbm's error=0.1205\n",
      "[flaml.automl: 11-05 12:34:35] {993} INFO - iteration 128, current learner lgbm\n",
      "[flaml.automl: 11-05 12:34:35] {1141} INFO -  at 20.7s,\tbest lgbm's error=0.1205,\tbest lgbm's error=0.1205\n",
      "[flaml.automl: 11-05 12:34:35] {993} INFO - iteration 129, current learner xgboost\n",
      "[flaml.automl: 11-05 12:34:35] {1141} INFO -  at 20.8s,\tbest xgboost's error=0.1397,\tbest lgbm's error=0.1205\n",
      "[flaml.automl: 11-05 12:34:35] {993} INFO - iteration 130, current learner catboost\n",
      "[flaml.automl: 11-05 12:34:36] {1141} INFO -  at 21.8s,\tbest catboost's error=0.1385,\tbest lgbm's error=0.1205\n",
      "[flaml.automl: 11-05 12:34:36] {993} INFO - iteration 131, current learner xgboost\n",
      "[flaml.automl: 11-05 12:34:36] {1141} INFO -  at 21.9s,\tbest xgboost's error=0.1397,\tbest lgbm's error=0.1205\n",
      "[flaml.automl: 11-05 12:34:36] {993} INFO - iteration 132, current learner xgboost\n",
      "[flaml.automl: 11-05 12:34:36] {1141} INFO -  at 22.0s,\tbest xgboost's error=0.1397,\tbest lgbm's error=0.1205\n",
      "[flaml.automl: 11-05 12:34:36] {993} INFO - iteration 133, current learner lgbm\n",
      "[flaml.automl: 11-05 12:34:36] {1141} INFO -  at 22.1s,\tbest lgbm's error=0.1205,\tbest lgbm's error=0.1205\n",
      "[flaml.automl: 11-05 12:34:36] {993} INFO - iteration 134, current learner lgbm\n",
      "[flaml.automl: 11-05 12:34:36] {1141} INFO -  at 22.2s,\tbest lgbm's error=0.1205,\tbest lgbm's error=0.1205\n",
      "[flaml.automl: 11-05 12:34:36] {993} INFO - iteration 135, current learner xgboost\n",
      "[flaml.automl: 11-05 12:34:36] {1141} INFO -  at 22.3s,\tbest xgboost's error=0.1397,\tbest lgbm's error=0.1205\n",
      "[flaml.automl: 11-05 12:34:36] {993} INFO - iteration 136, current learner extra_tree\n",
      "[flaml.automl: 11-05 12:34:37] {1141} INFO -  at 22.5s,\tbest extra_tree's error=0.1513,\tbest lgbm's error=0.1205\n",
      "[flaml.automl: 11-05 12:34:37] {993} INFO - iteration 137, current learner lgbm\n",
      "[flaml.automl: 11-05 12:34:37] {1141} INFO -  at 22.7s,\tbest lgbm's error=0.1205,\tbest lgbm's error=0.1205\n",
      "[flaml.automl: 11-05 12:34:37] {993} INFO - iteration 138, current learner lgbm\n",
      "[flaml.automl: 11-05 12:34:37] {1141} INFO -  at 22.8s,\tbest lgbm's error=0.1205,\tbest lgbm's error=0.1205\n",
      "[flaml.automl: 11-05 12:34:37] {993} INFO - iteration 139, current learner xgboost\n",
      "[flaml.automl: 11-05 12:34:37] {1141} INFO -  at 22.9s,\tbest xgboost's error=0.1397,\tbest lgbm's error=0.1205\n",
      "[flaml.automl: 11-05 12:34:37] {993} INFO - iteration 140, current learner lgbm\n",
      "[flaml.automl: 11-05 12:34:37] {1141} INFO -  at 23.1s,\tbest lgbm's error=0.1205,\tbest lgbm's error=0.1205\n",
      "[flaml.automl: 11-05 12:34:37] {993} INFO - iteration 141, current learner xgboost\n",
      "[flaml.automl: 11-05 12:34:37] {1141} INFO -  at 23.2s,\tbest xgboost's error=0.1397,\tbest lgbm's error=0.1205\n",
      "[flaml.automl: 11-05 12:34:37] {993} INFO - iteration 142, current learner lgbm\n",
      "[flaml.automl: 11-05 12:34:37] {1141} INFO -  at 23.3s,\tbest lgbm's error=0.1205,\tbest lgbm's error=0.1205\n",
      "[flaml.automl: 11-05 12:34:37] {993} INFO - iteration 143, current learner xgboost\n",
      "[flaml.automl: 11-05 12:34:37] {1141} INFO -  at 23.4s,\tbest xgboost's error=0.1397,\tbest lgbm's error=0.1205\n",
      "[flaml.automl: 11-05 12:34:37] {993} INFO - iteration 144, current learner xgboost\n",
      "[flaml.automl: 11-05 12:34:38] {1141} INFO -  at 23.5s,\tbest xgboost's error=0.1397,\tbest lgbm's error=0.1205\n",
      "[flaml.automl: 11-05 12:34:38] {993} INFO - iteration 145, current learner lgbm\n",
      "[flaml.automl: 11-05 12:34:38] {1141} INFO -  at 23.6s,\tbest lgbm's error=0.1205,\tbest lgbm's error=0.1205\n",
      "[flaml.automl: 11-05 12:34:38] {993} INFO - iteration 146, current learner lgbm\n",
      "[flaml.automl: 11-05 12:34:38] {1141} INFO -  at 23.7s,\tbest lgbm's error=0.1205,\tbest lgbm's error=0.1205\n",
      "[flaml.automl: 11-05 12:34:38] {993} INFO - iteration 147, current learner lgbm\n",
      "[flaml.automl: 11-05 12:34:38] {1141} INFO -  at 23.9s,\tbest lgbm's error=0.1205,\tbest lgbm's error=0.1205\n",
      "[flaml.automl: 11-05 12:34:38] {993} INFO - iteration 148, current learner lgbm\n",
      "[flaml.automl: 11-05 12:34:38] {1141} INFO -  at 24.0s,\tbest lgbm's error=0.1205,\tbest lgbm's error=0.1205\n",
      "[flaml.automl: 11-05 12:34:38] {993} INFO - iteration 149, current learner lgbm\n",
      "[flaml.automl: 11-05 12:34:38] {1141} INFO -  at 24.1s,\tbest lgbm's error=0.1205,\tbest lgbm's error=0.1205\n",
      "[flaml.automl: 11-05 12:34:38] {993} INFO - iteration 150, current learner lgbm\n",
      "[flaml.automl: 11-05 12:34:38] {1141} INFO -  at 24.2s,\tbest lgbm's error=0.1205,\tbest lgbm's error=0.1205\n",
      "[flaml.automl: 11-05 12:34:38] {993} INFO - iteration 151, current learner lgbm\n",
      "[flaml.automl: 11-05 12:34:38] {1141} INFO -  at 24.3s,\tbest lgbm's error=0.1205,\tbest lgbm's error=0.1205\n",
      "[flaml.automl: 11-05 12:34:38] {993} INFO - iteration 152, current learner xgboost\n",
      "[flaml.automl: 11-05 12:34:39] {1141} INFO -  at 24.5s,\tbest xgboost's error=0.1397,\tbest lgbm's error=0.1205\n",
      "[flaml.automl: 11-05 12:34:39] {993} INFO - iteration 153, current learner catboost\n",
      "[flaml.automl: 11-05 12:34:40] {1141} INFO -  at 25.5s,\tbest catboost's error=0.1385,\tbest lgbm's error=0.1205\n",
      "[flaml.automl: 11-05 12:34:40] {993} INFO - iteration 154, current learner lgbm\n",
      "[flaml.automl: 11-05 12:34:40] {1141} INFO -  at 25.6s,\tbest lgbm's error=0.1205,\tbest lgbm's error=0.1205\n",
      "[flaml.automl: 11-05 12:34:40] {993} INFO - iteration 155, current learner lgbm\n",
      "[flaml.automl: 11-05 12:34:40] {1141} INFO -  at 25.8s,\tbest lgbm's error=0.1205,\tbest lgbm's error=0.1205\n",
      "[flaml.automl: 11-05 12:34:40] {993} INFO - iteration 156, current learner extra_tree\n",
      "[flaml.automl: 11-05 12:34:40] {1141} INFO -  at 25.9s,\tbest extra_tree's error=0.1513,\tbest lgbm's error=0.1205\n",
      "[flaml.automl: 11-05 12:34:40] {993} INFO - iteration 157, current learner xgboost\n",
      "[flaml.automl: 11-05 12:34:40] {1141} INFO -  at 26.0s,\tbest xgboost's error=0.1397,\tbest lgbm's error=0.1205\n",
      "[flaml.automl: 11-05 12:34:40] {993} INFO - iteration 158, current learner lgbm\n",
      "[flaml.automl: 11-05 12:34:40] {1141} INFO -  at 26.1s,\tbest lgbm's error=0.1205,\tbest lgbm's error=0.1205\n",
      "[flaml.automl: 11-05 12:34:40] {993} INFO - iteration 159, current learner lgbm\n",
      "[flaml.automl: 11-05 12:34:40] {1141} INFO -  at 26.2s,\tbest lgbm's error=0.1205,\tbest lgbm's error=0.1205\n",
      "[flaml.automl: 11-05 12:34:40] {993} INFO - iteration 160, current learner xgboost\n",
      "[flaml.automl: 11-05 12:34:40] {1141} INFO -  at 26.3s,\tbest xgboost's error=0.1397,\tbest lgbm's error=0.1205\n",
      "[flaml.automl: 11-05 12:34:40] {993} INFO - iteration 161, current learner lgbm\n",
      "[flaml.automl: 11-05 12:34:41] {1141} INFO -  at 26.4s,\tbest lgbm's error=0.1205,\tbest lgbm's error=0.1205\n",
      "[flaml.automl: 11-05 12:34:41] {993} INFO - iteration 162, current learner xgboost\n",
      "[flaml.automl: 11-05 12:34:41] {1141} INFO -  at 26.6s,\tbest xgboost's error=0.1397,\tbest lgbm's error=0.1205\n",
      "[flaml.automl: 11-05 12:34:41] {993} INFO - iteration 163, current learner extra_tree\n",
      "[flaml.automl: 11-05 12:34:41] {1141} INFO -  at 26.8s,\tbest extra_tree's error=0.1513,\tbest lgbm's error=0.1205\n",
      "[flaml.automl: 11-05 12:34:41] {993} INFO - iteration 164, current learner xgboost\n",
      "[flaml.automl: 11-05 12:34:41] {1141} INFO -  at 26.9s,\tbest xgboost's error=0.1397,\tbest lgbm's error=0.1205\n",
      "[flaml.automl: 11-05 12:34:41] {993} INFO - iteration 165, current learner lgbm\n",
      "[flaml.automl: 11-05 12:34:41] {1141} INFO -  at 27.0s,\tbest lgbm's error=0.1205,\tbest lgbm's error=0.1205\n",
      "[flaml.automl: 11-05 12:34:41] {993} INFO - iteration 166, current learner lgbm\n",
      "[flaml.automl: 11-05 12:34:41] {1141} INFO -  at 27.1s,\tbest lgbm's error=0.1205,\tbest lgbm's error=0.1205\n",
      "[flaml.automl: 11-05 12:34:41] {993} INFO - iteration 167, current learner xgboost\n",
      "[flaml.automl: 11-05 12:34:41] {1141} INFO -  at 27.2s,\tbest xgboost's error=0.1397,\tbest lgbm's error=0.1205\n",
      "[flaml.automl: 11-05 12:34:41] {993} INFO - iteration 168, current learner xgboost\n",
      "[flaml.automl: 11-05 12:34:41] {1141} INFO -  at 27.3s,\tbest xgboost's error=0.1397,\tbest lgbm's error=0.1205\n",
      "[flaml.automl: 11-05 12:34:41] {993} INFO - iteration 169, current learner lgbm\n",
      "[flaml.automl: 11-05 12:34:42] {1141} INFO -  at 27.5s,\tbest lgbm's error=0.1205,\tbest lgbm's error=0.1205\n",
      "[flaml.automl: 11-05 12:34:42] {993} INFO - iteration 170, current learner lgbm\n",
      "[flaml.automl: 11-05 12:34:42] {1141} INFO -  at 27.6s,\tbest lgbm's error=0.1205,\tbest lgbm's error=0.1205\n",
      "[flaml.automl: 11-05 12:34:42] {993} INFO - iteration 171, current learner lgbm\n",
      "[flaml.automl: 11-05 12:34:42] {1141} INFO -  at 27.7s,\tbest lgbm's error=0.1205,\tbest lgbm's error=0.1205\n",
      "[flaml.automl: 11-05 12:34:42] {993} INFO - iteration 172, current learner lgbm\n",
      "[flaml.automl: 11-05 12:34:42] {1141} INFO -  at 27.8s,\tbest lgbm's error=0.1205,\tbest lgbm's error=0.1205\n",
      "[flaml.automl: 11-05 12:34:42] {993} INFO - iteration 173, current learner xgboost\n",
      "[flaml.automl: 11-05 12:34:42] {1141} INFO -  at 27.9s,\tbest xgboost's error=0.1397,\tbest lgbm's error=0.1205\n",
      "[flaml.automl: 11-05 12:34:42] {993} INFO - iteration 174, current learner catboost\n",
      "[flaml.automl: 11-05 12:34:43] {1141} INFO -  at 28.7s,\tbest catboost's error=0.1385,\tbest lgbm's error=0.1205\n",
      "[flaml.automl: 11-05 12:34:43] {993} INFO - iteration 175, current learner lgbm\n",
      "[flaml.automl: 11-05 12:34:43] {1141} INFO -  at 28.8s,\tbest lgbm's error=0.1205,\tbest lgbm's error=0.1205\n",
      "[flaml.automl: 11-05 12:34:43] {993} INFO - iteration 176, current learner extra_tree\n",
      "[flaml.automl: 11-05 12:34:43] {1141} INFO -  at 28.9s,\tbest extra_tree's error=0.1513,\tbest lgbm's error=0.1205\n",
      "[flaml.automl: 11-05 12:34:43] {993} INFO - iteration 177, current learner xgboost\n",
      "[flaml.automl: 11-05 12:34:43] {1141} INFO -  at 29.0s,\tbest xgboost's error=0.1397,\tbest lgbm's error=0.1205\n",
      "[flaml.automl: 11-05 12:34:43] {993} INFO - iteration 178, current learner lgbm\n",
      "[flaml.automl: 11-05 12:34:43] {1141} INFO -  at 29.1s,\tbest lgbm's error=0.1205,\tbest lgbm's error=0.1205\n",
      "[flaml.automl: 11-05 12:34:43] {993} INFO - iteration 179, current learner lgbm\n",
      "[flaml.automl: 11-05 12:34:43] {1141} INFO -  at 29.3s,\tbest lgbm's error=0.1205,\tbest lgbm's error=0.1205\n",
      "[flaml.automl: 11-05 12:34:43] {993} INFO - iteration 180, current learner xgboost\n",
      "[flaml.automl: 11-05 12:34:43] {1141} INFO -  at 29.4s,\tbest xgboost's error=0.1397,\tbest lgbm's error=0.1205\n",
      "[flaml.automl: 11-05 12:34:43] {993} INFO - iteration 181, current learner xgboost\n",
      "[flaml.automl: 11-05 12:34:44] {1141} INFO -  at 29.5s,\tbest xgboost's error=0.1397,\tbest lgbm's error=0.1205\n",
      "[flaml.automl: 11-05 12:34:44] {993} INFO - iteration 182, current learner lgbm\n",
      "[flaml.automl: 11-05 12:34:44] {1141} INFO -  at 29.6s,\tbest lgbm's error=0.1205,\tbest lgbm's error=0.1205\n",
      "[flaml.automl: 11-05 12:34:44] {993} INFO - iteration 183, current learner lgbm\n",
      "[flaml.automl: 11-05 12:34:44] {1141} INFO -  at 29.7s,\tbest lgbm's error=0.1205,\tbest lgbm's error=0.1205\n",
      "[flaml.automl: 11-05 12:34:44] {993} INFO - iteration 184, current learner lgbm\n",
      "[flaml.automl: 11-05 12:34:44] {1141} INFO -  at 29.8s,\tbest lgbm's error=0.1205,\tbest lgbm's error=0.1205\n",
      "[flaml.automl: 11-05 12:34:44] {993} INFO - iteration 185, current learner xgboost\n",
      "[flaml.automl: 11-05 12:34:44] {1141} INFO -  at 30.0s,\tbest xgboost's error=0.1397,\tbest lgbm's error=0.1205\n",
      "[flaml.automl: 11-05 12:34:44] {993} INFO - iteration 186, current learner lgbm\n",
      "[flaml.automl: 11-05 12:34:44] {1141} INFO -  at 30.1s,\tbest lgbm's error=0.1205,\tbest lgbm's error=0.1205\n",
      "[flaml.automl: 11-05 12:34:44] {993} INFO - iteration 187, current learner xgboost\n",
      "[flaml.automl: 11-05 12:34:44] {1141} INFO -  at 30.2s,\tbest xgboost's error=0.1397,\tbest lgbm's error=0.1205\n",
      "[flaml.automl: 11-05 12:34:44] {993} INFO - iteration 188, current learner lgbm\n",
      "[flaml.automl: 11-05 12:34:44] {1141} INFO -  at 30.3s,\tbest lgbm's error=0.1205,\tbest lgbm's error=0.1205\n",
      "[flaml.automl: 11-05 12:34:44] {993} INFO - iteration 189, current learner lgbm\n",
      "[flaml.automl: 11-05 12:34:44] {1141} INFO -  at 30.4s,\tbest lgbm's error=0.1205,\tbest lgbm's error=0.1205\n",
      "[flaml.automl: 11-05 12:34:44] {993} INFO - iteration 190, current learner xgboost\n",
      "[flaml.automl: 11-05 12:34:45] {1141} INFO -  at 30.5s,\tbest xgboost's error=0.1397,\tbest lgbm's error=0.1205\n",
      "[flaml.automl: 11-05 12:34:45] {993} INFO - iteration 191, current learner lgbm\n",
      "[flaml.automl: 11-05 12:34:45] {1141} INFO -  at 30.6s,\tbest lgbm's error=0.1205,\tbest lgbm's error=0.1205\n",
      "[flaml.automl: 11-05 12:34:45] {993} INFO - iteration 192, current learner xgboost\n",
      "[flaml.automl: 11-05 12:34:45] {1141} INFO -  at 30.7s,\tbest xgboost's error=0.1397,\tbest lgbm's error=0.1205\n",
      "[flaml.automl: 11-05 12:34:45] {993} INFO - iteration 193, current learner lgbm\n",
      "[flaml.automl: 11-05 12:34:45] {1141} INFO -  at 30.8s,\tbest lgbm's error=0.1205,\tbest lgbm's error=0.1205\n",
      "[flaml.automl: 11-05 12:34:45] {993} INFO - iteration 194, current learner extra_tree\n",
      "[flaml.automl: 11-05 12:34:45] {1141} INFO -  at 31.0s,\tbest extra_tree's error=0.1513,\tbest lgbm's error=0.1205\n",
      "[flaml.automl: 11-05 12:34:45] {993} INFO - iteration 195, current learner lgbm\n",
      "[flaml.automl: 11-05 12:34:45] {1141} INFO -  at 31.1s,\tbest lgbm's error=0.1205,\tbest lgbm's error=0.1205\n",
      "[flaml.automl: 11-05 12:34:45] {993} INFO - iteration 196, current learner lgbm\n",
      "[flaml.automl: 11-05 12:34:45] {1141} INFO -  at 31.2s,\tbest lgbm's error=0.1205,\tbest lgbm's error=0.1205\n",
      "[flaml.automl: 11-05 12:34:45] {993} INFO - iteration 197, current learner xgboost\n",
      "[flaml.automl: 11-05 12:34:45] {1141} INFO -  at 31.3s,\tbest xgboost's error=0.1397,\tbest lgbm's error=0.1205\n",
      "[flaml.automl: 11-05 12:34:45] {993} INFO - iteration 198, current learner xgboost\n",
      "[flaml.automl: 11-05 12:34:46] {1141} INFO -  at 31.4s,\tbest xgboost's error=0.1397,\tbest lgbm's error=0.1205\n",
      "[flaml.automl: 11-05 12:34:46] {993} INFO - iteration 199, current learner extra_tree\n",
      "[flaml.automl: 11-05 12:34:46] {1141} INFO -  at 31.6s,\tbest extra_tree's error=0.1513,\tbest lgbm's error=0.1205\n",
      "[flaml.automl: 11-05 12:34:46] {993} INFO - iteration 200, current learner extra_tree\n",
      "[flaml.automl: 11-05 12:34:46] {1141} INFO -  at 31.8s,\tbest extra_tree's error=0.1513,\tbest lgbm's error=0.1205\n",
      "[flaml.automl: 11-05 12:34:46] {993} INFO - iteration 201, current learner lgbm\n",
      "[flaml.automl: 11-05 12:34:46] {1141} INFO -  at 31.9s,\tbest lgbm's error=0.1205,\tbest lgbm's error=0.1205\n",
      "[flaml.automl: 11-05 12:34:46] {993} INFO - iteration 202, current learner lgbm\n",
      "[flaml.automl: 11-05 12:34:46] {1141} INFO -  at 32.0s,\tbest lgbm's error=0.1205,\tbest lgbm's error=0.1205\n",
      "[flaml.automl: 11-05 12:34:46] {993} INFO - iteration 203, current learner xgboost\n",
      "[flaml.automl: 11-05 12:34:46] {1141} INFO -  at 32.1s,\tbest xgboost's error=0.1397,\tbest lgbm's error=0.1205\n",
      "[flaml.automl: 11-05 12:34:46] {993} INFO - iteration 204, current learner extra_tree\n",
      "[flaml.automl: 11-05 12:34:46] {1141} INFO -  at 32.3s,\tbest extra_tree's error=0.1513,\tbest lgbm's error=0.1205\n",
      "[flaml.automl: 11-05 12:34:46] {993} INFO - iteration 205, current learner extra_tree\n",
      "[flaml.automl: 11-05 12:34:46] {1141} INFO -  at 32.4s,\tbest extra_tree's error=0.1513,\tbest lgbm's error=0.1205\n",
      "[flaml.automl: 11-05 12:34:46] {993} INFO - iteration 206, current learner lgbm\n",
      "[flaml.automl: 11-05 12:34:47] {1141} INFO -  at 32.5s,\tbest lgbm's error=0.1205,\tbest lgbm's error=0.1205\n",
      "[flaml.automl: 11-05 12:34:47] {993} INFO - iteration 207, current learner extra_tree\n",
      "[flaml.automl: 11-05 12:34:47] {1141} INFO -  at 32.7s,\tbest extra_tree's error=0.1513,\tbest lgbm's error=0.1205\n",
      "[flaml.automl: 11-05 12:34:47] {993} INFO - iteration 208, current learner xgboost\n",
      "[flaml.automl: 11-05 12:34:47] {1141} INFO -  at 32.8s,\tbest xgboost's error=0.1397,\tbest lgbm's error=0.1205\n",
      "[flaml.automl: 11-05 12:34:47] {993} INFO - iteration 209, current learner lgbm\n",
      "[flaml.automl: 11-05 12:34:47] {1141} INFO -  at 32.9s,\tbest lgbm's error=0.1205,\tbest lgbm's error=0.1205\n",
      "[flaml.automl: 11-05 12:34:47] {993} INFO - iteration 210, current learner lgbm\n",
      "[flaml.automl: 11-05 12:34:47] {1141} INFO -  at 33.1s,\tbest lgbm's error=0.1205,\tbest lgbm's error=0.1205\n",
      "[flaml.automl: 11-05 12:34:47] {993} INFO - iteration 211, current learner xgboost\n",
      "[flaml.automl: 11-05 12:34:47] {1141} INFO -  at 33.2s,\tbest xgboost's error=0.1397,\tbest lgbm's error=0.1205\n",
      "[flaml.automl: 11-05 12:34:47] {993} INFO - iteration 212, current learner lgbm\n",
      "[flaml.automl: 11-05 12:34:47] {1141} INFO -  at 33.3s,\tbest lgbm's error=0.1205,\tbest lgbm's error=0.1205\n",
      "[flaml.automl: 11-05 12:34:47] {993} INFO - iteration 213, current learner extra_tree\n",
      "[flaml.automl: 11-05 12:34:48] {1141} INFO -  at 33.5s,\tbest extra_tree's error=0.1513,\tbest lgbm's error=0.1205\n",
      "[flaml.automl: 11-05 12:34:48] {993} INFO - iteration 214, current learner extra_tree\n",
      "[flaml.automl: 11-05 12:34:48] {1141} INFO -  at 33.7s,\tbest extra_tree's error=0.1513,\tbest lgbm's error=0.1205\n",
      "[flaml.automl: 11-05 12:34:48] {993} INFO - iteration 215, current learner lgbm\n",
      "[flaml.automl: 11-05 12:34:48] {1141} INFO -  at 33.8s,\tbest lgbm's error=0.1205,\tbest lgbm's error=0.1205\n",
      "[flaml.automl: 11-05 12:34:48] {993} INFO - iteration 216, current learner extra_tree\n",
      "[flaml.automl: 11-05 12:34:48] {1141} INFO -  at 34.0s,\tbest extra_tree's error=0.1513,\tbest lgbm's error=0.1205\n",
      "[flaml.automl: 11-05 12:34:48] {993} INFO - iteration 217, current learner lgbm\n",
      "[flaml.automl: 11-05 12:34:48] {1141} INFO -  at 34.1s,\tbest lgbm's error=0.1205,\tbest lgbm's error=0.1205\n",
      "[flaml.automl: 11-05 12:34:48] {993} INFO - iteration 218, current learner lgbm\n",
      "[flaml.automl: 11-05 12:34:48] {1141} INFO -  at 34.2s,\tbest lgbm's error=0.1205,\tbest lgbm's error=0.1205\n",
      "[flaml.automl: 11-05 12:34:48] {993} INFO - iteration 219, current learner lgbm\n",
      "[flaml.automl: 11-05 12:34:48] {1141} INFO -  at 34.3s,\tbest lgbm's error=0.1205,\tbest lgbm's error=0.1205\n",
      "[flaml.automl: 11-05 12:34:48] {993} INFO - iteration 220, current learner lgbm\n",
      "[flaml.automl: 11-05 12:34:48] {1141} INFO -  at 34.4s,\tbest lgbm's error=0.1205,\tbest lgbm's error=0.1205\n",
      "[flaml.automl: 11-05 12:34:48] {993} INFO - iteration 221, current learner lgbm\n",
      "[flaml.automl: 11-05 12:34:49] {1141} INFO -  at 34.5s,\tbest lgbm's error=0.1205,\tbest lgbm's error=0.1205\n",
      "[flaml.automl: 11-05 12:34:49] {993} INFO - iteration 222, current learner extra_tree\n",
      "[flaml.automl: 11-05 12:34:49] {1141} INFO -  at 34.7s,\tbest extra_tree's error=0.1513,\tbest lgbm's error=0.1205\n",
      "[flaml.automl: 11-05 12:34:49] {993} INFO - iteration 223, current learner xgboost\n",
      "[flaml.automl: 11-05 12:34:49] {1141} INFO -  at 34.8s,\tbest xgboost's error=0.1397,\tbest lgbm's error=0.1205\n",
      "[flaml.automl: 11-05 12:34:49] {993} INFO - iteration 224, current learner lgbm\n",
      "[flaml.automl: 11-05 12:34:49] {1141} INFO -  at 34.9s,\tbest lgbm's error=0.1205,\tbest lgbm's error=0.1205\n",
      "[flaml.automl: 11-05 12:34:49] {993} INFO - iteration 225, current learner lgbm\n",
      "[flaml.automl: 11-05 12:34:49] {1141} INFO -  at 35.0s,\tbest lgbm's error=0.1205,\tbest lgbm's error=0.1205\n",
      "[flaml.automl: 11-05 12:34:49] {993} INFO - iteration 226, current learner lgbm\n",
      "[flaml.automl: 11-05 12:34:49] {1141} INFO -  at 35.1s,\tbest lgbm's error=0.1205,\tbest lgbm's error=0.1205\n",
      "[flaml.automl: 11-05 12:34:49] {993} INFO - iteration 227, current learner lgbm\n",
      "[flaml.automl: 11-05 12:34:49] {1141} INFO -  at 35.2s,\tbest lgbm's error=0.1205,\tbest lgbm's error=0.1205\n",
      "[flaml.automl: 11-05 12:34:49] {993} INFO - iteration 228, current learner xgboost\n",
      "[flaml.automl: 11-05 12:34:49] {1141} INFO -  at 35.3s,\tbest xgboost's error=0.1359,\tbest lgbm's error=0.1205\n",
      "[flaml.automl: 11-05 12:34:49] {993} INFO - iteration 229, current learner lgbm\n",
      "[flaml.automl: 11-05 12:34:49] {1141} INFO -  at 35.4s,\tbest lgbm's error=0.1205,\tbest lgbm's error=0.1205\n",
      "[flaml.automl: 11-05 12:34:49] {993} INFO - iteration 230, current learner extra_tree\n",
      "[flaml.automl: 11-05 12:34:50] {1141} INFO -  at 35.6s,\tbest extra_tree's error=0.1513,\tbest lgbm's error=0.1205\n",
      "[flaml.automl: 11-05 12:34:50] {993} INFO - iteration 231, current learner lgbm\n",
      "[flaml.automl: 11-05 12:34:50] {1141} INFO -  at 35.7s,\tbest lgbm's error=0.1205,\tbest lgbm's error=0.1205\n",
      "[flaml.automl: 11-05 12:34:50] {993} INFO - iteration 232, current learner extra_tree\n",
      "[flaml.automl: 11-05 12:34:50] {1141} INFO -  at 35.9s,\tbest extra_tree's error=0.1513,\tbest lgbm's error=0.1205\n",
      "[flaml.automl: 11-05 12:34:50] {993} INFO - iteration 233, current learner xgboost\n",
      "[flaml.automl: 11-05 12:34:50] {1141} INFO -  at 36.0s,\tbest xgboost's error=0.1359,\tbest lgbm's error=0.1205\n",
      "[flaml.automl: 11-05 12:34:50] {993} INFO - iteration 234, current learner extra_tree\n",
      "[flaml.automl: 11-05 12:34:50] {1141} INFO -  at 36.2s,\tbest extra_tree's error=0.1513,\tbest lgbm's error=0.1205\n",
      "[flaml.automl: 11-05 12:34:50] {993} INFO - iteration 235, current learner lgbm\n",
      "[flaml.automl: 11-05 12:34:50] {1141} INFO -  at 36.3s,\tbest lgbm's error=0.1205,\tbest lgbm's error=0.1205\n",
      "[flaml.automl: 11-05 12:34:50] {993} INFO - iteration 236, current learner lgbm\n",
      "[flaml.automl: 11-05 12:34:50] {1141} INFO -  at 36.4s,\tbest lgbm's error=0.1205,\tbest lgbm's error=0.1205\n",
      "[flaml.automl: 11-05 12:34:50] {993} INFO - iteration 237, current learner xgboost\n",
      "[flaml.automl: 11-05 12:34:51] {1141} INFO -  at 36.5s,\tbest xgboost's error=0.1359,\tbest lgbm's error=0.1205\n",
      "[flaml.automl: 11-05 12:34:51] {993} INFO - iteration 238, current learner lgbm\n",
      "[flaml.automl: 11-05 12:34:51] {1141} INFO -  at 36.7s,\tbest lgbm's error=0.1205,\tbest lgbm's error=0.1205\n",
      "[flaml.automl: 11-05 12:34:51] {993} INFO - iteration 239, current learner lgbm\n",
      "[flaml.automl: 11-05 12:34:51] {1141} INFO -  at 36.8s,\tbest lgbm's error=0.1205,\tbest lgbm's error=0.1205\n",
      "[flaml.automl: 11-05 12:34:51] {993} INFO - iteration 240, current learner catboost\n",
      "[flaml.automl: 11-05 12:34:52] {1141} INFO -  at 38.4s,\tbest catboost's error=0.1385,\tbest lgbm's error=0.1205\n",
      "[flaml.automl: 11-05 12:34:52] {993} INFO - iteration 241, current learner lgbm\n",
      "[flaml.automl: 11-05 12:34:53] {1141} INFO -  at 38.5s,\tbest lgbm's error=0.1205,\tbest lgbm's error=0.1205\n",
      "[flaml.automl: 11-05 12:34:53] {993} INFO - iteration 242, current learner catboost\n",
      "[flaml.automl: 11-05 12:34:54] {1141} INFO -  at 39.6s,\tbest catboost's error=0.1385,\tbest lgbm's error=0.1205\n",
      "[flaml.automl: 11-05 12:34:54] {993} INFO - iteration 243, current learner lgbm\n",
      "[flaml.automl: 11-05 12:34:54] {1141} INFO -  at 39.7s,\tbest lgbm's error=0.1205,\tbest lgbm's error=0.1205\n",
      "[flaml.automl: 11-05 12:34:54] {993} INFO - iteration 244, current learner xgboost\n",
      "[flaml.automl: 11-05 12:34:54] {1141} INFO -  at 39.8s,\tbest xgboost's error=0.1359,\tbest lgbm's error=0.1205\n",
      "[flaml.automl: 11-05 12:34:54] {993} INFO - iteration 245, current learner lgbm\n",
      "[flaml.automl: 11-05 12:34:54] {1141} INFO -  at 39.9s,\tbest lgbm's error=0.1205,\tbest lgbm's error=0.1205\n",
      "[flaml.automl: 11-05 12:34:54] {993} INFO - iteration 246, current learner extra_tree\n",
      "[flaml.automl: 11-05 12:34:54] {1141} INFO -  at 40.1s,\tbest extra_tree's error=0.1513,\tbest lgbm's error=0.1205\n",
      "[flaml.automl: 11-05 12:34:54] {993} INFO - iteration 247, current learner lgbm\n",
      "[flaml.automl: 11-05 12:34:54] {1141} INFO -  at 40.2s,\tbest lgbm's error=0.1205,\tbest lgbm's error=0.1205\n",
      "[flaml.automl: 11-05 12:34:54] {993} INFO - iteration 248, current learner lgbm\n",
      "[flaml.automl: 11-05 12:34:54] {1141} INFO -  at 40.3s,\tbest lgbm's error=0.1205,\tbest lgbm's error=0.1205\n",
      "[flaml.automl: 11-05 12:34:54] {993} INFO - iteration 249, current learner xgboost\n",
      "[flaml.automl: 11-05 12:34:54] {1141} INFO -  at 40.4s,\tbest xgboost's error=0.1359,\tbest lgbm's error=0.1205\n",
      "[flaml.automl: 11-05 12:34:54] {993} INFO - iteration 250, current learner catboost\n",
      "[flaml.automl: 11-05 12:34:55] {1141} INFO -  at 41.3s,\tbest catboost's error=0.1385,\tbest lgbm's error=0.1205\n",
      "[flaml.automl: 11-05 12:34:55] {993} INFO - iteration 251, current learner lgbm\n",
      "[flaml.automl: 11-05 12:34:55] {1141} INFO -  at 41.4s,\tbest lgbm's error=0.1205,\tbest lgbm's error=0.1205\n",
      "[flaml.automl: 11-05 12:34:55] {993} INFO - iteration 252, current learner lgbm\n",
      "[flaml.automl: 11-05 12:34:56] {1141} INFO -  at 41.6s,\tbest lgbm's error=0.1205,\tbest lgbm's error=0.1205\n",
      "[flaml.automl: 11-05 12:34:56] {993} INFO - iteration 253, current learner xgboost\n",
      "[flaml.automl: 11-05 12:34:56] {1141} INFO -  at 41.7s,\tbest xgboost's error=0.1359,\tbest lgbm's error=0.1205\n",
      "[flaml.automl: 11-05 12:34:56] {993} INFO - iteration 254, current learner extra_tree\n",
      "[flaml.automl: 11-05 12:34:56] {1141} INFO -  at 41.9s,\tbest extra_tree's error=0.1513,\tbest lgbm's error=0.1205\n",
      "[flaml.automl: 11-05 12:34:56] {993} INFO - iteration 255, current learner lgbm\n",
      "[flaml.automl: 11-05 12:34:56] {1141} INFO -  at 42.0s,\tbest lgbm's error=0.1205,\tbest lgbm's error=0.1205\n",
      "[flaml.automl: 11-05 12:34:56] {993} INFO - iteration 256, current learner extra_tree\n",
      "[flaml.automl: 11-05 12:34:56] {1141} INFO -  at 42.1s,\tbest extra_tree's error=0.1513,\tbest lgbm's error=0.1205\n",
      "[flaml.automl: 11-05 12:34:56] {993} INFO - iteration 257, current learner lgbm\n",
      "[flaml.automl: 11-05 12:34:56] {1141} INFO -  at 42.3s,\tbest lgbm's error=0.1205,\tbest lgbm's error=0.1205\n",
      "[flaml.automl: 11-05 12:34:56] {993} INFO - iteration 258, current learner extra_tree\n",
      "[flaml.automl: 11-05 12:34:57] {1141} INFO -  at 42.5s,\tbest extra_tree's error=0.1487,\tbest lgbm's error=0.1205\n",
      "[flaml.automl: 11-05 12:34:57] {993} INFO - iteration 259, current learner lgbm\n",
      "[flaml.automl: 11-05 12:34:57] {1141} INFO -  at 42.6s,\tbest lgbm's error=0.1205,\tbest lgbm's error=0.1205\n",
      "[flaml.automl: 11-05 12:34:57] {993} INFO - iteration 260, current learner xgboost\n",
      "[flaml.automl: 11-05 12:34:57] {1141} INFO -  at 42.7s,\tbest xgboost's error=0.1359,\tbest lgbm's error=0.1205\n",
      "[flaml.automl: 11-05 12:34:57] {993} INFO - iteration 261, current learner lgbm\n",
      "[flaml.automl: 11-05 12:34:57] {1141} INFO -  at 42.8s,\tbest lgbm's error=0.1205,\tbest lgbm's error=0.1205\n",
      "[flaml.automl: 11-05 12:34:57] {993} INFO - iteration 262, current learner lgbm\n",
      "[flaml.automl: 11-05 12:34:57] {1141} INFO -  at 42.9s,\tbest lgbm's error=0.1205,\tbest lgbm's error=0.1205\n",
      "[flaml.automl: 11-05 12:34:57] {993} INFO - iteration 263, current learner lgbm\n",
      "[flaml.automl: 11-05 12:34:57] {1141} INFO -  at 43.1s,\tbest lgbm's error=0.1205,\tbest lgbm's error=0.1205\n",
      "[flaml.automl: 11-05 12:34:57] {993} INFO - iteration 264, current learner lgbm\n",
      "[flaml.automl: 11-05 12:34:57] {1141} INFO -  at 43.2s,\tbest lgbm's error=0.1205,\tbest lgbm's error=0.1205\n",
      "[flaml.automl: 11-05 12:34:57] {993} INFO - iteration 265, current learner xgboost\n",
      "[flaml.automl: 11-05 12:34:58] {1141} INFO -  at 43.5s,\tbest xgboost's error=0.1359,\tbest lgbm's error=0.1205\n",
      "[flaml.automl: 11-05 12:34:58] {993} INFO - iteration 266, current learner xgboost\n",
      "[flaml.automl: 11-05 12:34:58] {1141} INFO -  at 43.6s,\tbest xgboost's error=0.1359,\tbest lgbm's error=0.1205\n",
      "[flaml.automl: 11-05 12:34:58] {993} INFO - iteration 267, current learner xgboost\n",
      "[flaml.automl: 11-05 12:34:58] {1141} INFO -  at 43.7s,\tbest xgboost's error=0.1359,\tbest lgbm's error=0.1205\n",
      "[flaml.automl: 11-05 12:34:58] {993} INFO - iteration 268, current learner catboost\n",
      "[flaml.automl: 11-05 12:34:59] {1141} INFO -  at 44.7s,\tbest catboost's error=0.1385,\tbest lgbm's error=0.1205\n",
      "[flaml.automl: 11-05 12:34:59] {993} INFO - iteration 269, current learner xgboost\n",
      "[flaml.automl: 11-05 12:34:59] {1141} INFO -  at 44.9s,\tbest xgboost's error=0.1359,\tbest lgbm's error=0.1205\n",
      "[flaml.automl: 11-05 12:34:59] {993} INFO - iteration 270, current learner lgbm\n",
      "[flaml.automl: 11-05 12:34:59] {1141} INFO -  at 45.0s,\tbest lgbm's error=0.1205,\tbest lgbm's error=0.1205\n",
      "[flaml.automl: 11-05 12:34:59] {993} INFO - iteration 271, current learner lgbm\n",
      "[flaml.automl: 11-05 12:34:59] {1141} INFO -  at 45.1s,\tbest lgbm's error=0.1205,\tbest lgbm's error=0.1205\n",
      "[flaml.automl: 11-05 12:34:59] {993} INFO - iteration 272, current learner lgbm\n",
      "[flaml.automl: 11-05 12:34:59] {1141} INFO -  at 45.2s,\tbest lgbm's error=0.1205,\tbest lgbm's error=0.1205\n",
      "[flaml.automl: 11-05 12:34:59] {993} INFO - iteration 273, current learner lgbm\n",
      "[flaml.automl: 11-05 12:34:59] {1141} INFO -  at 45.3s,\tbest lgbm's error=0.1205,\tbest lgbm's error=0.1205\n",
      "[flaml.automl: 11-05 12:34:59] {993} INFO - iteration 274, current learner lgbm\n",
      "[flaml.automl: 11-05 12:34:59] {1141} INFO -  at 45.4s,\tbest lgbm's error=0.1205,\tbest lgbm's error=0.1205\n",
      "[flaml.automl: 11-05 12:34:59] {993} INFO - iteration 275, current learner lgbm\n",
      "[flaml.automl: 11-05 12:35:00] {1141} INFO -  at 45.6s,\tbest lgbm's error=0.1205,\tbest lgbm's error=0.1205\n",
      "[flaml.automl: 11-05 12:35:00] {993} INFO - iteration 276, current learner lgbm\n",
      "[flaml.automl: 11-05 12:35:00] {1141} INFO -  at 45.7s,\tbest lgbm's error=0.1205,\tbest lgbm's error=0.1205\n",
      "[flaml.automl: 11-05 12:35:00] {993} INFO - iteration 277, current learner lgbm\n",
      "[flaml.automl: 11-05 12:35:00] {1141} INFO -  at 45.8s,\tbest lgbm's error=0.1205,\tbest lgbm's error=0.1205\n",
      "[flaml.automl: 11-05 12:35:00] {993} INFO - iteration 278, current learner lgbm\n",
      "[flaml.automl: 11-05 12:35:00] {1141} INFO -  at 45.9s,\tbest lgbm's error=0.1205,\tbest lgbm's error=0.1205\n",
      "[flaml.automl: 11-05 12:35:00] {993} INFO - iteration 279, current learner extra_tree\n",
      "[flaml.automl: 11-05 12:35:00] {1141} INFO -  at 46.1s,\tbest extra_tree's error=0.1487,\tbest lgbm's error=0.1205\n",
      "[flaml.automl: 11-05 12:35:00] {993} INFO - iteration 280, current learner catboost\n",
      "[flaml.automl: 11-05 12:35:01] {1141} INFO -  at 47.2s,\tbest catboost's error=0.1385,\tbest lgbm's error=0.1205\n",
      "[flaml.automl: 11-05 12:35:01] {993} INFO - iteration 281, current learner lgbm\n",
      "[flaml.automl: 11-05 12:35:01] {1141} INFO -  at 47.3s,\tbest lgbm's error=0.1205,\tbest lgbm's error=0.1205\n",
      "[flaml.automl: 11-05 12:35:01] {993} INFO - iteration 282, current learner lgbm\n",
      "[flaml.automl: 11-05 12:35:02] {1141} INFO -  at 47.5s,\tbest lgbm's error=0.1205,\tbest lgbm's error=0.1205\n",
      "[flaml.automl: 11-05 12:35:02] {993} INFO - iteration 283, current learner lgbm\n",
      "[flaml.automl: 11-05 12:35:02] {1141} INFO -  at 47.6s,\tbest lgbm's error=0.1205,\tbest lgbm's error=0.1205\n",
      "[flaml.automl: 11-05 12:35:02] {993} INFO - iteration 284, current learner xgboost\n",
      "[flaml.automl: 11-05 12:35:02] {1141} INFO -  at 47.7s,\tbest xgboost's error=0.1359,\tbest lgbm's error=0.1205\n",
      "[flaml.automl: 11-05 12:35:02] {993} INFO - iteration 285, current learner xgboost\n",
      "[flaml.automl: 11-05 12:35:02] {1141} INFO -  at 47.8s,\tbest xgboost's error=0.1359,\tbest lgbm's error=0.1205\n",
      "[flaml.automl: 11-05 12:35:02] {993} INFO - iteration 286, current learner catboost\n",
      "[flaml.automl: 11-05 12:35:03] {1141} INFO -  at 49.1s,\tbest catboost's error=0.1385,\tbest lgbm's error=0.1205\n",
      "[flaml.automl: 11-05 12:35:03] {993} INFO - iteration 287, current learner lgbm\n",
      "[flaml.automl: 11-05 12:35:03] {1141} INFO -  at 49.3s,\tbest lgbm's error=0.1205,\tbest lgbm's error=0.1205\n",
      "[flaml.automl: 11-05 12:35:03] {993} INFO - iteration 288, current learner lgbm\n",
      "[flaml.automl: 11-05 12:35:03] {1141} INFO -  at 49.4s,\tbest lgbm's error=0.1205,\tbest lgbm's error=0.1205\n",
      "[flaml.automl: 11-05 12:35:03] {993} INFO - iteration 289, current learner lgbm\n",
      "[flaml.automl: 11-05 12:35:04] {1141} INFO -  at 49.5s,\tbest lgbm's error=0.1205,\tbest lgbm's error=0.1205\n",
      "[flaml.automl: 11-05 12:35:04] {993} INFO - iteration 290, current learner lgbm\n",
      "[flaml.automl: 11-05 12:35:04] {1141} INFO -  at 49.6s,\tbest lgbm's error=0.1205,\tbest lgbm's error=0.1205\n",
      "[flaml.automl: 11-05 12:35:04] {993} INFO - iteration 291, current learner lgbm\n",
      "[flaml.automl: 11-05 12:35:04] {1141} INFO -  at 49.8s,\tbest lgbm's error=0.1205,\tbest lgbm's error=0.1205\n",
      "[flaml.automl: 11-05 12:35:04] {993} INFO - iteration 292, current learner lgbm\n",
      "[flaml.automl: 11-05 12:35:04] {1141} INFO -  at 49.9s,\tbest lgbm's error=0.1205,\tbest lgbm's error=0.1205\n",
      "[flaml.automl: 11-05 12:35:04] {993} INFO - iteration 293, current learner lgbm\n",
      "[flaml.automl: 11-05 12:35:04] {1141} INFO -  at 50.0s,\tbest lgbm's error=0.1205,\tbest lgbm's error=0.1205\n",
      "[flaml.automl: 11-05 12:35:04] {993} INFO - iteration 294, current learner lgbm\n",
      "[flaml.automl: 11-05 12:35:04] {1141} INFO -  at 50.1s,\tbest lgbm's error=0.1205,\tbest lgbm's error=0.1205\n",
      "[flaml.automl: 11-05 12:35:04] {993} INFO - iteration 295, current learner lgbm\n",
      "[flaml.automl: 11-05 12:35:04] {1141} INFO -  at 50.2s,\tbest lgbm's error=0.1205,\tbest lgbm's error=0.1205\n",
      "[flaml.automl: 11-05 12:35:04] {993} INFO - iteration 296, current learner lgbm\n",
      "[flaml.automl: 11-05 12:35:04] {1141} INFO -  at 50.3s,\tbest lgbm's error=0.1205,\tbest lgbm's error=0.1205\n",
      "[flaml.automl: 11-05 12:35:04] {993} INFO - iteration 297, current learner lgbm\n",
      "[flaml.automl: 11-05 12:35:04] {1141} INFO -  at 50.4s,\tbest lgbm's error=0.1205,\tbest lgbm's error=0.1205\n",
      "[flaml.automl: 11-05 12:35:04] {993} INFO - iteration 298, current learner lgbm\n",
      "[flaml.automl: 11-05 12:35:05] {1141} INFO -  at 50.5s,\tbest lgbm's error=0.1205,\tbest lgbm's error=0.1205\n",
      "[flaml.automl: 11-05 12:35:05] {993} INFO - iteration 299, current learner lgbm\n",
      "[flaml.automl: 11-05 12:35:05] {1141} INFO -  at 50.7s,\tbest lgbm's error=0.1205,\tbest lgbm's error=0.1205\n",
      "[flaml.automl: 11-05 12:35:05] {993} INFO - iteration 300, current learner lgbm\n",
      "[flaml.automl: 11-05 12:35:05] {1141} INFO -  at 50.8s,\tbest lgbm's error=0.1205,\tbest lgbm's error=0.1205\n",
      "[flaml.automl: 11-05 12:35:05] {993} INFO - iteration 301, current learner lgbm\n",
      "[flaml.automl: 11-05 12:35:05] {1141} INFO -  at 50.9s,\tbest lgbm's error=0.1205,\tbest lgbm's error=0.1205\n",
      "[flaml.automl: 11-05 12:35:05] {993} INFO - iteration 302, current learner lgbm\n",
      "[flaml.automl: 11-05 12:35:05] {1141} INFO -  at 51.0s,\tbest lgbm's error=0.1205,\tbest lgbm's error=0.1205\n",
      "[flaml.automl: 11-05 12:35:05] {993} INFO - iteration 303, current learner extra_tree\n",
      "[flaml.automl: 11-05 12:35:05] {1141} INFO -  at 51.2s,\tbest extra_tree's error=0.1487,\tbest lgbm's error=0.1205\n",
      "[flaml.automl: 11-05 12:35:05] {993} INFO - iteration 304, current learner lgbm\n",
      "[flaml.automl: 11-05 12:35:05] {1141} INFO -  at 51.4s,\tbest lgbm's error=0.1205,\tbest lgbm's error=0.1205\n",
      "[flaml.automl: 11-05 12:35:05] {993} INFO - iteration 305, current learner lgbm\n",
      "[flaml.automl: 11-05 12:35:06] {1141} INFO -  at 51.5s,\tbest lgbm's error=0.1205,\tbest lgbm's error=0.1205\n",
      "[flaml.automl: 11-05 12:35:06] {993} INFO - iteration 306, current learner catboost\n",
      "[flaml.automl: 11-05 12:35:06] {1141} INFO -  at 52.2s,\tbest catboost's error=0.1385,\tbest lgbm's error=0.1205\n",
      "[flaml.automl: 11-05 12:35:06] {993} INFO - iteration 307, current learner lgbm\n",
      "[flaml.automl: 11-05 12:35:06] {1141} INFO -  at 52.3s,\tbest lgbm's error=0.1205,\tbest lgbm's error=0.1205\n",
      "[flaml.automl: 11-05 12:35:06] {993} INFO - iteration 308, current learner lgbm\n",
      "[flaml.automl: 11-05 12:35:07] {1141} INFO -  at 52.5s,\tbest lgbm's error=0.1205,\tbest lgbm's error=0.1205\n",
      "[flaml.automl: 11-05 12:35:07] {993} INFO - iteration 309, current learner lgbm\n",
      "[flaml.automl: 11-05 12:35:07] {1141} INFO -  at 52.6s,\tbest lgbm's error=0.1205,\tbest lgbm's error=0.1205\n",
      "[flaml.automl: 11-05 12:35:07] {993} INFO - iteration 310, current learner lgbm\n",
      "[flaml.automl: 11-05 12:35:07] {1141} INFO -  at 52.7s,\tbest lgbm's error=0.1205,\tbest lgbm's error=0.1205\n",
      "[flaml.automl: 11-05 12:35:07] {993} INFO - iteration 311, current learner lgbm\n",
      "[flaml.automl: 11-05 12:35:07] {1141} INFO -  at 52.8s,\tbest lgbm's error=0.1205,\tbest lgbm's error=0.1205\n",
      "[flaml.automl: 11-05 12:35:07] {993} INFO - iteration 312, current learner lgbm\n",
      "[flaml.automl: 11-05 12:35:07] {1141} INFO -  at 53.0s,\tbest lgbm's error=0.1205,\tbest lgbm's error=0.1205\n",
      "[flaml.automl: 11-05 12:35:07] {993} INFO - iteration 313, current learner lgbm\n",
      "[flaml.automl: 11-05 12:35:07] {1141} INFO -  at 53.1s,\tbest lgbm's error=0.1205,\tbest lgbm's error=0.1205\n",
      "[flaml.automl: 11-05 12:35:07] {993} INFO - iteration 314, current learner lgbm\n",
      "[flaml.automl: 11-05 12:35:07] {1141} INFO -  at 53.2s,\tbest lgbm's error=0.1205,\tbest lgbm's error=0.1205\n",
      "[flaml.automl: 11-05 12:35:07] {993} INFO - iteration 315, current learner extra_tree\n",
      "[flaml.automl: 11-05 12:35:07] {1141} INFO -  at 53.4s,\tbest extra_tree's error=0.1487,\tbest lgbm's error=0.1205\n",
      "[flaml.automl: 11-05 12:35:07] {993} INFO - iteration 316, current learner extra_tree\n",
      "[flaml.automl: 11-05 12:35:08] {1141} INFO -  at 53.6s,\tbest extra_tree's error=0.1487,\tbest lgbm's error=0.1205\n",
      "[flaml.automl: 11-05 12:35:08] {993} INFO - iteration 317, current learner lgbm\n",
      "[flaml.automl: 11-05 12:35:08] {1141} INFO -  at 53.7s,\tbest lgbm's error=0.1205,\tbest lgbm's error=0.1205\n",
      "[flaml.automl: 11-05 12:35:08] {993} INFO - iteration 318, current learner lgbm\n",
      "[flaml.automl: 11-05 12:35:08] {1141} INFO -  at 53.9s,\tbest lgbm's error=0.1205,\tbest lgbm's error=0.1205\n",
      "[flaml.automl: 11-05 12:35:08] {993} INFO - iteration 319, current learner lgbm\n",
      "[flaml.automl: 11-05 12:35:08] {1141} INFO -  at 54.0s,\tbest lgbm's error=0.1205,\tbest lgbm's error=0.1205\n",
      "[flaml.automl: 11-05 12:35:08] {993} INFO - iteration 320, current learner lgbm\n",
      "[flaml.automl: 11-05 12:35:08] {1141} INFO -  at 54.1s,\tbest lgbm's error=0.1205,\tbest lgbm's error=0.1205\n",
      "[flaml.automl: 11-05 12:35:08] {993} INFO - iteration 321, current learner lgbm\n",
      "[flaml.automl: 11-05 12:35:08] {1141} INFO -  at 54.3s,\tbest lgbm's error=0.1205,\tbest lgbm's error=0.1205\n",
      "[flaml.automl: 11-05 12:35:08] {993} INFO - iteration 322, current learner lgbm\n",
      "[flaml.automl: 11-05 12:35:08] {1141} INFO -  at 54.4s,\tbest lgbm's error=0.1205,\tbest lgbm's error=0.1205\n",
      "[flaml.automl: 11-05 12:35:08] {993} INFO - iteration 323, current learner lgbm\n",
      "[flaml.automl: 11-05 12:35:09] {1141} INFO -  at 54.5s,\tbest lgbm's error=0.1205,\tbest lgbm's error=0.1205\n",
      "[flaml.automl: 11-05 12:35:09] {993} INFO - iteration 324, current learner lgbm\n",
      "[flaml.automl: 11-05 12:35:09] {1141} INFO -  at 54.6s,\tbest lgbm's error=0.1205,\tbest lgbm's error=0.1205\n",
      "[flaml.automl: 11-05 12:35:09] {993} INFO - iteration 325, current learner lgbm\n",
      "[flaml.automl: 11-05 12:35:09] {1141} INFO -  at 54.8s,\tbest lgbm's error=0.1205,\tbest lgbm's error=0.1205\n",
      "[flaml.automl: 11-05 12:35:09] {993} INFO - iteration 326, current learner lgbm\n",
      "[flaml.automl: 11-05 12:35:09] {1141} INFO -  at 54.9s,\tbest lgbm's error=0.1205,\tbest lgbm's error=0.1205\n",
      "[flaml.automl: 11-05 12:35:09] {993} INFO - iteration 327, current learner lgbm\n",
      "[flaml.automl: 11-05 12:35:09] {1141} INFO -  at 55.0s,\tbest lgbm's error=0.1205,\tbest lgbm's error=0.1205\n",
      "[flaml.automl: 11-05 12:35:09] {993} INFO - iteration 328, current learner lgbm\n",
      "[flaml.automl: 11-05 12:35:09] {1141} INFO -  at 55.1s,\tbest lgbm's error=0.1205,\tbest lgbm's error=0.1205\n",
      "[flaml.automl: 11-05 12:35:09] {993} INFO - iteration 329, current learner lgbm\n",
      "[flaml.automl: 11-05 12:35:09] {1141} INFO -  at 55.3s,\tbest lgbm's error=0.1205,\tbest lgbm's error=0.1205\n",
      "[flaml.automl: 11-05 12:35:09] {993} INFO - iteration 330, current learner lgbm\n",
      "[flaml.automl: 11-05 12:35:09] {1141} INFO -  at 55.4s,\tbest lgbm's error=0.1205,\tbest lgbm's error=0.1205\n",
      "[flaml.automl: 11-05 12:35:09] {993} INFO - iteration 331, current learner lgbm\n",
      "[flaml.automl: 11-05 12:35:10] {1141} INFO -  at 55.5s,\tbest lgbm's error=0.1205,\tbest lgbm's error=0.1205\n",
      "[flaml.automl: 11-05 12:35:10] {993} INFO - iteration 332, current learner lgbm\n",
      "[flaml.automl: 11-05 12:35:10] {1141} INFO -  at 55.6s,\tbest lgbm's error=0.1205,\tbest lgbm's error=0.1205\n",
      "[flaml.automl: 11-05 12:35:10] {993} INFO - iteration 333, current learner lgbm\n",
      "[flaml.automl: 11-05 12:35:10] {1141} INFO -  at 55.7s,\tbest lgbm's error=0.1205,\tbest lgbm's error=0.1205\n",
      "[flaml.automl: 11-05 12:35:10] {993} INFO - iteration 334, current learner lgbm\n",
      "[flaml.automl: 11-05 12:35:10] {1141} INFO -  at 55.8s,\tbest lgbm's error=0.1205,\tbest lgbm's error=0.1205\n",
      "[flaml.automl: 11-05 12:35:10] {993} INFO - iteration 335, current learner lgbm\n",
      "[flaml.automl: 11-05 12:35:10] {1141} INFO -  at 56.0s,\tbest lgbm's error=0.1205,\tbest lgbm's error=0.1205\n",
      "[flaml.automl: 11-05 12:35:10] {993} INFO - iteration 336, current learner lgbm\n",
      "[flaml.automl: 11-05 12:35:10] {1141} INFO -  at 56.1s,\tbest lgbm's error=0.1205,\tbest lgbm's error=0.1205\n",
      "[flaml.automl: 11-05 12:35:10] {993} INFO - iteration 337, current learner lgbm\n",
      "[flaml.automl: 11-05 12:35:10] {1141} INFO -  at 56.2s,\tbest lgbm's error=0.1205,\tbest lgbm's error=0.1205\n",
      "[flaml.automl: 11-05 12:35:10] {993} INFO - iteration 338, current learner lgbm\n",
      "[flaml.automl: 11-05 12:35:10] {1141} INFO -  at 56.3s,\tbest lgbm's error=0.1205,\tbest lgbm's error=0.1205\n",
      "[flaml.automl: 11-05 12:35:10] {993} INFO - iteration 339, current learner lgbm\n",
      "[flaml.automl: 11-05 12:35:10] {1141} INFO -  at 56.4s,\tbest lgbm's error=0.1205,\tbest lgbm's error=0.1205\n",
      "[flaml.automl: 11-05 12:35:10] {993} INFO - iteration 340, current learner lgbm\n",
      "[flaml.automl: 11-05 12:35:11] {1141} INFO -  at 56.6s,\tbest lgbm's error=0.1205,\tbest lgbm's error=0.1205\n",
      "[flaml.automl: 11-05 12:35:11] {993} INFO - iteration 341, current learner lgbm\n",
      "[flaml.automl: 11-05 12:35:11] {1141} INFO -  at 56.7s,\tbest lgbm's error=0.1205,\tbest lgbm's error=0.1205\n",
      "[flaml.automl: 11-05 12:35:11] {993} INFO - iteration 342, current learner catboost\n",
      "[flaml.automl: 11-05 12:35:12] {1141} INFO -  at 57.9s,\tbest catboost's error=0.1385,\tbest lgbm's error=0.1205\n",
      "[flaml.automl: 11-05 12:35:12] {993} INFO - iteration 343, current learner lgbm\n",
      "[flaml.automl: 11-05 12:35:12] {1141} INFO -  at 58.1s,\tbest lgbm's error=0.1205,\tbest lgbm's error=0.1205\n",
      "[flaml.automl: 11-05 12:35:12] {993} INFO - iteration 344, current learner lgbm\n",
      "[flaml.automl: 11-05 12:35:12] {1141} INFO -  at 58.2s,\tbest lgbm's error=0.1205,\tbest lgbm's error=0.1205\n",
      "[flaml.automl: 11-05 12:35:12] {993} INFO - iteration 345, current learner catboost\n",
      "[flaml.automl: 11-05 12:35:13] {1141} INFO -  at 59.3s,\tbest catboost's error=0.1385,\tbest lgbm's error=0.1205\n",
      "[flaml.automl: 11-05 12:35:13] {993} INFO - iteration 346, current learner extra_tree\n",
      "[flaml.automl: 11-05 12:35:14] {1141} INFO -  at 59.5s,\tbest extra_tree's error=0.1487,\tbest lgbm's error=0.1205\n",
      "[flaml.automl: 11-05 12:35:14] {993} INFO - iteration 347, current learner lgbm\n",
      "[flaml.automl: 11-05 12:35:14] {1141} INFO -  at 59.6s,\tbest lgbm's error=0.1205,\tbest lgbm's error=0.1205\n",
      "[flaml.automl: 11-05 12:35:14] {993} INFO - iteration 348, current learner lgbm\n",
      "[flaml.automl: 11-05 12:35:14] {1141} INFO -  at 59.7s,\tbest lgbm's error=0.1205,\tbest lgbm's error=0.1205\n",
      "[flaml.automl: 11-05 12:35:14] {993} INFO - iteration 349, current learner lgbm\n",
      "[flaml.automl: 11-05 12:35:14] {1141} INFO -  at 59.8s,\tbest lgbm's error=0.1205,\tbest lgbm's error=0.1205\n",
      "[flaml.automl: 11-05 12:35:14] {993} INFO - iteration 350, current learner lgbm\n",
      "[flaml.automl: 11-05 12:35:14] {1141} INFO -  at 59.9s,\tbest lgbm's error=0.1205,\tbest lgbm's error=0.1205\n",
      "[flaml.automl: 11-05 12:35:14] {993} INFO - iteration 351, current learner lgbm\n",
      "[flaml.automl: 11-05 12:35:14] {1141} INFO -  at 60.0s,\tbest lgbm's error=0.1205,\tbest lgbm's error=0.1205\n",
      "[flaml.automl: 11-05 12:35:14] {993} INFO - iteration 352, current learner lgbm\n",
      "[flaml.automl: 11-05 12:35:14] {1141} INFO -  at 60.1s,\tbest lgbm's error=0.1205,\tbest lgbm's error=0.1205\n",
      "[flaml.automl: 11-05 12:35:14] {993} INFO - iteration 353, current learner lgbm\n",
      "[flaml.automl: 11-05 12:35:14] {1141} INFO -  at 60.2s,\tbest lgbm's error=0.1205,\tbest lgbm's error=0.1205\n",
      "[flaml.automl: 11-05 12:35:14] {993} INFO - iteration 354, current learner lgbm\n",
      "[flaml.automl: 11-05 12:35:14] {1141} INFO -  at 60.4s,\tbest lgbm's error=0.1205,\tbest lgbm's error=0.1205\n",
      "[flaml.automl: 11-05 12:35:14] {993} INFO - iteration 355, current learner lgbm\n",
      "[flaml.automl: 11-05 12:35:15] {1141} INFO -  at 60.5s,\tbest lgbm's error=0.1205,\tbest lgbm's error=0.1205\n",
      "[flaml.automl: 11-05 12:35:15] {993} INFO - iteration 356, current learner lgbm\n",
      "[flaml.automl: 11-05 12:35:15] {1141} INFO -  at 60.6s,\tbest lgbm's error=0.1205,\tbest lgbm's error=0.1205\n",
      "[flaml.automl: 11-05 12:35:15] {993} INFO - iteration 357, current learner lgbm\n",
      "[flaml.automl: 11-05 12:35:15] {1141} INFO -  at 60.7s,\tbest lgbm's error=0.1205,\tbest lgbm's error=0.1205\n",
      "[flaml.automl: 11-05 12:35:15] {993} INFO - iteration 358, current learner lgbm\n",
      "[flaml.automl: 11-05 12:35:15] {1141} INFO -  at 60.8s,\tbest lgbm's error=0.1205,\tbest lgbm's error=0.1205\n",
      "[flaml.automl: 11-05 12:35:15] {993} INFO - iteration 359, current learner lgbm\n",
      "[flaml.automl: 11-05 12:35:15] {1141} INFO -  at 60.9s,\tbest lgbm's error=0.1205,\tbest lgbm's error=0.1205\n",
      "[flaml.automl: 11-05 12:35:15] {993} INFO - iteration 360, current learner lgbm\n",
      "[flaml.automl: 11-05 12:35:15] {1141} INFO -  at 61.0s,\tbest lgbm's error=0.1205,\tbest lgbm's error=0.1205\n",
      "[flaml.automl: 11-05 12:35:15] {993} INFO - iteration 361, current learner lgbm\n",
      "[flaml.automl: 11-05 12:35:15] {1141} INFO -  at 61.2s,\tbest lgbm's error=0.1205,\tbest lgbm's error=0.1205\n",
      "[flaml.automl: 11-05 12:35:15] {993} INFO - iteration 362, current learner lgbm\n",
      "[flaml.automl: 11-05 12:35:15] {1141} INFO -  at 61.3s,\tbest lgbm's error=0.1205,\tbest lgbm's error=0.1205\n",
      "[flaml.automl: 11-05 12:35:15] {993} INFO - iteration 363, current learner lgbm\n",
      "[flaml.automl: 11-05 12:35:15] {1141} INFO -  at 61.4s,\tbest lgbm's error=0.1205,\tbest lgbm's error=0.1205\n",
      "[flaml.automl: 11-05 12:35:15] {993} INFO - iteration 364, current learner extra_tree\n",
      "[flaml.automl: 11-05 12:35:16] {1141} INFO -  at 61.6s,\tbest extra_tree's error=0.1487,\tbest lgbm's error=0.1205\n",
      "[flaml.automl: 11-05 12:35:16] {993} INFO - iteration 365, current learner lgbm\n",
      "[flaml.automl: 11-05 12:35:16] {1141} INFO -  at 61.7s,\tbest lgbm's error=0.1205,\tbest lgbm's error=0.1205\n",
      "[flaml.automl: 11-05 12:35:16] {993} INFO - iteration 366, current learner lgbm\n",
      "[flaml.automl: 11-05 12:35:16] {1141} INFO -  at 61.8s,\tbest lgbm's error=0.1205,\tbest lgbm's error=0.1205\n",
      "[flaml.automl: 11-05 12:35:16] {993} INFO - iteration 367, current learner extra_tree\n",
      "[flaml.automl: 11-05 12:35:16] {1141} INFO -  at 62.0s,\tbest extra_tree's error=0.1487,\tbest lgbm's error=0.1205\n",
      "[flaml.automl: 11-05 12:35:16] {993} INFO - iteration 368, current learner lgbm\n",
      "[flaml.automl: 11-05 12:35:16] {1141} INFO -  at 62.1s,\tbest lgbm's error=0.1205,\tbest lgbm's error=0.1205\n",
      "[flaml.automl: 11-05 12:35:16] {993} INFO - iteration 369, current learner extra_tree\n",
      "[flaml.automl: 11-05 12:35:16] {1141} INFO -  at 62.4s,\tbest extra_tree's error=0.1487,\tbest lgbm's error=0.1205\n",
      "[flaml.automl: 11-05 12:35:16] {993} INFO - iteration 370, current learner lgbm\n",
      "[flaml.automl: 11-05 12:35:17] {1141} INFO -  at 62.5s,\tbest lgbm's error=0.1205,\tbest lgbm's error=0.1205\n",
      "[flaml.automl: 11-05 12:35:17] {993} INFO - iteration 371, current learner extra_tree\n",
      "[flaml.automl: 11-05 12:35:17] {1141} INFO -  at 62.7s,\tbest extra_tree's error=0.1487,\tbest lgbm's error=0.1205\n",
      "[flaml.automl: 11-05 12:35:17] {993} INFO - iteration 372, current learner lgbm\n",
      "[flaml.automl: 11-05 12:35:17] {1141} INFO -  at 62.9s,\tbest lgbm's error=0.1205,\tbest lgbm's error=0.1205\n",
      "[flaml.automl: 11-05 12:35:17] {993} INFO - iteration 373, current learner lgbm\n",
      "[flaml.automl: 11-05 12:35:17] {1141} INFO -  at 63.0s,\tbest lgbm's error=0.1205,\tbest lgbm's error=0.1205\n",
      "[flaml.automl: 11-05 12:35:17] {993} INFO - iteration 374, current learner lgbm\n",
      "[flaml.automl: 11-05 12:35:17] {1141} INFO -  at 63.1s,\tbest lgbm's error=0.1205,\tbest lgbm's error=0.1205\n",
      "[flaml.automl: 11-05 12:35:17] {993} INFO - iteration 375, current learner lgbm\n",
      "[flaml.automl: 11-05 12:35:17] {1141} INFO -  at 63.2s,\tbest lgbm's error=0.1205,\tbest lgbm's error=0.1205\n",
      "[flaml.automl: 11-05 12:35:17] {993} INFO - iteration 376, current learner lgbm\n",
      "[flaml.automl: 11-05 12:35:17] {1141} INFO -  at 63.3s,\tbest lgbm's error=0.1205,\tbest lgbm's error=0.1205\n",
      "[flaml.automl: 11-05 12:35:17] {993} INFO - iteration 377, current learner lgbm\n",
      "[flaml.automl: 11-05 12:35:18] {1141} INFO -  at 63.5s,\tbest lgbm's error=0.1205,\tbest lgbm's error=0.1205\n",
      "[flaml.automl: 11-05 12:35:18] {993} INFO - iteration 378, current learner lgbm\n",
      "[flaml.automl: 11-05 12:35:18] {1141} INFO -  at 63.6s,\tbest lgbm's error=0.1205,\tbest lgbm's error=0.1205\n",
      "[flaml.automl: 11-05 12:35:18] {993} INFO - iteration 379, current learner lgbm\n",
      "[flaml.automl: 11-05 12:35:18] {1141} INFO -  at 63.7s,\tbest lgbm's error=0.1205,\tbest lgbm's error=0.1205\n",
      "[flaml.automl: 11-05 12:35:18] {993} INFO - iteration 380, current learner lgbm\n",
      "[flaml.automl: 11-05 12:35:18] {1141} INFO -  at 63.8s,\tbest lgbm's error=0.1205,\tbest lgbm's error=0.1205\n",
      "[flaml.automl: 11-05 12:35:18] {993} INFO - iteration 381, current learner catboost\n",
      "[flaml.automl: 11-05 12:35:22] {1141} INFO -  at 68.1s,\tbest catboost's error=0.1333,\tbest lgbm's error=0.1205\n",
      "[flaml.automl: 11-05 12:35:22] {993} INFO - iteration 382, current learner lgbm\n",
      "[flaml.automl: 11-05 12:35:22] {1141} INFO -  at 68.2s,\tbest lgbm's error=0.1205,\tbest lgbm's error=0.1205\n",
      "[flaml.automl: 11-05 12:35:22] {993} INFO - iteration 383, current learner lgbm\n",
      "[flaml.automl: 11-05 12:35:22] {1141} INFO -  at 68.3s,\tbest lgbm's error=0.1205,\tbest lgbm's error=0.1205\n",
      "[flaml.automl: 11-05 12:35:22] {993} INFO - iteration 384, current learner lgbm\n",
      "[flaml.automl: 11-05 12:35:22] {1141} INFO -  at 68.4s,\tbest lgbm's error=0.1205,\tbest lgbm's error=0.1205\n",
      "[flaml.automl: 11-05 12:35:22] {993} INFO - iteration 385, current learner lgbm\n",
      "[flaml.automl: 11-05 12:35:23] {1141} INFO -  at 68.5s,\tbest lgbm's error=0.1205,\tbest lgbm's error=0.1205\n",
      "[flaml.automl: 11-05 12:35:23] {993} INFO - iteration 386, current learner lgbm\n",
      "[flaml.automl: 11-05 12:35:23] {1141} INFO -  at 68.7s,\tbest lgbm's error=0.1205,\tbest lgbm's error=0.1205\n",
      "[flaml.automl: 11-05 12:35:23] {993} INFO - iteration 387, current learner extra_tree\n",
      "[flaml.automl: 11-05 12:35:23] {1141} INFO -  at 68.8s,\tbest extra_tree's error=0.1487,\tbest lgbm's error=0.1205\n",
      "[flaml.automl: 11-05 12:35:23] {993} INFO - iteration 388, current learner lgbm\n",
      "[flaml.automl: 11-05 12:35:23] {1141} INFO -  at 68.9s,\tbest lgbm's error=0.1205,\tbest lgbm's error=0.1205\n",
      "[flaml.automl: 11-05 12:35:23] {993} INFO - iteration 389, current learner lgbm\n",
      "[flaml.automl: 11-05 12:35:23] {1141} INFO -  at 69.1s,\tbest lgbm's error=0.1205,\tbest lgbm's error=0.1205\n",
      "[flaml.automl: 11-05 12:35:23] {993} INFO - iteration 390, current learner lgbm\n",
      "[flaml.automl: 11-05 12:35:23] {1141} INFO -  at 69.2s,\tbest lgbm's error=0.1205,\tbest lgbm's error=0.1205\n",
      "[flaml.automl: 11-05 12:35:23] {993} INFO - iteration 391, current learner catboost\n",
      "[flaml.automl: 11-05 12:35:29] {1141} INFO -  at 74.5s,\tbest catboost's error=0.1308,\tbest lgbm's error=0.1205\n",
      "[flaml.automl: 11-05 12:35:29] {993} INFO - iteration 392, current learner lgbm\n",
      "[flaml.automl: 11-05 12:35:29] {1141} INFO -  at 74.6s,\tbest lgbm's error=0.1205,\tbest lgbm's error=0.1205\n",
      "[flaml.automl: 11-05 12:35:29] {993} INFO - iteration 393, current learner lgbm\n",
      "[flaml.automl: 11-05 12:35:29] {1141} INFO -  at 74.7s,\tbest lgbm's error=0.1205,\tbest lgbm's error=0.1205\n",
      "[flaml.automl: 11-05 12:35:29] {993} INFO - iteration 394, current learner lgbm\n",
      "[flaml.automl: 11-05 12:35:29] {1141} INFO -  at 74.8s,\tbest lgbm's error=0.1205,\tbest lgbm's error=0.1205\n",
      "[flaml.automl: 11-05 12:35:29] {993} INFO - iteration 395, current learner lgbm\n",
      "[flaml.automl: 11-05 12:35:29] {1141} INFO -  at 74.9s,\tbest lgbm's error=0.1205,\tbest lgbm's error=0.1205\n",
      "[flaml.automl: 11-05 12:35:29] {993} INFO - iteration 396, current learner catboost\n",
      "[flaml.automl: 11-05 12:35:35] {1141} INFO -  at 81.2s,\tbest catboost's error=0.1308,\tbest lgbm's error=0.1205\n",
      "[flaml.automl: 11-05 12:35:35] {993} INFO - iteration 397, current learner lgbm\n",
      "[flaml.automl: 11-05 12:35:35] {1141} INFO -  at 81.3s,\tbest lgbm's error=0.1205,\tbest lgbm's error=0.1205\n",
      "[flaml.automl: 11-05 12:35:35] {993} INFO - iteration 398, current learner lgbm\n",
      "[flaml.automl: 11-05 12:35:35] {1141} INFO -  at 81.4s,\tbest lgbm's error=0.1205,\tbest lgbm's error=0.1205\n",
      "[flaml.automl: 11-05 12:35:35] {993} INFO - iteration 399, current learner lgbm\n",
      "[flaml.automl: 11-05 12:35:36] {1141} INFO -  at 81.5s,\tbest lgbm's error=0.1205,\tbest lgbm's error=0.1205\n",
      "[flaml.automl: 11-05 12:35:36] {993} INFO - iteration 400, current learner lrl1\n",
      "No init config given to FLOW2. Using random initial config.For cost-frugal search, consider providing init values for cost-related hps via 'init_config'.\n",
      "[flaml.automl: 11-05 12:35:36] {1141} INFO -  at 81.7s,\tbest lrl1's error=0.2782,\tbest lgbm's error=0.1205\n",
      "[flaml.automl: 11-05 12:35:36] {993} INFO - iteration 401, current learner lrl1\n",
      "[flaml.automl: 11-05 12:35:36] {1141} INFO -  at 81.8s,\tbest lrl1's error=0.2782,\tbest lgbm's error=0.1205\n",
      "[flaml.automl: 11-05 12:35:36] {993} INFO - iteration 402, current learner lrl1\n",
      "[flaml.automl: 11-05 12:35:36] {1141} INFO -  at 81.9s,\tbest lrl1's error=0.2782,\tbest lgbm's error=0.1205\n",
      "[flaml.automl: 11-05 12:35:36] {993} INFO - iteration 403, current learner lrl1\n",
      "[flaml.automl: 11-05 12:35:36] {1141} INFO -  at 82.0s,\tbest lrl1's error=0.2782,\tbest lgbm's error=0.1205\n",
      "[flaml.automl: 11-05 12:35:36] {993} INFO - iteration 404, current learner lrl1\n",
      "[flaml.automl: 11-05 12:35:36] {1141} INFO -  at 82.2s,\tbest lrl1's error=0.2782,\tbest lgbm's error=0.1205\n",
      "[flaml.automl: 11-05 12:35:36] {993} INFO - iteration 405, current learner lrl1\n",
      "[flaml.automl: 11-05 12:35:36] {1141} INFO -  at 82.3s,\tbest lrl1's error=0.2782,\tbest lgbm's error=0.1205\n",
      "[flaml.automl: 11-05 12:35:36] {993} INFO - iteration 406, current learner lrl1\n",
      "[flaml.automl: 11-05 12:35:36] {1141} INFO -  at 82.4s,\tbest lrl1's error=0.2782,\tbest lgbm's error=0.1205\n",
      "[flaml.automl: 11-05 12:35:36] {993} INFO - iteration 407, current learner lrl1\n",
      "[flaml.automl: 11-05 12:35:37] {1141} INFO -  at 82.5s,\tbest lrl1's error=0.2782,\tbest lgbm's error=0.1205\n",
      "[flaml.automl: 11-05 12:35:37] {993} INFO - iteration 408, current learner lgbm\n",
      "[flaml.automl: 11-05 12:35:37] {1141} INFO -  at 82.6s,\tbest lgbm's error=0.1205,\tbest lgbm's error=0.1205\n",
      "[flaml.automl: 11-05 12:35:37] {993} INFO - iteration 409, current learner lrl1\n",
      "[flaml.automl: 11-05 12:35:37] {1141} INFO -  at 82.8s,\tbest lrl1's error=0.2782,\tbest lgbm's error=0.1205\n",
      "[flaml.automl: 11-05 12:35:37] {993} INFO - iteration 410, current learner lrl1\n",
      "[flaml.automl: 11-05 12:35:37] {1141} INFO -  at 82.9s,\tbest lrl1's error=0.2782,\tbest lgbm's error=0.1205\n",
      "[flaml.automl: 11-05 12:35:37] {993} INFO - iteration 411, current learner lrl1\n",
      "[flaml.automl: 11-05 12:35:37] {1141} INFO -  at 83.0s,\tbest lrl1's error=0.2782,\tbest lgbm's error=0.1205\n",
      "[flaml.automl: 11-05 12:35:37] {993} INFO - iteration 412, current learner lrl1\n",
      "[flaml.automl: 11-05 12:35:37] {1141} INFO -  at 83.1s,\tbest lrl1's error=0.2782,\tbest lgbm's error=0.1205\n",
      "[flaml.automl: 11-05 12:35:37] {993} INFO - iteration 413, current learner lrl1\n",
      "[flaml.automl: 11-05 12:35:37] {1141} INFO -  at 83.3s,\tbest lrl1's error=0.2782,\tbest lgbm's error=0.1205\n",
      "[flaml.automl: 11-05 12:35:37] {993} INFO - iteration 414, current learner catboost\n",
      "[flaml.automl: 11-05 12:35:44] {1141} INFO -  at 89.5s,\tbest catboost's error=0.1308,\tbest lgbm's error=0.1205\n",
      "[flaml.automl: 11-05 12:35:44] {993} INFO - iteration 415, current learner lrl1\n",
      "[flaml.automl: 11-05 12:35:44] {1141} INFO -  at 89.6s,\tbest lrl1's error=0.2782,\tbest lgbm's error=0.1205\n",
      "[flaml.automl: 11-05 12:35:44] {993} INFO - iteration 416, current learner lrl1\n",
      "[flaml.automl: 11-05 12:35:44] {1141} INFO -  at 89.7s,\tbest lrl1's error=0.2782,\tbest lgbm's error=0.1205\n",
      "[flaml.automl: 11-05 12:35:44] {993} INFO - iteration 417, current learner lrl1\n",
      "[flaml.automl: 11-05 12:35:44] {1141} INFO -  at 89.8s,\tbest lrl1's error=0.2782,\tbest lgbm's error=0.1205\n",
      "[flaml.automl: 11-05 12:35:44] {993} INFO - iteration 418, current learner lrl1\n",
      "[flaml.automl: 11-05 12:35:44] {1141} INFO -  at 89.9s,\tbest lrl1's error=0.2782,\tbest lgbm's error=0.1205\n",
      "[flaml.automl: 11-05 12:35:44] {993} INFO - iteration 419, current learner lrl1\n",
      "[flaml.automl: 11-05 12:35:44] {1141} INFO -  at 90.0s,\tbest lrl1's error=0.2782,\tbest lgbm's error=0.1205\n",
      "[flaml.automl: 11-05 12:35:44] {993} INFO - iteration 420, current learner lrl1\n",
      "[flaml.automl: 11-05 12:35:44] {1141} INFO -  at 90.2s,\tbest lrl1's error=0.2782,\tbest lgbm's error=0.1205\n",
      "[flaml.automl: 11-05 12:35:44] {993} INFO - iteration 421, current learner lrl1\n",
      "[flaml.automl: 11-05 12:35:44] {1141} INFO -  at 90.3s,\tbest lrl1's error=0.2782,\tbest lgbm's error=0.1205\n",
      "[flaml.automl: 11-05 12:35:44] {993} INFO - iteration 422, current learner lrl1\n",
      "[flaml.automl: 11-05 12:35:44] {1141} INFO -  at 90.4s,\tbest lrl1's error=0.2782,\tbest lgbm's error=0.1205\n",
      "[flaml.automl: 11-05 12:35:44] {993} INFO - iteration 423, current learner lrl1\n",
      "[flaml.automl: 11-05 12:35:45] {1141} INFO -  at 90.5s,\tbest lrl1's error=0.2782,\tbest lgbm's error=0.1205\n",
      "[flaml.automl: 11-05 12:35:45] {993} INFO - iteration 424, current learner lrl1\n",
      "[flaml.automl: 11-05 12:35:45] {1141} INFO -  at 90.6s,\tbest lrl1's error=0.2782,\tbest lgbm's error=0.1205\n",
      "[flaml.automl: 11-05 12:35:45] {993} INFO - iteration 425, current learner lrl1\n",
      "[flaml.automl: 11-05 12:35:45] {1141} INFO -  at 90.7s,\tbest lrl1's error=0.2782,\tbest lgbm's error=0.1205\n",
      "[flaml.automl: 11-05 12:35:45] {993} INFO - iteration 426, current learner extra_tree\n",
      "[flaml.automl: 11-05 12:35:45] {1141} INFO -  at 90.9s,\tbest extra_tree's error=0.1487,\tbest lgbm's error=0.1205\n",
      "[flaml.automl: 11-05 12:35:45] {993} INFO - iteration 427, current learner lgbm\n",
      "[flaml.automl: 11-05 12:35:45] {1141} INFO -  at 91.0s,\tbest lgbm's error=0.1205,\tbest lgbm's error=0.1205\n",
      "[flaml.automl: 11-05 12:35:45] {993} INFO - iteration 428, current learner lgbm\n",
      "[flaml.automl: 11-05 12:35:45] {1141} INFO -  at 91.1s,\tbest lgbm's error=0.1205,\tbest lgbm's error=0.1205\n",
      "[flaml.automl: 11-05 12:35:45] {993} INFO - iteration 429, current learner lgbm\n",
      "[flaml.automl: 11-05 12:35:45] {1141} INFO -  at 91.2s,\tbest lgbm's error=0.1205,\tbest lgbm's error=0.1205\n",
      "[flaml.automl: 11-05 12:35:45] {993} INFO - iteration 430, current learner lrl1\n",
      "[flaml.automl: 11-05 12:35:45] {1141} INFO -  at 91.4s,\tbest lrl1's error=0.2782,\tbest lgbm's error=0.1205\n",
      "[flaml.automl: 11-05 12:35:45] {993} INFO - iteration 431, current learner lgbm\n",
      "[flaml.automl: 11-05 12:35:46] {1141} INFO -  at 91.5s,\tbest lgbm's error=0.1205,\tbest lgbm's error=0.1205\n",
      "[flaml.automl: 11-05 12:35:46] {993} INFO - iteration 432, current learner lgbm\n",
      "[flaml.automl: 11-05 12:35:46] {1141} INFO -  at 91.6s,\tbest lgbm's error=0.1205,\tbest lgbm's error=0.1205\n",
      "[flaml.automl: 11-05 12:35:46] {993} INFO - iteration 433, current learner lrl1\n",
      "[flaml.automl: 11-05 12:35:46] {1141} INFO -  at 91.7s,\tbest lrl1's error=0.2782,\tbest lgbm's error=0.1205\n",
      "[flaml.automl: 11-05 12:35:46] {993} INFO - iteration 434, current learner lrl1\n",
      "[flaml.automl: 11-05 12:35:46] {1141} INFO -  at 91.8s,\tbest lrl1's error=0.2782,\tbest lgbm's error=0.1205\n",
      "[flaml.automl: 11-05 12:35:46] {993} INFO - iteration 435, current learner lrl1\n",
      "[flaml.automl: 11-05 12:35:46] {1141} INFO -  at 92.0s,\tbest lrl1's error=0.2782,\tbest lgbm's error=0.1205\n",
      "[flaml.automl: 11-05 12:35:46] {993} INFO - iteration 436, current learner lrl1\n",
      "[flaml.automl: 11-05 12:35:46] {1141} INFO -  at 92.1s,\tbest lrl1's error=0.2782,\tbest lgbm's error=0.1205\n",
      "[flaml.automl: 11-05 12:35:46] {993} INFO - iteration 437, current learner lrl1\n",
      "[flaml.automl: 11-05 12:35:46] {1141} INFO -  at 92.2s,\tbest lrl1's error=0.2782,\tbest lgbm's error=0.1205\n",
      "[flaml.automl: 11-05 12:35:46] {993} INFO - iteration 438, current learner lrl1\n",
      "[flaml.automl: 11-05 12:35:46] {1141} INFO -  at 92.3s,\tbest lrl1's error=0.2782,\tbest lgbm's error=0.1205\n",
      "[flaml.automl: 11-05 12:35:46] {993} INFO - iteration 439, current learner lrl1\n",
      "[flaml.automl: 11-05 12:35:46] {1141} INFO -  at 92.4s,\tbest lrl1's error=0.2782,\tbest lgbm's error=0.1205\n",
      "[flaml.automl: 11-05 12:35:46] {993} INFO - iteration 440, current learner lrl1\n",
      "[flaml.automl: 11-05 12:35:47] {1141} INFO -  at 92.5s,\tbest lrl1's error=0.2782,\tbest lgbm's error=0.1205\n",
      "[flaml.automl: 11-05 12:35:47] {993} INFO - iteration 441, current learner lrl1\n",
      "[flaml.automl: 11-05 12:35:47] {1141} INFO -  at 92.6s,\tbest lrl1's error=0.2782,\tbest lgbm's error=0.1205\n",
      "[flaml.automl: 11-05 12:35:47] {993} INFO - iteration 442, current learner lrl1\n",
      "[flaml.automl: 11-05 12:35:47] {1141} INFO -  at 92.8s,\tbest lrl1's error=0.2782,\tbest lgbm's error=0.1205\n",
      "[flaml.automl: 11-05 12:35:47] {993} INFO - iteration 443, current learner lgbm\n",
      "[flaml.automl: 11-05 12:35:47] {1141} INFO -  at 92.9s,\tbest lgbm's error=0.1205,\tbest lgbm's error=0.1205\n",
      "[flaml.automl: 11-05 12:35:47] {993} INFO - iteration 444, current learner lrl1\n",
      "[flaml.automl: 11-05 12:35:47] {1141} INFO -  at 93.0s,\tbest lrl1's error=0.2782,\tbest lgbm's error=0.1205\n",
      "[flaml.automl: 11-05 12:35:47] {993} INFO - iteration 445, current learner lgbm\n",
      "[flaml.automl: 11-05 12:35:47] {1141} INFO -  at 93.1s,\tbest lgbm's error=0.1205,\tbest lgbm's error=0.1205\n",
      "[flaml.automl: 11-05 12:35:47] {993} INFO - iteration 446, current learner lrl1\n",
      "[flaml.automl: 11-05 12:35:47] {1141} INFO -  at 93.3s,\tbest lrl1's error=0.2782,\tbest lgbm's error=0.1205\n",
      "[flaml.automl: 11-05 12:35:47] {993} INFO - iteration 447, current learner lgbm\n",
      "[flaml.automl: 11-05 12:35:47] {1141} INFO -  at 93.4s,\tbest lgbm's error=0.1205,\tbest lgbm's error=0.1205\n",
      "[flaml.automl: 11-05 12:35:47] {993} INFO - iteration 448, current learner lrl1\n",
      "[flaml.automl: 11-05 12:35:48] {1141} INFO -  at 93.5s,\tbest lrl1's error=0.2782,\tbest lgbm's error=0.1205\n",
      "[flaml.automl: 11-05 12:35:48] {993} INFO - iteration 449, current learner lgbm\n",
      "[flaml.automl: 11-05 12:35:48] {1141} INFO -  at 93.7s,\tbest lgbm's error=0.1205,\tbest lgbm's error=0.1205\n",
      "[flaml.automl: 11-05 12:35:48] {993} INFO - iteration 450, current learner lrl1\n",
      "[flaml.automl: 11-05 12:35:48] {1141} INFO -  at 93.8s,\tbest lrl1's error=0.2782,\tbest lgbm's error=0.1205\n",
      "[flaml.automl: 11-05 12:35:48] {993} INFO - iteration 451, current learner lrl1\n",
      "[flaml.automl: 11-05 12:35:48] {1141} INFO -  at 93.9s,\tbest lrl1's error=0.2782,\tbest lgbm's error=0.1205\n",
      "[flaml.automl: 11-05 12:35:48] {993} INFO - iteration 452, current learner lrl1\n",
      "[flaml.automl: 11-05 12:35:48] {1141} INFO -  at 94.0s,\tbest lrl1's error=0.2782,\tbest lgbm's error=0.1205\n",
      "[flaml.automl: 11-05 12:35:48] {993} INFO - iteration 453, current learner lrl1\n",
      "[flaml.automl: 11-05 12:35:48] {1141} INFO -  at 94.2s,\tbest lrl1's error=0.2782,\tbest lgbm's error=0.1205\n",
      "[flaml.automl: 11-05 12:35:48] {993} INFO - iteration 454, current learner lgbm\n",
      "[flaml.automl: 11-05 12:35:48] {1141} INFO -  at 94.3s,\tbest lgbm's error=0.1205,\tbest lgbm's error=0.1205\n",
      "[flaml.automl: 11-05 12:35:48] {993} INFO - iteration 455, current learner lgbm\n",
      "[flaml.automl: 11-05 12:35:48] {1141} INFO -  at 94.4s,\tbest lgbm's error=0.1205,\tbest lgbm's error=0.1205\n",
      "[flaml.automl: 11-05 12:35:48] {993} INFO - iteration 456, current learner catboost\n",
      "[flaml.automl: 11-05 12:35:54] {1141} INFO -  at 99.5s,\tbest catboost's error=0.1308,\tbest lgbm's error=0.1205\n",
      "[flaml.automl: 11-05 12:35:54] {993} INFO - iteration 457, current learner lrl1\n",
      "[flaml.automl: 11-05 12:35:54] {1141} INFO -  at 99.6s,\tbest lrl1's error=0.2782,\tbest lgbm's error=0.1205\n",
      "[flaml.automl: 11-05 12:35:54] {993} INFO - iteration 458, current learner lrl1\n",
      "[flaml.automl: 11-05 12:35:54] {1141} INFO -  at 99.8s,\tbest lrl1's error=0.2782,\tbest lgbm's error=0.1205\n",
      "[flaml.automl: 11-05 12:35:54] {993} INFO - iteration 459, current learner lrl1\n",
      "[flaml.automl: 11-05 12:35:54] {1141} INFO -  at 99.9s,\tbest lrl1's error=0.2782,\tbest lgbm's error=0.1205\n",
      "[flaml.automl: 11-05 12:35:54] {993} INFO - iteration 460, current learner lrl1\n",
      "[flaml.automl: 11-05 12:35:54] {1141} INFO -  at 100.0s,\tbest lrl1's error=0.2782,\tbest lgbm's error=0.1205\n",
      "[flaml.automl: 11-05 12:35:54] {993} INFO - iteration 461, current learner lrl1\n",
      "[flaml.automl: 11-05 12:35:54] {1141} INFO -  at 100.1s,\tbest lrl1's error=0.2782,\tbest lgbm's error=0.1205\n",
      "[flaml.automl: 11-05 12:35:54] {993} INFO - iteration 462, current learner lrl1\n",
      "[flaml.automl: 11-05 12:35:54] {1141} INFO -  at 100.2s,\tbest lrl1's error=0.2782,\tbest lgbm's error=0.1205\n",
      "[flaml.automl: 11-05 12:35:54] {993} INFO - iteration 463, current learner lrl1\n",
      "[flaml.automl: 11-05 12:35:54] {1141} INFO -  at 100.3s,\tbest lrl1's error=0.2782,\tbest lgbm's error=0.1205\n",
      "[flaml.automl: 11-05 12:35:54] {993} INFO - iteration 464, current learner lrl1\n",
      "[flaml.automl: 11-05 12:35:55] {1141} INFO -  at 100.5s,\tbest lrl1's error=0.2782,\tbest lgbm's error=0.1205\n",
      "[flaml.automl: 11-05 12:35:55] {993} INFO - iteration 465, current learner lgbm\n",
      "[flaml.automl: 11-05 12:35:55] {1141} INFO -  at 100.6s,\tbest lgbm's error=0.1205,\tbest lgbm's error=0.1205\n",
      "[flaml.automl: 11-05 12:35:55] {993} INFO - iteration 466, current learner lgbm\n",
      "[flaml.automl: 11-05 12:35:55] {1141} INFO -  at 100.7s,\tbest lgbm's error=0.1205,\tbest lgbm's error=0.1205\n",
      "[flaml.automl: 11-05 12:35:55] {993} INFO - iteration 467, current learner lrl1\n",
      "[flaml.automl: 11-05 12:35:55] {1141} INFO -  at 100.8s,\tbest lrl1's error=0.2782,\tbest lgbm's error=0.1205\n",
      "[flaml.automl: 11-05 12:35:55] {993} INFO - iteration 468, current learner lgbm\n",
      "[flaml.automl: 11-05 12:35:55] {1141} INFO -  at 100.9s,\tbest lgbm's error=0.1205,\tbest lgbm's error=0.1205\n",
      "[flaml.automl: 11-05 12:35:55] {993} INFO - iteration 469, current learner lrl1\n",
      "[flaml.automl: 11-05 12:35:55] {1141} INFO -  at 101.1s,\tbest lrl1's error=0.2782,\tbest lgbm's error=0.1205\n",
      "[flaml.automl: 11-05 12:35:55] {993} INFO - iteration 470, current learner lrl1\n",
      "[flaml.automl: 11-05 12:35:55] {1141} INFO -  at 101.2s,\tbest lrl1's error=0.2782,\tbest lgbm's error=0.1205\n",
      "[flaml.automl: 11-05 12:35:55] {993} INFO - iteration 471, current learner lrl1\n",
      "[flaml.automl: 11-05 12:35:55] {1141} INFO -  at 101.3s,\tbest lrl1's error=0.2782,\tbest lgbm's error=0.1205\n",
      "[flaml.automl: 11-05 12:35:55] {993} INFO - iteration 472, current learner lrl1\n",
      "[flaml.automl: 11-05 12:35:56] {1141} INFO -  at 101.4s,\tbest lrl1's error=0.2782,\tbest lgbm's error=0.1205\n",
      "[flaml.automl: 11-05 12:35:56] {993} INFO - iteration 473, current learner extra_tree\n",
      "[flaml.automl: 11-05 12:35:56] {1141} INFO -  at 101.6s,\tbest extra_tree's error=0.1487,\tbest lgbm's error=0.1205\n",
      "[flaml.automl: 11-05 12:35:56] {993} INFO - iteration 474, current learner lrl1\n",
      "[flaml.automl: 11-05 12:35:56] {1141} INFO -  at 101.7s,\tbest lrl1's error=0.2782,\tbest lgbm's error=0.1205\n",
      "[flaml.automl: 11-05 12:35:56] {993} INFO - iteration 475, current learner lrl1\n",
      "[flaml.automl: 11-05 12:35:56] {1141} INFO -  at 101.8s,\tbest lrl1's error=0.2782,\tbest lgbm's error=0.1205\n",
      "[flaml.automl: 11-05 12:35:56] {993} INFO - iteration 476, current learner lrl1\n",
      "[flaml.automl: 11-05 12:35:56] {1141} INFO -  at 101.9s,\tbest lrl1's error=0.2782,\tbest lgbm's error=0.1205\n",
      "[flaml.automl: 11-05 12:35:56] {993} INFO - iteration 477, current learner lrl1\n",
      "[flaml.automl: 11-05 12:35:56] {1141} INFO -  at 102.1s,\tbest lrl1's error=0.2782,\tbest lgbm's error=0.1205\n",
      "[flaml.automl: 11-05 12:35:56] {993} INFO - iteration 478, current learner lrl1\n",
      "[flaml.automl: 11-05 12:35:56] {1141} INFO -  at 102.2s,\tbest lrl1's error=0.2782,\tbest lgbm's error=0.1205\n",
      "[flaml.automl: 11-05 12:35:56] {993} INFO - iteration 479, current learner lrl1\n",
      "[flaml.automl: 11-05 12:35:56] {1141} INFO -  at 102.3s,\tbest lrl1's error=0.2782,\tbest lgbm's error=0.1205\n",
      "[flaml.automl: 11-05 12:35:56] {993} INFO - iteration 480, current learner lrl1\n",
      "[flaml.automl: 11-05 12:35:56] {1141} INFO -  at 102.4s,\tbest lrl1's error=0.2782,\tbest lgbm's error=0.1205\n",
      "[flaml.automl: 11-05 12:35:56] {993} INFO - iteration 481, current learner lgbm\n",
      "[flaml.automl: 11-05 12:35:57] {1141} INFO -  at 102.5s,\tbest lgbm's error=0.1205,\tbest lgbm's error=0.1205\n",
      "[flaml.automl: 11-05 12:35:57] {993} INFO - iteration 482, current learner lrl1\n",
      "[flaml.automl: 11-05 12:35:57] {1141} INFO -  at 102.7s,\tbest lrl1's error=0.2782,\tbest lgbm's error=0.1205\n",
      "[flaml.automl: 11-05 12:35:57] {993} INFO - iteration 483, current learner lrl1\n",
      "[flaml.automl: 11-05 12:35:57] {1141} INFO -  at 102.8s,\tbest lrl1's error=0.2782,\tbest lgbm's error=0.1205\n",
      "[flaml.automl: 11-05 12:35:57] {993} INFO - iteration 484, current learner lgbm\n",
      "[flaml.automl: 11-05 12:35:57] {1141} INFO -  at 102.9s,\tbest lgbm's error=0.1205,\tbest lgbm's error=0.1205\n",
      "[flaml.automl: 11-05 12:35:57] {993} INFO - iteration 485, current learner lrl1\n",
      "[flaml.automl: 11-05 12:35:57] {1141} INFO -  at 103.0s,\tbest lrl1's error=0.2782,\tbest lgbm's error=0.1205\n",
      "[flaml.automl: 11-05 12:35:57] {993} INFO - iteration 486, current learner lrl1\n",
      "[flaml.automl: 11-05 12:35:57] {1141} INFO -  at 103.2s,\tbest lrl1's error=0.2782,\tbest lgbm's error=0.1205\n",
      "[flaml.automl: 11-05 12:35:57] {993} INFO - iteration 487, current learner lrl1\n",
      "[flaml.automl: 11-05 12:35:57] {1141} INFO -  at 103.3s,\tbest lrl1's error=0.2782,\tbest lgbm's error=0.1205\n",
      "[flaml.automl: 11-05 12:35:57] {993} INFO - iteration 488, current learner lrl1\n",
      "[flaml.automl: 11-05 12:35:57] {1141} INFO -  at 103.4s,\tbest lrl1's error=0.2782,\tbest lgbm's error=0.1205\n",
      "[flaml.automl: 11-05 12:35:57] {993} INFO - iteration 489, current learner lrl1\n",
      "[flaml.automl: 11-05 12:35:58] {1141} INFO -  at 103.5s,\tbest lrl1's error=0.2782,\tbest lgbm's error=0.1205\n",
      "[flaml.automl: 11-05 12:35:58] {993} INFO - iteration 490, current learner lrl1\n",
      "[flaml.automl: 11-05 12:35:58] {1141} INFO -  at 103.6s,\tbest lrl1's error=0.2782,\tbest lgbm's error=0.1205\n",
      "[flaml.automl: 11-05 12:35:58] {993} INFO - iteration 491, current learner lrl1\n",
      "[flaml.automl: 11-05 12:35:58] {1141} INFO -  at 103.7s,\tbest lrl1's error=0.2782,\tbest lgbm's error=0.1205\n",
      "[flaml.automl: 11-05 12:35:58] {993} INFO - iteration 492, current learner extra_tree\n",
      "[flaml.automl: 11-05 12:35:58] {1141} INFO -  at 103.9s,\tbest extra_tree's error=0.1487,\tbest lgbm's error=0.1205\n",
      "[flaml.automl: 11-05 12:35:58] {993} INFO - iteration 493, current learner lgbm\n",
      "[flaml.automl: 11-05 12:35:58] {1141} INFO -  at 104.0s,\tbest lgbm's error=0.1205,\tbest lgbm's error=0.1205\n",
      "[flaml.automl: 11-05 12:35:58] {993} INFO - iteration 494, current learner lrl1\n",
      "[flaml.automl: 11-05 12:35:58] {1141} INFO -  at 104.2s,\tbest lrl1's error=0.2782,\tbest lgbm's error=0.1205\n",
      "[flaml.automl: 11-05 12:35:58] {993} INFO - iteration 495, current learner extra_tree\n",
      "[flaml.automl: 11-05 12:35:58] {1141} INFO -  at 104.3s,\tbest extra_tree's error=0.1487,\tbest lgbm's error=0.1205\n",
      "[flaml.automl: 11-05 12:35:58] {993} INFO - iteration 496, current learner lrl1\n",
      "[flaml.automl: 11-05 12:35:58] {1141} INFO -  at 104.4s,\tbest lrl1's error=0.2782,\tbest lgbm's error=0.1205\n",
      "[flaml.automl: 11-05 12:35:58] {993} INFO - iteration 497, current learner lrl1\n",
      "[flaml.automl: 11-05 12:35:59] {1141} INFO -  at 104.5s,\tbest lrl1's error=0.2782,\tbest lgbm's error=0.1205\n",
      "[flaml.automl: 11-05 12:35:59] {993} INFO - iteration 498, current learner lrl1\n",
      "[flaml.automl: 11-05 12:35:59] {1141} INFO -  at 104.7s,\tbest lrl1's error=0.2782,\tbest lgbm's error=0.1205\n",
      "[flaml.automl: 11-05 12:35:59] {993} INFO - iteration 499, current learner lgbm\n",
      "[flaml.automl: 11-05 12:35:59] {1141} INFO -  at 104.8s,\tbest lgbm's error=0.1205,\tbest lgbm's error=0.1205\n",
      "[flaml.automl: 11-05 12:35:59] {993} INFO - iteration 500, current learner lrl1\n",
      "[flaml.automl: 11-05 12:35:59] {1141} INFO -  at 104.9s,\tbest lrl1's error=0.2782,\tbest lgbm's error=0.1205\n",
      "[flaml.automl: 11-05 12:35:59] {993} INFO - iteration 501, current learner lrl1\n",
      "[flaml.automl: 11-05 12:35:59] {1141} INFO -  at 105.1s,\tbest lrl1's error=0.2782,\tbest lgbm's error=0.1205\n",
      "[flaml.automl: 11-05 12:35:59] {993} INFO - iteration 502, current learner lrl1\n",
      "[flaml.automl: 11-05 12:35:59] {1141} INFO -  at 105.2s,\tbest lrl1's error=0.2782,\tbest lgbm's error=0.1205\n",
      "[flaml.automl: 11-05 12:35:59] {993} INFO - iteration 503, current learner lrl1\n",
      "[flaml.automl: 11-05 12:35:59] {1141} INFO -  at 105.3s,\tbest lrl1's error=0.2782,\tbest lgbm's error=0.1205\n",
      "[flaml.automl: 11-05 12:35:59] {993} INFO - iteration 504, current learner lrl1\n",
      "[flaml.automl: 11-05 12:35:59] {1141} INFO -  at 105.4s,\tbest lrl1's error=0.2782,\tbest lgbm's error=0.1205\n",
      "[flaml.automl: 11-05 12:35:59] {993} INFO - iteration 505, current learner lgbm\n",
      "[flaml.automl: 11-05 12:36:00] {1141} INFO -  at 105.5s,\tbest lgbm's error=0.1205,\tbest lgbm's error=0.1205\n",
      "[flaml.automl: 11-05 12:36:00] {993} INFO - iteration 506, current learner lgbm\n",
      "[flaml.automl: 11-05 12:36:00] {1141} INFO -  at 105.7s,\tbest lgbm's error=0.1205,\tbest lgbm's error=0.1205\n",
      "[flaml.automl: 11-05 12:36:00] {993} INFO - iteration 507, current learner lgbm\n",
      "[flaml.automl: 11-05 12:36:00] {1141} INFO -  at 105.8s,\tbest lgbm's error=0.1205,\tbest lgbm's error=0.1205\n",
      "[flaml.automl: 11-05 12:36:00] {993} INFO - iteration 508, current learner extra_tree\n",
      "[flaml.automl: 11-05 12:36:00] {1141} INFO -  at 105.9s,\tbest extra_tree's error=0.1487,\tbest lgbm's error=0.1205\n",
      "[flaml.automl: 11-05 12:36:00] {993} INFO - iteration 509, current learner lgbm\n",
      "[flaml.automl: 11-05 12:36:00] {1141} INFO -  at 106.1s,\tbest lgbm's error=0.1205,\tbest lgbm's error=0.1205\n",
      "[flaml.automl: 11-05 12:36:00] {993} INFO - iteration 510, current learner lrl1\n",
      "[flaml.automl: 11-05 12:36:00] {1141} INFO -  at 106.2s,\tbest lrl1's error=0.2782,\tbest lgbm's error=0.1205\n",
      "[flaml.automl: 11-05 12:36:00] {993} INFO - iteration 511, current learner lrl1\n",
      "[flaml.automl: 11-05 12:36:00] {1141} INFO -  at 106.3s,\tbest lrl1's error=0.2782,\tbest lgbm's error=0.1205\n",
      "[flaml.automl: 11-05 12:36:00] {993} INFO - iteration 512, current learner lrl1\n",
      "[flaml.automl: 11-05 12:36:01] {1141} INFO -  at 106.5s,\tbest lrl1's error=0.2782,\tbest lgbm's error=0.1205\n",
      "[flaml.automl: 11-05 12:36:01] {993} INFO - iteration 513, current learner lgbm\n",
      "[flaml.automl: 11-05 12:36:01] {1141} INFO -  at 106.6s,\tbest lgbm's error=0.1205,\tbest lgbm's error=0.1205\n",
      "[flaml.automl: 11-05 12:36:01] {993} INFO - iteration 514, current learner lrl1\n",
      "[flaml.automl: 11-05 12:36:01] {1141} INFO -  at 106.7s,\tbest lrl1's error=0.2782,\tbest lgbm's error=0.1205\n",
      "[flaml.automl: 11-05 12:36:01] {993} INFO - iteration 515, current learner lgbm\n",
      "[flaml.automl: 11-05 12:36:01] {1141} INFO -  at 106.8s,\tbest lgbm's error=0.1205,\tbest lgbm's error=0.1205\n",
      "[flaml.automl: 11-05 12:36:01] {993} INFO - iteration 516, current learner lrl1\n",
      "[flaml.automl: 11-05 12:36:01] {1141} INFO -  at 107.0s,\tbest lrl1's error=0.2782,\tbest lgbm's error=0.1205\n",
      "[flaml.automl: 11-05 12:36:01] {993} INFO - iteration 517, current learner extra_tree\n",
      "[flaml.automl: 11-05 12:36:01] {1141} INFO -  at 107.2s,\tbest extra_tree's error=0.1487,\tbest lgbm's error=0.1205\n",
      "[flaml.automl: 11-05 12:36:01] {993} INFO - iteration 518, current learner lgbm\n",
      "[flaml.automl: 11-05 12:36:01] {1141} INFO -  at 107.3s,\tbest lgbm's error=0.1205,\tbest lgbm's error=0.1205\n",
      "[flaml.automl: 11-05 12:36:01] {993} INFO - iteration 519, current learner lgbm\n",
      "[flaml.automl: 11-05 12:36:01] {1141} INFO -  at 107.4s,\tbest lgbm's error=0.1205,\tbest lgbm's error=0.1205\n",
      "[flaml.automl: 11-05 12:36:01] {993} INFO - iteration 520, current learner lrl1\n",
      "[flaml.automl: 11-05 12:36:02] {1141} INFO -  at 107.6s,\tbest lrl1's error=0.2782,\tbest lgbm's error=0.1205\n",
      "[flaml.automl: 11-05 12:36:02] {993} INFO - iteration 521, current learner lrl1\n",
      "[flaml.automl: 11-05 12:36:02] {1141} INFO -  at 107.7s,\tbest lrl1's error=0.2782,\tbest lgbm's error=0.1205\n",
      "[flaml.automl: 11-05 12:36:02] {993} INFO - iteration 522, current learner lrl1\n",
      "[flaml.automl: 11-05 12:36:02] {1141} INFO -  at 107.8s,\tbest lrl1's error=0.2782,\tbest lgbm's error=0.1205\n",
      "[flaml.automl: 11-05 12:36:02] {993} INFO - iteration 523, current learner lgbm\n",
      "[flaml.automl: 11-05 12:36:02] {1141} INFO -  at 107.9s,\tbest lgbm's error=0.1205,\tbest lgbm's error=0.1205\n",
      "[flaml.automl: 11-05 12:36:02] {993} INFO - iteration 524, current learner lrl1\n",
      "[flaml.automl: 11-05 12:36:02] {1141} INFO -  at 108.1s,\tbest lrl1's error=0.2782,\tbest lgbm's error=0.1205\n",
      "[flaml.automl: 11-05 12:36:02] {993} INFO - iteration 525, current learner lrl1\n",
      "[flaml.automl: 11-05 12:36:02] {1141} INFO -  at 108.2s,\tbest lrl1's error=0.2782,\tbest lgbm's error=0.1205\n",
      "[flaml.automl: 11-05 12:36:02] {993} INFO - iteration 526, current learner lrl1\n",
      "[flaml.automl: 11-05 12:36:02] {1141} INFO -  at 108.3s,\tbest lrl1's error=0.2782,\tbest lgbm's error=0.1205\n",
      "[flaml.automl: 11-05 12:36:02] {993} INFO - iteration 527, current learner lrl1\n",
      "[flaml.automl: 11-05 12:36:03] {1141} INFO -  at 108.5s,\tbest lrl1's error=0.2782,\tbest lgbm's error=0.1205\n",
      "[flaml.automl: 11-05 12:36:03] {993} INFO - iteration 528, current learner lrl1\n",
      "[flaml.automl: 11-05 12:36:03] {1141} INFO -  at 108.6s,\tbest lrl1's error=0.2782,\tbest lgbm's error=0.1205\n",
      "[flaml.automl: 11-05 12:36:03] {993} INFO - iteration 529, current learner lrl1\n",
      "[flaml.automl: 11-05 12:36:03] {1141} INFO -  at 108.7s,\tbest lrl1's error=0.2782,\tbest lgbm's error=0.1205\n",
      "[flaml.automl: 11-05 12:36:03] {993} INFO - iteration 530, current learner lrl1\n",
      "[flaml.automl: 11-05 12:36:03] {1141} INFO -  at 108.8s,\tbest lrl1's error=0.2782,\tbest lgbm's error=0.1205\n",
      "[flaml.automl: 11-05 12:36:03] {993} INFO - iteration 531, current learner lgbm\n",
      "[flaml.automl: 11-05 12:36:03] {1141} INFO -  at 109.0s,\tbest lgbm's error=0.1205,\tbest lgbm's error=0.1205\n",
      "[flaml.automl: 11-05 12:36:03] {993} INFO - iteration 532, current learner lgbm\n",
      "[flaml.automl: 11-05 12:36:03] {1141} INFO -  at 109.1s,\tbest lgbm's error=0.1205,\tbest lgbm's error=0.1205\n",
      "[flaml.automl: 11-05 12:36:03] {993} INFO - iteration 533, current learner lgbm\n",
      "[flaml.automl: 11-05 12:36:03] {1141} INFO -  at 109.2s,\tbest lgbm's error=0.1205,\tbest lgbm's error=0.1205\n",
      "[flaml.automl: 11-05 12:36:03] {993} INFO - iteration 534, current learner lrl1\n",
      "[flaml.automl: 11-05 12:36:03] {1141} INFO -  at 109.4s,\tbest lrl1's error=0.2782,\tbest lgbm's error=0.1205\n",
      "[flaml.automl: 11-05 12:36:03] {993} INFO - iteration 535, current learner extra_tree\n",
      "[flaml.automl: 11-05 12:36:04] {1141} INFO -  at 109.5s,\tbest extra_tree's error=0.1487,\tbest lgbm's error=0.1205\n",
      "[flaml.automl: 11-05 12:36:04] {993} INFO - iteration 536, current learner lrl1\n",
      "[flaml.automl: 11-05 12:36:04] {1141} INFO -  at 109.7s,\tbest lrl1's error=0.2782,\tbest lgbm's error=0.1205\n",
      "[flaml.automl: 11-05 12:36:04] {993} INFO - iteration 537, current learner lgbm\n",
      "[flaml.automl: 11-05 12:36:04] {1141} INFO -  at 109.8s,\tbest lgbm's error=0.1205,\tbest lgbm's error=0.1205\n",
      "[flaml.automl: 11-05 12:36:04] {993} INFO - iteration 538, current learner lrl1\n",
      "[flaml.automl: 11-05 12:36:04] {1141} INFO -  at 109.9s,\tbest lrl1's error=0.2782,\tbest lgbm's error=0.1205\n",
      "[flaml.automl: 11-05 12:36:04] {993} INFO - iteration 539, current learner lrl1\n",
      "[flaml.automl: 11-05 12:36:04] {1141} INFO -  at 110.0s,\tbest lrl1's error=0.2782,\tbest lgbm's error=0.1205\n",
      "[flaml.automl: 11-05 12:36:04] {993} INFO - iteration 540, current learner lrl1\n",
      "[flaml.automl: 11-05 12:36:04] {1141} INFO -  at 110.2s,\tbest lrl1's error=0.2782,\tbest lgbm's error=0.1205\n",
      "[flaml.automl: 11-05 12:36:04] {993} INFO - iteration 541, current learner lrl1\n",
      "[flaml.automl: 11-05 12:36:04] {1141} INFO -  at 110.3s,\tbest lrl1's error=0.2782,\tbest lgbm's error=0.1205\n",
      "[flaml.automl: 11-05 12:36:04] {993} INFO - iteration 542, current learner lrl1\n",
      "[flaml.automl: 11-05 12:36:04] {1141} INFO -  at 110.4s,\tbest lrl1's error=0.2782,\tbest lgbm's error=0.1205\n",
      "[flaml.automl: 11-05 12:36:04] {993} INFO - iteration 543, current learner lrl1\n",
      "[flaml.automl: 11-05 12:36:05] {1141} INFO -  at 110.5s,\tbest lrl1's error=0.2782,\tbest lgbm's error=0.1205\n",
      "[flaml.automl: 11-05 12:36:05] {993} INFO - iteration 544, current learner lgbm\n",
      "[flaml.automl: 11-05 12:36:05] {1141} INFO -  at 110.6s,\tbest lgbm's error=0.1205,\tbest lgbm's error=0.1205\n",
      "[flaml.automl: 11-05 12:36:05] {993} INFO - iteration 545, current learner catboost\n",
      "[flaml.automl: 11-05 12:36:08] {1141} INFO -  at 114.0s,\tbest catboost's error=0.1308,\tbest lgbm's error=0.1205\n",
      "[flaml.automl: 11-05 12:36:08] {993} INFO - iteration 546, current learner lrl1\n",
      "[flaml.automl: 11-05 12:36:08] {1141} INFO -  at 114.1s,\tbest lrl1's error=0.2782,\tbest lgbm's error=0.1205\n",
      "[flaml.automl: 11-05 12:36:08] {993} INFO - iteration 547, current learner lrl1\n",
      "[flaml.automl: 11-05 12:36:08] {1141} INFO -  at 114.2s,\tbest lrl1's error=0.2782,\tbest lgbm's error=0.1205\n",
      "[flaml.automl: 11-05 12:36:08] {993} INFO - iteration 548, current learner lrl1\n",
      "[flaml.automl: 11-05 12:36:08] {1141} INFO -  at 114.3s,\tbest lrl1's error=0.2782,\tbest lgbm's error=0.1205\n",
      "[flaml.automl: 11-05 12:36:08] {993} INFO - iteration 549, current learner lrl1\n",
      "[flaml.automl: 11-05 12:36:09] {1141} INFO -  at 114.5s,\tbest lrl1's error=0.2782,\tbest lgbm's error=0.1205\n",
      "[flaml.automl: 11-05 12:36:09] {993} INFO - iteration 550, current learner lgbm\n",
      "[flaml.automl: 11-05 12:36:09] {1141} INFO -  at 114.6s,\tbest lgbm's error=0.1205,\tbest lgbm's error=0.1205\n",
      "[flaml.automl: 11-05 12:36:09] {993} INFO - iteration 551, current learner lgbm\n",
      "[flaml.automl: 11-05 12:36:09] {1141} INFO -  at 114.7s,\tbest lgbm's error=0.1205,\tbest lgbm's error=0.1205\n",
      "[flaml.automl: 11-05 12:36:09] {993} INFO - iteration 552, current learner lrl1\n",
      "[flaml.automl: 11-05 12:36:09] {1141} INFO -  at 114.8s,\tbest lrl1's error=0.2782,\tbest lgbm's error=0.1205\n",
      "[flaml.automl: 11-05 12:36:09] {993} INFO - iteration 553, current learner lgbm\n",
      "[flaml.automl: 11-05 12:36:09] {1141} INFO -  at 115.0s,\tbest lgbm's error=0.1205,\tbest lgbm's error=0.1205\n",
      "[flaml.automl: 11-05 12:36:09] {993} INFO - iteration 554, current learner lrl1\n",
      "[flaml.automl: 11-05 12:36:09] {1141} INFO -  at 115.1s,\tbest lrl1's error=0.2782,\tbest lgbm's error=0.1205\n",
      "[flaml.automl: 11-05 12:36:09] {993} INFO - iteration 555, current learner lgbm\n",
      "[flaml.automl: 11-05 12:36:09] {1141} INFO -  at 115.2s,\tbest lgbm's error=0.1205,\tbest lgbm's error=0.1205\n",
      "[flaml.automl: 11-05 12:36:09] {993} INFO - iteration 556, current learner extra_tree\n",
      "[flaml.automl: 11-05 12:36:10] {1141} INFO -  at 115.5s,\tbest extra_tree's error=0.1487,\tbest lgbm's error=0.1205\n",
      "[flaml.automl: 11-05 12:36:10] {993} INFO - iteration 557, current learner lrl1\n",
      "[flaml.automl: 11-05 12:36:10] {1141} INFO -  at 115.6s,\tbest lrl1's error=0.2782,\tbest lgbm's error=0.1205\n",
      "[flaml.automl: 11-05 12:36:10] {993} INFO - iteration 558, current learner lrl1\n",
      "[flaml.automl: 11-05 12:36:10] {1141} INFO -  at 115.7s,\tbest lrl1's error=0.2782,\tbest lgbm's error=0.1205\n",
      "[flaml.automl: 11-05 12:36:10] {993} INFO - iteration 559, current learner lrl1\n",
      "[flaml.automl: 11-05 12:36:10] {1141} INFO -  at 115.8s,\tbest lrl1's error=0.2782,\tbest lgbm's error=0.1205\n",
      "[flaml.automl: 11-05 12:36:10] {993} INFO - iteration 560, current learner lgbm\n",
      "[flaml.automl: 11-05 12:36:10] {1141} INFO -  at 115.9s,\tbest lgbm's error=0.1205,\tbest lgbm's error=0.1205\n",
      "[flaml.automl: 11-05 12:36:10] {993} INFO - iteration 561, current learner lgbm\n",
      "[flaml.automl: 11-05 12:36:10] {1141} INFO -  at 116.0s,\tbest lgbm's error=0.1205,\tbest lgbm's error=0.1205\n",
      "[flaml.automl: 11-05 12:36:10] {993} INFO - iteration 562, current learner lrl1\n",
      "[flaml.automl: 11-05 12:36:10] {1141} INFO -  at 116.2s,\tbest lrl1's error=0.2782,\tbest lgbm's error=0.1205\n",
      "[flaml.automl: 11-05 12:36:10] {993} INFO - iteration 563, current learner lrl1\n",
      "[flaml.automl: 11-05 12:36:10] {1141} INFO -  at 116.3s,\tbest lrl1's error=0.2782,\tbest lgbm's error=0.1205\n",
      "[flaml.automl: 11-05 12:36:10] {993} INFO - iteration 564, current learner lrl1\n",
      "[flaml.automl: 11-05 12:36:10] {1141} INFO -  at 116.4s,\tbest lrl1's error=0.2782,\tbest lgbm's error=0.1205\n",
      "[flaml.automl: 11-05 12:36:10] {993} INFO - iteration 565, current learner lgbm\n",
      "[flaml.automl: 11-05 12:36:11] {1141} INFO -  at 116.6s,\tbest lgbm's error=0.1205,\tbest lgbm's error=0.1205\n",
      "[flaml.automl: 11-05 12:36:11] {993} INFO - iteration 566, current learner lgbm\n",
      "[flaml.automl: 11-05 12:36:11] {1141} INFO -  at 116.7s,\tbest lgbm's error=0.1205,\tbest lgbm's error=0.1205\n",
      "[flaml.automl: 11-05 12:36:11] {993} INFO - iteration 567, current learner lrl1\n",
      "[flaml.automl: 11-05 12:36:11] {1141} INFO -  at 116.8s,\tbest lrl1's error=0.2782,\tbest lgbm's error=0.1205\n",
      "[flaml.automl: 11-05 12:36:11] {993} INFO - iteration 568, current learner lrl1\n",
      "[flaml.automl: 11-05 12:36:11] {1141} INFO -  at 117.0s,\tbest lrl1's error=0.2782,\tbest lgbm's error=0.1205\n",
      "[flaml.automl: 11-05 12:36:11] {993} INFO - iteration 569, current learner lgbm\n",
      "[flaml.automl: 11-05 12:36:11] {1141} INFO -  at 117.1s,\tbest lgbm's error=0.1205,\tbest lgbm's error=0.1205\n",
      "[flaml.automl: 11-05 12:36:11] {993} INFO - iteration 570, current learner lrl1\n",
      "[flaml.automl: 11-05 12:36:11] {1141} INFO -  at 117.2s,\tbest lrl1's error=0.2782,\tbest lgbm's error=0.1205\n",
      "[flaml.automl: 11-05 12:36:11] {993} INFO - iteration 571, current learner lrl1\n",
      "[flaml.automl: 11-05 12:36:11] {1141} INFO -  at 117.4s,\tbest lrl1's error=0.2782,\tbest lgbm's error=0.1205\n",
      "[flaml.automl: 11-05 12:36:11] {993} INFO - iteration 572, current learner lrl1\n",
      "[flaml.automl: 11-05 12:36:12] {1141} INFO -  at 117.5s,\tbest lrl1's error=0.2782,\tbest lgbm's error=0.1205\n",
      "[flaml.automl: 11-05 12:36:12] {993} INFO - iteration 573, current learner lrl1\n",
      "[flaml.automl: 11-05 12:36:12] {1141} INFO -  at 117.6s,\tbest lrl1's error=0.2782,\tbest lgbm's error=0.1205\n",
      "[flaml.automl: 11-05 12:36:12] {993} INFO - iteration 574, current learner lrl1\n",
      "[flaml.automl: 11-05 12:36:12] {1141} INFO -  at 117.8s,\tbest lrl1's error=0.2782,\tbest lgbm's error=0.1205\n",
      "[flaml.automl: 11-05 12:36:12] {993} INFO - iteration 575, current learner lgbm\n",
      "[flaml.automl: 11-05 12:36:12] {1141} INFO -  at 117.9s,\tbest lgbm's error=0.1205,\tbest lgbm's error=0.1205\n",
      "[flaml.automl: 11-05 12:36:12] {993} INFO - iteration 576, current learner lrl1\n",
      "[flaml.automl: 11-05 12:36:12] {1141} INFO -  at 118.0s,\tbest lrl1's error=0.2782,\tbest lgbm's error=0.1205\n",
      "[flaml.automl: 11-05 12:36:12] {993} INFO - iteration 577, current learner lrl1\n",
      "[flaml.automl: 11-05 12:36:12] {1141} INFO -  at 118.2s,\tbest lrl1's error=0.2782,\tbest lgbm's error=0.1205\n",
      "[flaml.automl: 11-05 12:36:12] {993} INFO - iteration 578, current learner lrl1\n",
      "[flaml.automl: 11-05 12:36:12] {1141} INFO -  at 118.3s,\tbest lrl1's error=0.2782,\tbest lgbm's error=0.1205\n",
      "[flaml.automl: 11-05 12:36:12] {993} INFO - iteration 579, current learner lrl1\n",
      "[flaml.automl: 11-05 12:36:12] {1141} INFO -  at 118.4s,\tbest lrl1's error=0.2782,\tbest lgbm's error=0.1205\n",
      "[flaml.automl: 11-05 12:36:12] {993} INFO - iteration 580, current learner lrl1\n",
      "[flaml.automl: 11-05 12:36:13] {1141} INFO -  at 118.5s,\tbest lrl1's error=0.2782,\tbest lgbm's error=0.1205\n",
      "[flaml.automl: 11-05 12:36:13] {993} INFO - iteration 581, current learner lrl1\n",
      "[flaml.automl: 11-05 12:36:13] {1141} INFO -  at 118.6s,\tbest lrl1's error=0.2782,\tbest lgbm's error=0.1205\n",
      "[flaml.automl: 11-05 12:36:13] {993} INFO - iteration 582, current learner lgbm\n",
      "[flaml.automl: 11-05 12:36:13] {1141} INFO -  at 118.8s,\tbest lgbm's error=0.1205,\tbest lgbm's error=0.1205\n",
      "[flaml.automl: 11-05 12:36:13] {993} INFO - iteration 583, current learner lrl1\n",
      "[flaml.automl: 11-05 12:36:13] {1141} INFO -  at 118.9s,\tbest lrl1's error=0.2782,\tbest lgbm's error=0.1205\n",
      "[flaml.automl: 11-05 12:36:13] {993} INFO - iteration 584, current learner lrl1\n",
      "[flaml.automl: 11-05 12:36:13] {1141} INFO -  at 119.0s,\tbest lrl1's error=0.2782,\tbest lgbm's error=0.1205\n",
      "[flaml.automl: 11-05 12:36:13] {993} INFO - iteration 585, current learner lgbm\n",
      "[flaml.automl: 11-05 12:36:13] {1141} INFO -  at 119.1s,\tbest lgbm's error=0.1205,\tbest lgbm's error=0.1205\n",
      "[flaml.automl: 11-05 12:36:13] {993} INFO - iteration 586, current learner lrl1\n",
      "[flaml.automl: 11-05 12:36:13] {1141} INFO -  at 119.3s,\tbest lrl1's error=0.2782,\tbest lgbm's error=0.1205\n",
      "[flaml.automl: 11-05 12:36:13] {993} INFO - iteration 587, current learner lgbm\n",
      "[flaml.automl: 11-05 12:36:13] {1141} INFO -  at 119.4s,\tbest lgbm's error=0.1205,\tbest lgbm's error=0.1205\n",
      "[flaml.automl: 11-05 12:36:13] {993} INFO - iteration 588, current learner lrl1\n",
      "[flaml.automl: 11-05 12:36:14] {1141} INFO -  at 119.6s,\tbest lrl1's error=0.2782,\tbest lgbm's error=0.1205\n",
      "[flaml.automl: 11-05 12:36:14] {993} INFO - iteration 589, current learner lgbm\n",
      "[flaml.automl: 11-05 12:36:14] {1141} INFO -  at 119.7s,\tbest lgbm's error=0.1205,\tbest lgbm's error=0.1205\n",
      "[flaml.automl: 11-05 12:36:14] {993} INFO - iteration 590, current learner lrl1\n",
      "[flaml.automl: 11-05 12:36:14] {1141} INFO -  at 119.8s,\tbest lrl1's error=0.2782,\tbest lgbm's error=0.1205\n",
      "[flaml.automl: 11-05 12:36:14] {993} INFO - iteration 591, current learner lrl1\n",
      "[flaml.automl: 11-05 12:36:14] {1141} INFO -  at 120.0s,\tbest lrl1's error=0.2782,\tbest lgbm's error=0.1205\n",
      "[flaml.automl: 11-05 12:36:14] {1187} INFO - selected model: LGBMClassifier(colsample_bytree=0.7781686379822503,\n",
      "               learning_rate=0.40519458768866623, max_bin=255,\n",
      "               min_child_samples=73, n_estimators=12, num_leaves=8,\n",
      "               objective='binary', reg_alpha=0.04756204061476492,\n",
      "               reg_lambda=0.23270963015251847, subsample=0.9114565637952721)\n",
      "[flaml.automl: 11-05 12:36:14] {944} INFO - fit succeeded\n"
     ]
    }
   ],
   "source": [
    "\n",
    "automl.fit(X_train=X_train, y_train=y_train, **settings)"
   ]
  },
  {
   "cell_type": "code",
   "execution_count": 31,
   "metadata": {},
   "outputs": [
    {
     "name": "stdout",
     "output_type": "stream",
     "text": [
      "Best ML leaner: lgbm\n",
      "Best hyperparmeter config: {'n_estimators': 12.0, 'num_leaves': 8.0, 'min_child_samples': 73.0, 'learning_rate': 0.40519458768866623, 'subsample': 0.9114565637952721, 'log_max_bin': 8.0, 'colsample_bytree': 0.7781686379822503, 'reg_alpha': 0.04756204061476492, 'reg_lambda': 0.23270963015251847}\n",
      "Best accuracy on validation data: 0.8795\n",
      "Training duration of best run: 0.1437 s\n"
     ]
    }
   ],
   "source": [
    "''' retrieve best config and best learner'''\n",
    "print('Best ML leaner:', automl.best_estimator)\n",
    "print('Best hyperparmeter config:', automl.best_config)\n",
    "print('Best accuracy on validation data: {0:.4g}'.format(1-automl.best_loss))\n",
    "print('Training duration of best run: {0:.4g} s'.format(automl.best_config_train_time))"
   ]
  },
  {
   "cell_type": "code",
   "execution_count": 35,
   "metadata": {},
   "outputs": [
    {
     "data": {
      "text/plain": [
       "LGBMClassifier(colsample_bytree=0.7781686379822503,\n",
       "               learning_rate=0.40519458768866623, max_bin=255,\n",
       "               min_child_samples=73, n_estimators=12, num_leaves=8,\n",
       "               objective='binary', reg_alpha=0.04756204061476492,\n",
       "               reg_lambda=0.23270963015251847, subsample=0.9114565637952721)"
      ]
     },
     "execution_count": 35,
     "metadata": {},
     "output_type": "execute_result"
    }
   ],
   "source": [
    "LGBMClassifier_automl = automl.model\n",
    "LGBMClassifier_automl"
   ]
  },
  {
   "cell_type": "code",
   "execution_count": 36,
   "id": "08f048d8",
   "metadata": {},
   "outputs": [
    {
     "name": "stdout",
     "output_type": "stream",
     "text": [
      "Predicted labels [1 1 0 1 1 0 1 1 1 1 1 1 1 0 1 1 1 0 0 1 0 1 1 1 1 1 0 0 1 1 0 0 1 0 1 1 0\n",
      " 1 0 1 1 1 0 1 1 1 1 1 1 0 1 1 1 1 0 1 1 1 0 1 1 1 1 1 1 1 1 1 0 1 1 1 1 1\n",
      " 0 1 1 0 1 1 0 1 1 1 1 1 0 0 1 1 1 1 1 0 0 1 1 0 1 1 1 1 1 0 1 1 1 1 1 1 1\n",
      " 1 1 1 1 1 0 1 1 1 1 1 1 1 1 1 1 1 0 1 0 1 0 0 0 1 1 1]\n",
      "True labels 343    Heart Disease\n",
      "284           Normal\n",
      "282           Normal\n",
      "744    Heart Disease\n",
      "585    Heart Disease\n",
      "           ...      \n",
      "672           Normal\n",
      "619           Normal\n",
      "491    Heart Disease\n",
      "908    Heart Disease\n",
      "917           Normal\n",
      "Name: HeartDisease, Length: 138, dtype: category\n",
      "Categories (2, object): ['Heart Disease', 'Normal']\n"
     ]
    }
   ],
   "source": [
    "''' compute predictions of testing dataset ''' \n",
    "y_pred = LGBMClassifier_automl.predict(X_test)\n",
    "print('Predicted labels', y_pred)\n",
    "print('True labels', y_test)\n",
    "y_pred_proba = LGBMClassifier_automl.predict_proba(X_test)[:,1]"
   ]
  },
  {
   "cell_type": "code",
   "execution_count": null,
   "id": "d2947cf1",
   "metadata": {},
   "outputs": [],
   "source": [
    "y_pred = "
   ]
  },
  {
   "cell_type": "code",
   "execution_count": 37,
   "id": "59340010",
   "metadata": {},
   "outputs": [
    {
     "ename": "TypeError",
     "evalue": "Labels in y_true and y_pred should be of the same type. Got y_true=['Heart Disease' 'Normal'] and y_pred=[0 1]. Make sure that the predictions provided by the classifier coincides with the true labels.",
     "output_type": "error",
     "traceback": [
      "\u001b[0;31m---------------------------------------------------------------------------\u001b[0m",
      "\u001b[0;31mTypeError\u001b[0m                                 Traceback (most recent call last)",
      "\u001b[0;32m~/opt/miniconda3/lib/python3.8/site-packages/sklearn/metrics/_classification.py\u001b[0m in \u001b[0;36m_check_targets\u001b[0;34m(y_true, y_pred)\u001b[0m\n\u001b[1;32m    106\u001b[0m             \u001b[0;32mtry\u001b[0m\u001b[0;34m:\u001b[0m\u001b[0;34m\u001b[0m\u001b[0;34m\u001b[0m\u001b[0m\n\u001b[0;32m--> 107\u001b[0;31m                 \u001b[0munique_values\u001b[0m \u001b[0;34m=\u001b[0m \u001b[0mnp\u001b[0m\u001b[0;34m.\u001b[0m\u001b[0munion1d\u001b[0m\u001b[0;34m(\u001b[0m\u001b[0my_true\u001b[0m\u001b[0;34m,\u001b[0m \u001b[0my_pred\u001b[0m\u001b[0;34m)\u001b[0m\u001b[0;34m\u001b[0m\u001b[0;34m\u001b[0m\u001b[0m\n\u001b[0m\u001b[1;32m    108\u001b[0m             \u001b[0;32mexcept\u001b[0m \u001b[0mTypeError\u001b[0m \u001b[0;32mas\u001b[0m \u001b[0me\u001b[0m\u001b[0;34m:\u001b[0m\u001b[0;34m\u001b[0m\u001b[0;34m\u001b[0m\u001b[0m\n",
      "\u001b[0;32m<__array_function__ internals>\u001b[0m in \u001b[0;36munion1d\u001b[0;34m(*args, **kwargs)\u001b[0m\n",
      "\u001b[0;32m~/opt/miniconda3/lib/python3.8/site-packages/numpy/lib/arraysetops.py\u001b[0m in \u001b[0;36munion1d\u001b[0;34m(ar1, ar2)\u001b[0m\n\u001b[1;32m    776\u001b[0m     \"\"\"\n\u001b[0;32m--> 777\u001b[0;31m     \u001b[0;32mreturn\u001b[0m \u001b[0munique\u001b[0m\u001b[0;34m(\u001b[0m\u001b[0mnp\u001b[0m\u001b[0;34m.\u001b[0m\u001b[0mconcatenate\u001b[0m\u001b[0;34m(\u001b[0m\u001b[0;34m(\u001b[0m\u001b[0mar1\u001b[0m\u001b[0;34m,\u001b[0m \u001b[0mar2\u001b[0m\u001b[0;34m)\u001b[0m\u001b[0;34m,\u001b[0m \u001b[0maxis\u001b[0m\u001b[0;34m=\u001b[0m\u001b[0;32mNone\u001b[0m\u001b[0;34m)\u001b[0m\u001b[0;34m)\u001b[0m\u001b[0;34m\u001b[0m\u001b[0;34m\u001b[0m\u001b[0m\n\u001b[0m\u001b[1;32m    778\u001b[0m \u001b[0;34m\u001b[0m\u001b[0m\n",
      "\u001b[0;32m<__array_function__ internals>\u001b[0m in \u001b[0;36munique\u001b[0;34m(*args, **kwargs)\u001b[0m\n",
      "\u001b[0;32m~/opt/miniconda3/lib/python3.8/site-packages/numpy/lib/arraysetops.py\u001b[0m in \u001b[0;36munique\u001b[0;34m(ar, return_index, return_inverse, return_counts, axis)\u001b[0m\n\u001b[1;32m    271\u001b[0m     \u001b[0;32mif\u001b[0m \u001b[0maxis\u001b[0m \u001b[0;32mis\u001b[0m \u001b[0;32mNone\u001b[0m\u001b[0;34m:\u001b[0m\u001b[0;34m\u001b[0m\u001b[0;34m\u001b[0m\u001b[0m\n\u001b[0;32m--> 272\u001b[0;31m         \u001b[0mret\u001b[0m \u001b[0;34m=\u001b[0m \u001b[0m_unique1d\u001b[0m\u001b[0;34m(\u001b[0m\u001b[0mar\u001b[0m\u001b[0;34m,\u001b[0m \u001b[0mreturn_index\u001b[0m\u001b[0;34m,\u001b[0m \u001b[0mreturn_inverse\u001b[0m\u001b[0;34m,\u001b[0m \u001b[0mreturn_counts\u001b[0m\u001b[0;34m)\u001b[0m\u001b[0;34m\u001b[0m\u001b[0;34m\u001b[0m\u001b[0m\n\u001b[0m\u001b[1;32m    273\u001b[0m         \u001b[0;32mreturn\u001b[0m \u001b[0m_unpack_tuple\u001b[0m\u001b[0;34m(\u001b[0m\u001b[0mret\u001b[0m\u001b[0;34m)\u001b[0m\u001b[0;34m\u001b[0m\u001b[0;34m\u001b[0m\u001b[0m\n",
      "\u001b[0;32m~/opt/miniconda3/lib/python3.8/site-packages/numpy/lib/arraysetops.py\u001b[0m in \u001b[0;36m_unique1d\u001b[0;34m(ar, return_index, return_inverse, return_counts)\u001b[0m\n\u001b[1;32m    332\u001b[0m     \u001b[0;32melse\u001b[0m\u001b[0;34m:\u001b[0m\u001b[0;34m\u001b[0m\u001b[0;34m\u001b[0m\u001b[0m\n\u001b[0;32m--> 333\u001b[0;31m         \u001b[0mar\u001b[0m\u001b[0;34m.\u001b[0m\u001b[0msort\u001b[0m\u001b[0;34m(\u001b[0m\u001b[0;34m)\u001b[0m\u001b[0;34m\u001b[0m\u001b[0;34m\u001b[0m\u001b[0m\n\u001b[0m\u001b[1;32m    334\u001b[0m         \u001b[0maux\u001b[0m \u001b[0;34m=\u001b[0m \u001b[0mar\u001b[0m\u001b[0;34m\u001b[0m\u001b[0;34m\u001b[0m\u001b[0m\n",
      "\u001b[0;31mTypeError\u001b[0m: '<' not supported between instances of 'int' and 'str'",
      "\nThe above exception was the direct cause of the following exception:\n",
      "\u001b[0;31mTypeError\u001b[0m                                 Traceback (most recent call last)",
      "\u001b[0;32m/var/folders/hr/6jy0njs95mj83pskqjk6pjhr0000gn/T/ipykernel_1079/461625124.py\u001b[0m in \u001b[0;36m<module>\u001b[0;34m\u001b[0m\n\u001b[1;32m      1\u001b[0m \u001b[0;34m''' compute different metric values on testing dataset'''\u001b[0m\u001b[0;34m\u001b[0m\u001b[0;34m\u001b[0m\u001b[0m\n\u001b[1;32m      2\u001b[0m \u001b[0;32mfrom\u001b[0m \u001b[0mflaml\u001b[0m\u001b[0;34m.\u001b[0m\u001b[0mml\u001b[0m \u001b[0;32mimport\u001b[0m \u001b[0msklearn_metric_loss_score\u001b[0m\u001b[0;34m\u001b[0m\u001b[0;34m\u001b[0m\u001b[0m\n\u001b[0;32m----> 3\u001b[0;31m \u001b[0mprint\u001b[0m\u001b[0;34m(\u001b[0m\u001b[0;34m'accuracy'\u001b[0m\u001b[0;34m,\u001b[0m \u001b[0;34m'='\u001b[0m\u001b[0;34m,\u001b[0m \u001b[0;36m1\u001b[0m \u001b[0;34m-\u001b[0m \u001b[0msklearn_metric_loss_score\u001b[0m\u001b[0;34m(\u001b[0m\u001b[0;34m'accuracy'\u001b[0m\u001b[0;34m,\u001b[0m \u001b[0my_pred\u001b[0m\u001b[0;34m,\u001b[0m \u001b[0my_test\u001b[0m\u001b[0;34m)\u001b[0m\u001b[0;34m)\u001b[0m\u001b[0;34m\u001b[0m\u001b[0;34m\u001b[0m\u001b[0m\n\u001b[0m\u001b[1;32m      4\u001b[0m \u001b[0mprint\u001b[0m\u001b[0;34m(\u001b[0m\u001b[0;34m'roc_auc'\u001b[0m\u001b[0;34m,\u001b[0m \u001b[0;34m'='\u001b[0m\u001b[0;34m,\u001b[0m \u001b[0;36m1\u001b[0m \u001b[0;34m-\u001b[0m \u001b[0msklearn_metric_loss_score\u001b[0m\u001b[0;34m(\u001b[0m\u001b[0;34m'roc_auc'\u001b[0m\u001b[0;34m,\u001b[0m \u001b[0my_pred_proba\u001b[0m\u001b[0;34m,\u001b[0m \u001b[0my_test\u001b[0m\u001b[0;34m)\u001b[0m\u001b[0;34m)\u001b[0m\u001b[0;34m\u001b[0m\u001b[0;34m\u001b[0m\u001b[0m\n\u001b[1;32m      5\u001b[0m \u001b[0mprint\u001b[0m\u001b[0;34m(\u001b[0m\u001b[0;34m'log_loss'\u001b[0m\u001b[0;34m,\u001b[0m \u001b[0;34m'='\u001b[0m\u001b[0;34m,\u001b[0m \u001b[0msklearn_metric_loss_score\u001b[0m\u001b[0;34m(\u001b[0m\u001b[0;34m'log_loss'\u001b[0m\u001b[0;34m,\u001b[0m \u001b[0my_pred_proba\u001b[0m\u001b[0;34m,\u001b[0m \u001b[0my_test\u001b[0m\u001b[0;34m)\u001b[0m\u001b[0;34m)\u001b[0m\u001b[0;34m\u001b[0m\u001b[0;34m\u001b[0m\u001b[0m\n",
      "\u001b[0;32m~/opt/miniconda3/lib/python3.8/site-packages/flaml/ml.py\u001b[0m in \u001b[0;36msklearn_metric_loss_score\u001b[0;34m(metric_name, y_predict, y_true, labels, sample_weight)\u001b[0m\n\u001b[1;32m     81\u001b[0m             y_true, y_predict, sample_weight=sample_weight)\n\u001b[1;32m     82\u001b[0m     \u001b[0;32melif\u001b[0m \u001b[0mmetric_name\u001b[0m \u001b[0;34m==\u001b[0m \u001b[0;34m'accuracy'\u001b[0m\u001b[0;34m:\u001b[0m\u001b[0;34m\u001b[0m\u001b[0;34m\u001b[0m\u001b[0m\n\u001b[0;32m---> 83\u001b[0;31m         score = 1.0 - accuracy_score(\n\u001b[0m\u001b[1;32m     84\u001b[0m             y_true, y_predict, sample_weight=sample_weight)\n\u001b[1;32m     85\u001b[0m     \u001b[0;32melif\u001b[0m \u001b[0;34m'roc_auc'\u001b[0m \u001b[0;32min\u001b[0m \u001b[0mmetric_name\u001b[0m\u001b[0;34m:\u001b[0m\u001b[0;34m\u001b[0m\u001b[0;34m\u001b[0m\u001b[0m\n",
      "\u001b[0;32m~/opt/miniconda3/lib/python3.8/site-packages/sklearn/utils/validation.py\u001b[0m in \u001b[0;36minner_f\u001b[0;34m(*args, **kwargs)\u001b[0m\n\u001b[1;32m     61\u001b[0m             \u001b[0mextra_args\u001b[0m \u001b[0;34m=\u001b[0m \u001b[0mlen\u001b[0m\u001b[0;34m(\u001b[0m\u001b[0margs\u001b[0m\u001b[0;34m)\u001b[0m \u001b[0;34m-\u001b[0m \u001b[0mlen\u001b[0m\u001b[0;34m(\u001b[0m\u001b[0mall_args\u001b[0m\u001b[0;34m)\u001b[0m\u001b[0;34m\u001b[0m\u001b[0;34m\u001b[0m\u001b[0m\n\u001b[1;32m     62\u001b[0m             \u001b[0;32mif\u001b[0m \u001b[0mextra_args\u001b[0m \u001b[0;34m<=\u001b[0m \u001b[0;36m0\u001b[0m\u001b[0;34m:\u001b[0m\u001b[0;34m\u001b[0m\u001b[0;34m\u001b[0m\u001b[0m\n\u001b[0;32m---> 63\u001b[0;31m                 \u001b[0;32mreturn\u001b[0m \u001b[0mf\u001b[0m\u001b[0;34m(\u001b[0m\u001b[0;34m*\u001b[0m\u001b[0margs\u001b[0m\u001b[0;34m,\u001b[0m \u001b[0;34m**\u001b[0m\u001b[0mkwargs\u001b[0m\u001b[0;34m)\u001b[0m\u001b[0;34m\u001b[0m\u001b[0;34m\u001b[0m\u001b[0m\n\u001b[0m\u001b[1;32m     64\u001b[0m \u001b[0;34m\u001b[0m\u001b[0m\n\u001b[1;32m     65\u001b[0m             \u001b[0;31m# extra_args > 0\u001b[0m\u001b[0;34m\u001b[0m\u001b[0;34m\u001b[0m\u001b[0;34m\u001b[0m\u001b[0m\n",
      "\u001b[0;32m~/opt/miniconda3/lib/python3.8/site-packages/sklearn/metrics/_classification.py\u001b[0m in \u001b[0;36maccuracy_score\u001b[0;34m(y_true, y_pred, normalize, sample_weight)\u001b[0m\n\u001b[1;32m    200\u001b[0m \u001b[0;34m\u001b[0m\u001b[0m\n\u001b[1;32m    201\u001b[0m     \u001b[0;31m# Compute accuracy for each possible representation\u001b[0m\u001b[0;34m\u001b[0m\u001b[0;34m\u001b[0m\u001b[0;34m\u001b[0m\u001b[0m\n\u001b[0;32m--> 202\u001b[0;31m     \u001b[0my_type\u001b[0m\u001b[0;34m,\u001b[0m \u001b[0my_true\u001b[0m\u001b[0;34m,\u001b[0m \u001b[0my_pred\u001b[0m \u001b[0;34m=\u001b[0m \u001b[0m_check_targets\u001b[0m\u001b[0;34m(\u001b[0m\u001b[0my_true\u001b[0m\u001b[0;34m,\u001b[0m \u001b[0my_pred\u001b[0m\u001b[0;34m)\u001b[0m\u001b[0;34m\u001b[0m\u001b[0;34m\u001b[0m\u001b[0m\n\u001b[0m\u001b[1;32m    203\u001b[0m     \u001b[0mcheck_consistent_length\u001b[0m\u001b[0;34m(\u001b[0m\u001b[0my_true\u001b[0m\u001b[0;34m,\u001b[0m \u001b[0my_pred\u001b[0m\u001b[0;34m,\u001b[0m \u001b[0msample_weight\u001b[0m\u001b[0;34m)\u001b[0m\u001b[0;34m\u001b[0m\u001b[0;34m\u001b[0m\u001b[0m\n\u001b[1;32m    204\u001b[0m     \u001b[0;32mif\u001b[0m \u001b[0my_type\u001b[0m\u001b[0;34m.\u001b[0m\u001b[0mstartswith\u001b[0m\u001b[0;34m(\u001b[0m\u001b[0;34m'multilabel'\u001b[0m\u001b[0;34m)\u001b[0m\u001b[0;34m:\u001b[0m\u001b[0;34m\u001b[0m\u001b[0;34m\u001b[0m\u001b[0m\n",
      "\u001b[0;32m~/opt/miniconda3/lib/python3.8/site-packages/sklearn/metrics/_classification.py\u001b[0m in \u001b[0;36m_check_targets\u001b[0;34m(y_true, y_pred)\u001b[0m\n\u001b[1;32m    111\u001b[0m                 \u001b[0;31m# `y_pred` given by the classifier will also be encoded with\u001b[0m\u001b[0;34m\u001b[0m\u001b[0;34m\u001b[0m\u001b[0;34m\u001b[0m\u001b[0m\n\u001b[1;32m    112\u001b[0m                 \u001b[0;31m# strings. So we raise a meaningful error\u001b[0m\u001b[0;34m\u001b[0m\u001b[0;34m\u001b[0m\u001b[0;34m\u001b[0m\u001b[0m\n\u001b[0;32m--> 113\u001b[0;31m                 raise TypeError(\n\u001b[0m\u001b[1;32m    114\u001b[0m                     \u001b[0;34mf\"Labels in y_true and y_pred should be of the same type. \"\u001b[0m\u001b[0;34m\u001b[0m\u001b[0;34m\u001b[0m\u001b[0m\n\u001b[1;32m    115\u001b[0m                     \u001b[0;34mf\"Got y_true={np.unique(y_true)} and \"\u001b[0m\u001b[0;34m\u001b[0m\u001b[0;34m\u001b[0m\u001b[0m\n",
      "\u001b[0;31mTypeError\u001b[0m: Labels in y_true and y_pred should be of the same type. Got y_true=['Heart Disease' 'Normal'] and y_pred=[0 1]. Make sure that the predictions provided by the classifier coincides with the true labels."
     ]
    }
   ],
   "source": [
    "''' compute different metric values on testing dataset'''\n",
    "from flaml.ml import sklearn_metric_loss_score\n",
    "print('accuracy', '=', 1 - sklearn_metric_loss_score('accuracy', y_pred, y_test))\n",
    "print('roc_auc', '=', 1 - sklearn_metric_loss_score('roc_auc', y_pred_proba, y_test))\n",
    "print('log_loss', '=', sklearn_metric_loss_score('log_loss', y_pred_proba, y_test))"
   ]
  },
  {
   "cell_type": "markdown",
   "metadata": {},
   "source": [
    "## SHAP\n",
    "> SHAP (SHapley Additive exPlanations) is a game theoretic approach to explain the output of any machine learning model. It connects optimal credit allocation with local explanations using the classic Shapley values from game theory and their related extensions.\n",
    "\n",
    "[<img src=\"https://shap.readthedocs.io/en/latest/_images/shap_header.png\" width=800>](https://shap.readthedocs.io/en/latest/)\n",
    "* doc: https://shap.readthedocs.io/en/latest/\n",
    "* installation:\n",
    "    * `pip install shap` or\n",
    "    * `conda install -c conda-forge shap`"
   ]
  },
  {
   "cell_type": "code",
   "execution_count": null,
   "metadata": {},
   "outputs": [],
   "source": [
    "import shap\n",
    "print(f'shap version {shap.__version__}')\n",
    "# load JS visualization code to notebook\n",
    "shap.initjs()"
   ]
  },
  {
   "cell_type": "code",
   "execution_count": null,
   "metadata": {},
   "outputs": [],
   "source": [
    "def case_detail(case_data):\n",
    "    '''\n",
    "    format obj returned from shap.force_plot()\n",
    "    '''\n",
    "    de=pd.DataFrame(case_data.data['features'])\n",
    "    fcols=[]\n",
    "    for i in case_data.data['features'].keys():\n",
    "        fcols.append(case_data.data['featureNames'][i])\n",
    "    de.columns=fcols\n",
    "    return de\n",
    "\n",
    "def individual_case_plot(explainer, X, case_index, verbose=False):\n",
    "    \"\"\"\n",
    "    >>> individual_case_plot(explainer, X_train, 1)\n",
    "    \"\"\"\n",
    "    shap_values = explainer.shap_values(X.iloc[[case_index]])\n",
    "    g=shap.force_plot(explainer.expected_value, shap_values=shap_values, features=X.iloc[case_index, :])\n",
    "    if verbose:\n",
    "        pprint(g.__dict__)\n",
    "    return g"
   ]
  },
  {
   "cell_type": "code",
   "execution_count": null,
   "metadata": {},
   "outputs": [],
   "source": [
    "# explain the model's predictions using SHAP\n",
    "explainer = shap.TreeExplainer(automl.model)\n",
    "shap_values = explainer.shap_values(X_test)\n"
   ]
  },
  {
   "cell_type": "code",
   "execution_count": null,
   "metadata": {},
   "outputs": [],
   "source": [
    "X"
   ]
  },
  {
   "cell_type": "code",
   "execution_count": null,
   "metadata": {},
   "outputs": [],
   "source": [
    "shap_values[:3]"
   ]
  },
  {
   "cell_type": "code",
   "execution_count": null,
   "metadata": {},
   "outputs": [],
   "source": [
    "shap.summary_plot(shap_values, X_train, plot_type=\"bar\")"
   ]
  },
  {
   "cell_type": "code",
   "execution_count": null,
   "metadata": {},
   "outputs": [],
   "source": [
    "feature_cols"
   ]
  },
  {
   "cell_type": "code",
   "execution_count": null,
   "metadata": {},
   "outputs": [],
   "source": [
    "dshap=pd.DataFrame(shap_values, columns=feature_cols)\n",
    "dshap"
   ]
  },
  {
   "cell_type": "code",
   "execution_count": null,
   "metadata": {},
   "outputs": [],
   "source": []
  }
 ],
 "metadata": {
  "interpreter": {
   "hash": "2e1ef02dcdc04607a04a36ee655d83aaa9a18b04912a444c40e34ab5c9cce60a"
  },
  "kernelspec": {
   "display_name": "Python 3.8.2 64-bit ('base': conda)",
   "name": "python3"
  },
  "language_info": {
   "codemirror_mode": {
    "name": "ipython",
    "version": 3
   },
   "file_extension": ".py",
   "mimetype": "text/x-python",
   "name": "python",
   "nbconvert_exporter": "python",
   "pygments_lexer": "ipython3",
   "version": "3.8.2"
  }
 },
 "nbformat": 4,
 "nbformat_minor": 5
}
